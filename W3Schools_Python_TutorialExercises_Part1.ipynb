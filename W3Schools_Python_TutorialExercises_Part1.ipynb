{
 "cells": [
  {
   "cell_type": "markdown",
   "id": "8ae4fdcc-497e-4ac9-be42-7f74b36fc7e4",
   "metadata": {},
   "source": [
    "##### Note: This workbook consists of only the code part of Python tutorial from w3schools.com\n",
    "##### URL: https://www.w3schools.com/python/default.asp"
   ]
  },
  {
   "cell_type": "markdown",
   "id": "c67081f5-0256-44dd-9813-08e78b343e80",
   "metadata": {},
   "source": [
    "# 1. Python Intro"
   ]
  },
  {
   "cell_type": "code",
   "execution_count": 3,
   "id": "72bc707e-cfac-48ea-a3ec-97160595b6e2",
   "metadata": {},
   "outputs": [
    {
     "name": "stdout",
     "output_type": "stream",
     "text": [
      "Hello, World!\n"
     ]
    }
   ],
   "source": [
    "# First Python code\n",
    "print(\"Hello, World!\")"
   ]
  },
  {
   "cell_type": "markdown",
   "id": "83157fc9-eab1-4f45-be26-15944ad08581",
   "metadata": {},
   "source": [
    "# 2. Python Getting Started"
   ]
  },
  {
   "cell_type": "code",
   "execution_count": 6,
   "id": "28b67b08-2fe3-4780-8601-70996f3f3f5f",
   "metadata": {},
   "outputs": [
    {
     "name": "stdout",
     "output_type": "stream",
     "text": [
      "Python 3.12.7\n"
     ]
    }
   ],
   "source": [
    "! python --version"
   ]
  },
  {
   "cell_type": "code",
   "execution_count": 8,
   "id": "964e0dd0-656e-4e05-97ab-23d80be9d18f",
   "metadata": {},
   "outputs": [
    {
     "name": "stdout",
     "output_type": "stream",
     "text": [
      "3.12.7 | packaged by Anaconda, Inc. | (main, Oct  4 2024, 13:17:27) [MSC v.1929 64 bit (AMD64)]\n"
     ]
    }
   ],
   "source": [
    "# To check the Python version of the editor\n",
    "import sys\n",
    "\n",
    "print(sys.version)"
   ]
  },
  {
   "cell_type": "markdown",
   "id": "32fa2e81-2dc6-44af-9ff5-97f8d701ab5b",
   "metadata": {},
   "source": [
    "# 3. Python Indentation"
   ]
  },
  {
   "cell_type": "code",
   "execution_count": 11,
   "id": "ebeb50d8-baa7-4d16-ab8d-6290423ec49f",
   "metadata": {},
   "outputs": [
    {
     "name": "stdout",
     "output_type": "stream",
     "text": [
      "Five is greater than two!\n"
     ]
    }
   ],
   "source": [
    "if 5 > 2: # when clicked enter after this line, code automatically incorporated indentation for the next line\n",
    "    print(\"Five is greater than two!\")"
   ]
  },
  {
   "cell_type": "code",
   "execution_count": 13,
   "id": "52aa2708-0e3f-4ab2-8058-8fce6ac31fa9",
   "metadata": {},
   "outputs": [
    {
     "ename": "IndentationError",
     "evalue": "expected an indented block after 'if' statement on line 1 (1389095115.py, line 2)",
     "output_type": "error",
     "traceback": [
      "\u001b[1;36m  Cell \u001b[1;32mIn[13], line 2\u001b[1;36m\u001b[0m\n\u001b[1;33m    print(\"Five is greater than two!\") # this will result in error\u001b[0m\n\u001b[1;37m    ^\u001b[0m\n\u001b[1;31mIndentationError\u001b[0m\u001b[1;31m:\u001b[0m expected an indented block after 'if' statement on line 1\n"
     ]
    }
   ],
   "source": [
    "if 5 > 2:\n",
    "print(\"Five is greater than two!\") # this will result in error"
   ]
  },
  {
   "cell_type": "code",
   "execution_count": 15,
   "id": "e163c8b1-b332-487d-9713-791357011bb3",
   "metadata": {},
   "outputs": [
    {
     "name": "stdout",
     "output_type": "stream",
     "text": [
      "Five is greater than two!\n"
     ]
    }
   ],
   "source": [
    "if 5 > 2:\n",
    "# The number of spaces is up to you as a programmer, the most common use is four, but it has to be at least one.\n",
    " print(\"Five is greater than two!\")"
   ]
  },
  {
   "cell_type": "code",
   "execution_count": 17,
   "id": "9b149368-ed00-4129-b38a-ce83703648ce",
   "metadata": {},
   "outputs": [
    {
     "ename": "IndentationError",
     "evalue": "unexpected indent (3495298231.py, line 4)",
     "output_type": "error",
     "traceback": [
      "\u001b[1;36m  Cell \u001b[1;32mIn[17], line 4\u001b[1;36m\u001b[0m\n\u001b[1;33m    print(\"Bye!\") # Extra spaces result in an error. Same is the case if the number of spaces is less compared to previous statement\u001b[0m\n\u001b[1;37m    ^\u001b[0m\n\u001b[1;31mIndentationError\u001b[0m\u001b[1;31m:\u001b[0m unexpected indent\n"
     ]
    }
   ],
   "source": [
    "# same number of spaces should be used under one block.\n",
    "if 5 > 2:\n",
    "    print(\"Five is greater than two!\")\n",
    "        print(\"Bye!\") # Extra spaces result in an error. Same is the case if the number of spaces is less compared to previous statement"
   ]
  },
  {
   "cell_type": "markdown",
   "id": "da6753e2-ade7-45b1-b9c3-5e51275dc422",
   "metadata": {},
   "source": [
    "# 4. Python Comments"
   ]
  },
  {
   "cell_type": "code",
   "execution_count": 20,
   "id": "2cb22b22-e991-45a4-89ed-68553bc980d8",
   "metadata": {},
   "outputs": [
    {
     "name": "stdout",
     "output_type": "stream",
     "text": [
      "Hello, World!\n"
     ]
    }
   ],
   "source": [
    "# \"#\" is used at the beginning for a single line comments\n",
    "# \"\"\" \"\"\" three quotation marks are used for multi-line comments\n",
    "# This is the comment\n",
    "\"\"\"\n",
    "This is a multi-line comment\n",
    "Any number of lines of comments can be inserted within these three quotation marks\n",
    "\"\"\"\n",
    "print(\"Hello, World!\")"
   ]
  },
  {
   "cell_type": "code",
   "execution_count": 21,
   "id": "6dec0ca2-1163-4c2b-9ae7-dc48becec418",
   "metadata": {},
   "outputs": [
    {
     "name": "stdout",
     "output_type": "stream",
     "text": [
      "Bye!\n"
     ]
    }
   ],
   "source": [
    "# Everything on the line after \"#\" is ingnored by python\n",
    "# including any code\n",
    "# print(\"Hello, World!\")\n",
    "print(\"Bye!\")"
   ]
  },
  {
   "cell_type": "markdown",
   "id": "585efdea-651d-4b3a-ac0f-5288ef9b837a",
   "metadata": {},
   "source": [
    "# 4. Python Variables"
   ]
  },
  {
   "cell_type": "code",
   "execution_count": 23,
   "id": "19faee74-0a40-49c7-b85e-7ffea62d408b",
   "metadata": {},
   "outputs": [
    {
     "name": "stdout",
     "output_type": "stream",
     "text": [
      "5\n",
      "Hi\n"
     ]
    }
   ],
   "source": [
    "# Assigning value to the variable is easy. Use the assignment operatior \"=\". \n",
    "# Type of variable is automatically assigned by Python based on value\n",
    "x = 5\n",
    "y = \"Hi\"\n",
    "print(x)\n",
    "print(y)"
   ]
  },
  {
   "cell_type": "code",
   "execution_count": 24,
   "id": "4afc704e-5911-437b-b7e2-62bec3ac027a",
   "metadata": {},
   "outputs": [
    {
     "name": "stdout",
     "output_type": "stream",
     "text": [
      "Five\n"
     ]
    }
   ],
   "source": [
    "# Variables can be reassigned a different value which can be of different type, after defining differently at first\n",
    "x = 5\n",
    "x = \"Five\"\n",
    "\n",
    "print(x) # Variable takes the value from latest definition"
   ]
  },
  {
   "cell_type": "code",
   "execution_count": 25,
   "id": "75d2babd-7e87-4086-bf8e-067d3651b65f",
   "metadata": {},
   "outputs": [
    {
     "name": "stdout",
     "output_type": "stream",
     "text": [
      "5\n",
      "5\n",
      "5.0\n"
     ]
    }
   ],
   "source": [
    "# Variable can be defined with a specific data type by casting\n",
    "x = int(5)\n",
    "y = str(5)\n",
    "z = float(5)\n",
    "\n",
    "print(x)\n",
    "print(y)\n",
    "print(z)"
   ]
  },
  {
   "cell_type": "code",
   "execution_count": 26,
   "id": "136ec3ee-1930-4dbb-b511-05468c20aadf",
   "metadata": {},
   "outputs": [
    {
     "name": "stdout",
     "output_type": "stream",
     "text": [
      "<class 'int'>\n",
      "<class 'str'>\n"
     ]
    }
   ],
   "source": [
    "# Variable type can be printed\n",
    "x = 5\n",
    "y = 'John'\n",
    "print(type(x))\n",
    "print(type(y))"
   ]
  },
  {
   "cell_type": "code",
   "execution_count": 27,
   "id": "c0e62bd2-5e08-4691-8480-794d9c676b9c",
   "metadata": {},
   "outputs": [
    {
     "name": "stdout",
     "output_type": "stream",
     "text": [
      "Viva\n",
      "John\n"
     ]
    }
   ],
   "source": [
    "# String variables can be defined by using single quotes and double quotes\n",
    "x = \"Viva\"\n",
    "y = 'John'\n",
    "\n",
    "print(x)\n",
    "print(y)"
   ]
  },
  {
   "cell_type": "code",
   "execution_count": 28,
   "id": "ee3132de-5eba-4a39-a9c2-3308c6c6ebba",
   "metadata": {},
   "outputs": [
    {
     "name": "stdout",
     "output_type": "stream",
     "text": [
      "4\n",
      "Viva\n"
     ]
    }
   ],
   "source": [
    "# Variable names are case-sensitive\n",
    "a = 4\n",
    "A = \"Viva\"\n",
    "\n",
    "print(a)\n",
    "print(A)"
   ]
  },
  {
   "cell_type": "markdown",
   "id": "8f1aa81d-99f8-419e-8698-1c7d7c4e1fcb",
   "metadata": {},
   "source": [
    "### 4a. Variable Names"
   ]
  },
  {
   "cell_type": "code",
   "execution_count": 30,
   "id": "54d29568-2260-4241-9abe-50376b48f072",
   "metadata": {},
   "outputs": [],
   "source": [
    "# Below mentioned list are all valid variable names\n",
    "myvar = \"John\"\n",
    "my_var = \"John\"\n",
    "_my_var = \"John\"\n",
    "myVar = \"John\"\n",
    "MYVAR = \"John\"\n",
    "myvar2 = \"John\""
   ]
  },
  {
   "cell_type": "code",
   "execution_count": 31,
   "id": "ebd48c68-b34a-4150-a8ee-32a102d4c735",
   "metadata": {},
   "outputs": [
    {
     "ename": "SyntaxError",
     "evalue": "invalid decimal literal (3612090013.py, line 2)",
     "output_type": "error",
     "traceback": [
      "\u001b[1;36m  Cell \u001b[1;32mIn[31], line 2\u001b[1;36m\u001b[0m\n\u001b[1;33m    2myvar = \"John\" # Variable names cannot start with a numeric\u001b[0m\n\u001b[1;37m    ^\u001b[0m\n\u001b[1;31mSyntaxError\u001b[0m\u001b[1;31m:\u001b[0m invalid decimal literal\n"
     ]
    }
   ],
   "source": [
    "# Below mentioned are not valid\n",
    "2myvar = \"John\" # Variable names cannot start with a numeric\n",
    "my-var = \"John\" # Variable names cannot have any special symbols other than _\n",
    "my var = \"John\" # Variable names cannot have spece in between"
   ]
  },
  {
   "cell_type": "code",
   "execution_count": 32,
   "id": "7e9582ed-fe41-41b1-b1e0-5faabffa28bc",
   "metadata": {},
   "outputs": [],
   "source": [
    "# Multi words Variable Names\n",
    "# camelCase - Each word, except the first, starts with a capital letter\n",
    "myVariableName = \"John\"\n",
    "# PascalCase - Each word starts with a capital letter\n",
    "MyVariableName = \"John\"\n",
    "# Snake_Case - Each word is separated by an underscore character\n",
    "my_variable_name = \"John\""
   ]
  },
  {
   "cell_type": "markdown",
   "id": "ed57e921-721f-44d3-b962-90a4483b0597",
   "metadata": {},
   "source": [
    "### 4b. Assign Multiple Values"
   ]
  },
  {
   "cell_type": "code",
   "execution_count": 34,
   "id": "5577ff81-7f02-4ad4-9e97-8bb7191d7357",
   "metadata": {},
   "outputs": [
    {
     "name": "stdout",
     "output_type": "stream",
     "text": [
      "X\n",
      "Y\n",
      "Z\n"
     ]
    }
   ],
   "source": [
    "x, y, z = \"X\", \"Y\", \"Z\" # Multiple values can be assigned, separated by comma\n",
    "print(x)\n",
    "print(y)\n",
    "print(z)"
   ]
  },
  {
   "cell_type": "code",
   "execution_count": 35,
   "id": "ead2c8f2-abf8-4f35-8ec8-967a70f7f9e6",
   "metadata": {},
   "outputs": [
    {
     "name": "stdout",
     "output_type": "stream",
     "text": [
      "Orange\n",
      "Orange\n",
      "Orange\n"
     ]
    }
   ],
   "source": [
    "# Same value can be assigned multiple variables in one go\n",
    "x = y = z = \"Orange\"\n",
    "print(x)\n",
    "print(y)\n",
    "print(z)"
   ]
  },
  {
   "cell_type": "code",
   "execution_count": 36,
   "id": "68cbcc3a-974c-483f-a5be-3219ce330f03",
   "metadata": {},
   "outputs": [
    {
     "name": "stdout",
     "output_type": "stream",
     "text": [
      "Orange\n",
      "Grape\n",
      "Apple\n"
     ]
    }
   ],
   "source": [
    "# A list or a tuple can be unpacked\n",
    "fruits = [\"Orange\", \"Grape\", \"Apple\"]\n",
    "x, y, z = fruits\n",
    "print(x)\n",
    "print(y)\n",
    "print(z)"
   ]
  },
  {
   "cell_type": "markdown",
   "id": "4b85825c-04cd-49cc-abc3-5ef0214f85c5",
   "metadata": {},
   "source": [
    "### 4c. Output Variables"
   ]
  },
  {
   "cell_type": "code",
   "execution_count": 38,
   "id": "4578f722-7c11-415e-9d5a-fdd57b2aed95",
   "metadata": {},
   "outputs": [
    {
     "name": "stdout",
     "output_type": "stream",
     "text": [
      "Python is awesome\n"
     ]
    }
   ],
   "source": [
    "# The Python print() function is often used to output variables\n",
    "x = \"Python is awesome\"\n",
    "print(x)"
   ]
  },
  {
   "cell_type": "code",
   "execution_count": 39,
   "id": "06d79712-9e95-4b36-b0de-8d410d6d5508",
   "metadata": {},
   "outputs": [
    {
     "name": "stdout",
     "output_type": "stream",
     "text": [
      "Python is awesome\n"
     ]
    }
   ],
   "source": [
    "# In the print() function, you output multiple variables, separated by a comma\n",
    "x = \"Python\"\n",
    "y = \"is\"\n",
    "z = \"awesome\"\n",
    "print(x, y, z)"
   ]
  },
  {
   "cell_type": "code",
   "execution_count": 40,
   "id": "3e557dc9-12d3-422b-8eaa-cab9de91c015",
   "metadata": {},
   "outputs": [
    {
     "name": "stdout",
     "output_type": "stream",
     "text": [
      "Python is awesome\n"
     ]
    }
   ],
   "source": [
    "# + operator can be used to output multiple variables\n",
    "x = \"Python \"\n",
    "y = \"is \"\n",
    "z = \"awesome\"\n",
    "print(x + y + z)"
   ]
  },
  {
   "cell_type": "code",
   "execution_count": 41,
   "id": "54fb75e2-5eb9-40a5-8729-135dbd0fcad9",
   "metadata": {},
   "outputs": [
    {
     "name": "stdout",
     "output_type": "stream",
     "text": [
      "15\n"
     ]
    }
   ],
   "source": [
    "x = 5\n",
    "y = 10\n",
    "print(x + y) # Output can be printed directly without assigning it to the variable"
   ]
  },
  {
   "cell_type": "code",
   "execution_count": 42,
   "id": "4c18c019-cfea-493c-8452-94491c308305",
   "metadata": {},
   "outputs": [
    {
     "ename": "TypeError",
     "evalue": "unsupported operand type(s) for +: 'int' and 'str'",
     "output_type": "error",
     "traceback": [
      "\u001b[1;31m---------------------------------------------------------------------------\u001b[0m",
      "\u001b[1;31mTypeError\u001b[0m                                 Traceback (most recent call last)",
      "Cell \u001b[1;32mIn[42], line 3\u001b[0m\n\u001b[0;32m      1\u001b[0m x \u001b[38;5;241m=\u001b[39m \u001b[38;5;241m5\u001b[39m\n\u001b[0;32m      2\u001b[0m y \u001b[38;5;241m=\u001b[39m \u001b[38;5;124m\"\u001b[39m\u001b[38;5;124mJohn\u001b[39m\u001b[38;5;124m\"\u001b[39m\n\u001b[1;32m----> 3\u001b[0m \u001b[38;5;28mprint\u001b[39m(x \u001b[38;5;241m+\u001b[39m y)\n",
      "\u001b[1;31mTypeError\u001b[0m: unsupported operand type(s) for +: 'int' and 'str'"
     ]
    }
   ],
   "source": [
    "x = 5\n",
    "y = \"John\"\n",
    "print(x + y) # When try to combine int and str in print statement, it gives an error"
   ]
  },
  {
   "cell_type": "code",
   "execution_count": null,
   "id": "331331e3-5e58-4785-98ee-56e2de29fc15",
   "metadata": {},
   "outputs": [],
   "source": [
    "x = 5\n",
    "y = \"John\"\n",
    "print(x, y) # To print variables of different types, it should be separated by ','"
   ]
  },
  {
   "cell_type": "code",
   "execution_count": null,
   "id": "82210fb0-642d-4e0b-963b-acdc54f409ad",
   "metadata": {},
   "outputs": [],
   "source": [
    "# '+' operator concatenates two string statements\n",
    "x = \"Hello \"\n",
    "y = \"World!\"\n",
    "\n",
    "print(x + y)"
   ]
  },
  {
   "cell_type": "markdown",
   "id": "0f0f1b16-c3da-409f-a6c2-5cffdc7bbc78",
   "metadata": {},
   "source": [
    "### 4d. Global Variables"
   ]
  },
  {
   "cell_type": "code",
   "execution_count": null,
   "id": "5200b261-92f9-4718-8282-fc564fb7fd14",
   "metadata": {},
   "outputs": [],
   "source": [
    "x = \"Awesome\" # This is a global variable, and can be used within the function\n",
    "\n",
    "def myfun():\n",
    "    print(\"Python is \" + x)\n",
    "\n",
    "myfun()"
   ]
  },
  {
   "cell_type": "code",
   "execution_count": null,
   "id": "2b0d513b-efd2-454a-8ff3-880c83dec4e4",
   "metadata": {},
   "outputs": [],
   "source": [
    "x = \"Awesome\"\n",
    "\n",
    "def myfun():\n",
    "    x = \"Fantastic\"\n",
    "    print(\"Python is \" + x) # here the local variable definition will be used\n",
    "\n",
    "print(\"Python is \" + x) # here the global variable definition will be used\n",
    "myfun()"
   ]
  },
  {
   "cell_type": "code",
   "execution_count": null,
   "id": "1aff27d4-d35d-48b1-957e-498955770746",
   "metadata": {},
   "outputs": [],
   "source": [
    "def myfun():\n",
    "    global x # Global keyword makes this a global variable\n",
    "    x = \"Fantastic\"\n",
    "\n",
    "myfun()\n",
    "\n",
    "print(\"Python is \" + x)"
   ]
  },
  {
   "cell_type": "code",
   "execution_count": null,
   "id": "f8c54ee7-e19a-4c58-bcb9-e9d7a2c38b35",
   "metadata": {},
   "outputs": [],
   "source": [
    "# GLobal keyword can be used inside the function to change the variable already defined\n",
    "x = \"Awesome\"\n",
    "\n",
    "def myfun():\n",
    "    global x\n",
    "    x = \"Fantastic\"\n",
    "\n",
    "myfun()\n",
    "\n",
    "print(\"Python is \" + x)"
   ]
  },
  {
   "cell_type": "markdown",
   "id": "3a086943-db87-4384-bf1b-111e53a69d56",
   "metadata": {},
   "source": [
    "# 5. Python Data Types"
   ]
  },
  {
   "cell_type": "code",
   "execution_count": null,
   "id": "2efeb0ec-d2f2-41f5-aab2-57856e1f5783",
   "metadata": {},
   "outputs": [],
   "source": [
    "# data type can be identified by using type() function\n",
    "x = 5\n",
    "print(type(x))"
   ]
  },
  {
   "cell_type": "code",
   "execution_count": null,
   "id": "853a2bb2-2da9-40e8-afac-58f36788f09d",
   "metadata": {},
   "outputs": [],
   "source": [
    "# In Python, the data type is set when you assign a value to a variable\n",
    "a = \"Hello WOrld!\"\n",
    "b = 20\n",
    "c = 20.5\n",
    "d = True\n",
    "e = None\n",
    "f = [\"x\", \"y\", \"z\"]\n",
    "g = (\"x\", \"y\", \"z\")\n",
    "h = range(6)\n",
    "i = {\"x\", \"y\", \"z\"}\n",
    "print(type(a))\n",
    "print(type(b))\n",
    "print(type(c))\n",
    "print(type(d))\n",
    "print(type(e))\n",
    "print(type(f))\n",
    "print(type(g))\n",
    "print(type(h))\n",
    "print(type(i))\n",
    "# there are some other types in Python"
   ]
  },
  {
   "cell_type": "code",
   "execution_count": null,
   "id": "ec662a6a-c8ad-408f-b250-da6f70fa1642",
   "metadata": {},
   "outputs": [],
   "source": [
    "# A variable can be assigned a data type while defining\n",
    "a = str(\"Hello World!\")\n",
    "b = int(20)\n",
    "c = float(20.5)\n",
    "d = bool(True)"
   ]
  },
  {
   "cell_type": "markdown",
   "id": "b436bb97-7ec1-4a54-a548-2ea24d7d20cf",
   "metadata": {},
   "source": [
    "# 6. Python Numbers"
   ]
  },
  {
   "cell_type": "code",
   "execution_count": null,
   "id": "084a430b-239d-46b4-86c7-844ac9bc63c0",
   "metadata": {},
   "outputs": [],
   "source": [
    "#There are three numeric types in Python: int, float, complex\n",
    "x = 1\n",
    "y = 2.8\n",
    "z = 1j\n",
    "print(type(x))\n",
    "print(type(y))\n",
    "print(type(z))"
   ]
  },
  {
   "cell_type": "code",
   "execution_count": null,
   "id": "ce949ab6-3c21-43d9-a2f8-c361de1ef8e5",
   "metadata": {},
   "outputs": [],
   "source": [
    "# Int could be positive r negative - could be of any length\n",
    "x = 1\n",
    "y = 32456367\n",
    "z = -45\n",
    "print(type(x))\n",
    "print(type(y))\n",
    "print(type(z))"
   ]
  },
  {
   "cell_type": "code",
   "execution_count": null,
   "id": "fe26b62d-c08d-4bdd-943a-f5bcbc27dd30",
   "metadata": {},
   "outputs": [],
   "source": [
    "# Float is a floating point number with one or more decimals\n",
    "# Float can also be scientific number to include exponential symbo 'e'\n",
    "x = 2.5\n",
    "y = 10.3456\n",
    "z = -12.39\n",
    "w = 8.7e10\n",
    "\n",
    "print(type(x))\n",
    "print(type(y))\n",
    "print(type(z))\n",
    "print(type(w))"
   ]
  },
  {
   "cell_type": "code",
   "execution_count": null,
   "id": "914350d5-d1bb-41c8-b9d7-4662a1eeb146",
   "metadata": {},
   "outputs": [],
   "source": [
    "# Complex number is written with a 'j' for imaginary part\n",
    "x = 1j\n",
    "y = -2j\n",
    "z = 12 + 3j\n",
    "\n",
    "print(type(x))\n",
    "print(type(y))\n",
    "print(type(z))"
   ]
  },
  {
   "cell_type": "code",
   "execution_count": null,
   "id": "bfb3f374-2b68-4600-a8c6-3381fb74e4c6",
   "metadata": {},
   "outputs": [],
   "source": [
    "# Type of a number can be converted to other using int(), float(), complex() methods\n",
    "\n",
    "x = 5\n",
    "y = 6.7 \n",
    "z = 10j\n",
    "\n",
    "a = float(x)\n",
    "b = complex(y)\n",
    "c = int(x)\n",
    "\n",
    "print(a)\n",
    "print(b)\n",
    "print(c)\n",
    "\n",
    "# Complex numbers cannot be converted to other types"
   ]
  },
  {
   "cell_type": "code",
   "execution_count": null,
   "id": "d26c89b8-473b-4e6b-9ae6-342ce3f9a50f",
   "metadata": {},
   "outputs": [],
   "source": [
    "# Python does not have a random() function. But, have a built-in module called random()\n",
    "\n",
    "import random\n",
    "\n",
    "print(random.randrange(1, 10))"
   ]
  },
  {
   "cell_type": "markdown",
   "id": "fddb4199-b091-448c-a3f4-e5bcfb17fd75",
   "metadata": {},
   "source": [
    "# 7. Python Casting"
   ]
  },
  {
   "cell_type": "code",
   "execution_count": null,
   "id": "973fe5db-4618-49ce-bd9e-eee3c3c534be",
   "metadata": {},
   "outputs": [],
   "source": [
    "# When it is necessary to specify the type of variable while defining, casting is used\n",
    "x = int(5.5)\n",
    "y = float('3')\n",
    "z = str(4.8)\n",
    "\n",
    "print(x, type(x))\n",
    "print(y, type(y))\n",
    "print(z, type(z))"
   ]
  },
  {
   "cell_type": "markdown",
   "id": "7e169158-b2f1-4a37-a5cc-c95af4d0f829",
   "metadata": {},
   "source": [
    "# 8. Python Strings"
   ]
  },
  {
   "cell_type": "code",
   "execution_count": null,
   "id": "ff99bb8e-4a95-4281-bb13-66f1781f1d54",
   "metadata": {},
   "outputs": [],
   "source": [
    "# Strings in python are surrounded by either single quotation marks, or double quotation marks\n",
    "print(\"Hello\")\n",
    "print('Hello')"
   ]
  },
  {
   "cell_type": "code",
   "execution_count": null,
   "id": "2bf6d8ab-ecb9-4496-ab30-dac52f5f36d8",
   "metadata": {},
   "outputs": [],
   "source": [
    "# Quotes inside quotes can be used as lng as they are not matched with outer quotes\n",
    "print(\"Hi to the 'World'!\")\n",
    "print('\"Viva\" is her name')"
   ]
  },
  {
   "cell_type": "code",
   "execution_count": null,
   "id": "de467895-ff45-4b4c-b470-0ceab6fd0d99",
   "metadata": {},
   "outputs": [],
   "source": [
    "# A string value can be assigned to variable\n",
    "a = \"Hello\"\n",
    "print(a)"
   ]
  },
  {
   "cell_type": "code",
   "execution_count": null,
   "id": "0bb5ef36-0e18-4e34-93b9-f24f806809a6",
   "metadata": {},
   "outputs": [],
   "source": [
    "# Three double quotes can be used to assigned a multiple line string to a variable\n",
    "a = \"\"\"This is Viva.\n",
    "I am learning Python\n",
    "I want to be an expert at using Python.\"\"\"\n",
    "print(a)"
   ]
  },
  {
   "cell_type": "code",
   "execution_count": null,
   "id": "967b36c5-0a4c-4293-b7c7-edd59a048cb7",
   "metadata": {},
   "outputs": [],
   "source": [
    "# Three single quotes can also be used for the same purpose\n",
    "a = '''Viva is an aspiring entrepreneur.\n",
    "She wants to built a multi-million dollar business empire.'''\n",
    "\n",
    "print(a)"
   ]
  },
  {
   "cell_type": "code",
   "execution_count": null,
   "id": "63086eea-3194-4b0b-af3e-48745b10dbd4",
   "metadata": {},
   "outputs": [],
   "source": [
    "# Strings are arrays\n",
    "a = \"Hello, World!\"\n",
    "print(a[1])"
   ]
  },
  {
   "cell_type": "code",
   "execution_count": null,
   "id": "557588b4-4edc-4e3d-8353-189c4066cf4d",
   "metadata": {},
   "outputs": [],
   "source": [
    "# As string is an array, it can be looped through\n",
    "for i in \"Hello, World!\":\n",
    "    print(i)"
   ]
  },
  {
   "cell_type": "code",
   "execution_count": null,
   "id": "1a3790e1-e0ea-40a5-a045-94f67866f8d3",
   "metadata": {},
   "outputs": [],
   "source": [
    "# len function to find the length of a string\n",
    "a = \"Viva\"\n",
    "\n",
    "print(len(a))"
   ]
  },
  {
   "cell_type": "code",
   "execution_count": null,
   "id": "a3ef3d7a-f72d-48ec-b382-88dde6713884",
   "metadata": {},
   "outputs": [],
   "source": [
    "# to check if a word or character present in the string\n",
    "a = \"Viva is the best!\"\n",
    "\n",
    "print(\"best\" in a)"
   ]
  },
  {
   "cell_type": "code",
   "execution_count": null,
   "id": "bddc8c90-2fe2-490d-ad40-2c979ef38513",
   "metadata": {},
   "outputs": [],
   "source": [
    "# Print only if that word or character is present\n",
    "txt = \"The best things in life are free!\"\n",
    "if \"free\" in txt:\n",
    "  print(\"Yes, 'free' is present.\")"
   ]
  },
  {
   "cell_type": "code",
   "execution_count": null,
   "id": "8ba10416-4f9d-4dc5-9c17-972ebc070c3b",
   "metadata": {},
   "outputs": [],
   "source": [
    "# to check if a word or character is not present in the string\n",
    "a = \"Childhood is a boon. It is beautiful\"\n",
    "print(\"fine\" not in a)"
   ]
  },
  {
   "cell_type": "code",
   "execution_count": null,
   "id": "22468970-9900-4a84-92c6-1ae05538bf25",
   "metadata": {},
   "outputs": [],
   "source": [
    "# Print only if a word or character is not present\n",
    "a = \"Childhood is a boon. It is beautiful\"\n",
    "if \"fine\" not in a:\n",
    "    print(\"No, 'fine' not in a\")"
   ]
  },
  {
   "cell_type": "markdown",
   "id": "e6da1403-acb7-47f0-bec3-c99d91f184d9",
   "metadata": {},
   "source": [
    "### 9a. Slicing Strings"
   ]
  },
  {
   "cell_type": "code",
   "execution_count": null,
   "id": "f1653b0a-b181-464c-ac0a-778f43287f3c",
   "metadata": {},
   "outputs": [],
   "source": [
    "b = \"Hello, World!\"\n",
    "# to get the list of characters starting from the index 2 till index 4\n",
    "print(b[2:5])"
   ]
  },
  {
   "cell_type": "code",
   "execution_count": null,
   "id": "8655316c-8a34-4736-8074-728503defc48",
   "metadata": {},
   "outputs": [],
   "source": [
    "b = \"Hello, World!\"\n",
    "# to getthe listof characters from beginning till index 4\n",
    "print(b[:5])"
   ]
  },
  {
   "cell_type": "code",
   "execution_count": null,
   "id": "4c9450fe-aafc-485f-a77f-ceb859560b01",
   "metadata": {},
   "outputs": [],
   "source": [
    "b = \"Hello, World!\"\n",
    "# to get characters from index 2 till the end\n",
    "print(b[2:])"
   ]
  },
  {
   "cell_type": "code",
   "execution_count": null,
   "id": "4043efb1-b5ba-4138-a26b-28d9a9f60e1c",
   "metadata": {},
   "outputs": [],
   "source": [
    "# Negative indexing: -1 refers to the first letter from backward and it goes on like -1, -2, -3...\n",
    "b = \"Hello, World!\"\n",
    "# below print statement prints the characters 5th character from last till the 3rd character from last\n",
    "print(b[-5:-2])"
   ]
  },
  {
   "cell_type": "markdown",
   "id": "e80bbd99-a92b-4a2b-acff-8fba767ba7b1",
   "metadata": {},
   "source": [
    "### 9b. Modify Strings"
   ]
  },
  {
   "cell_type": "code",
   "execution_count": null,
   "id": "07805063-e27e-441d-94b0-8c862cbbda31",
   "metadata": {},
   "outputs": [],
   "source": [
    "a = \"Viva Nerla\"\n",
    "# use the function upper() to convert the string all uppercase\n",
    "print(a.upper())"
   ]
  },
  {
   "cell_type": "code",
   "execution_count": null,
   "id": "af3afa80-4268-4f56-8058-e0ab2ad5493b",
   "metadata": {},
   "outputs": [],
   "source": [
    "# similarly, lower() can be used to convert the string all lowercase\n",
    "a = \"Viva Nerla\"\n",
    "print(a.lower())"
   ]
  },
  {
   "cell_type": "code",
   "execution_count": null,
   "id": "b4ed71df-948d-4c36-9c32-f5503bbb9a1e",
   "metadata": {},
   "outputs": [],
   "source": [
    "# strip() can be used to cut the whitespaces at the beginning and ending of a string\n",
    "# alternatively, lstrip() and rstrip() are used to remove whitespaces from left and right of a string respectively\n",
    "a = \"   Viva Nerla  \"\n",
    "print(a.strip())\n",
    "print(a.lstrip())\n",
    "print(a.rstrip())"
   ]
  },
  {
   "cell_type": "code",
   "execution_count": null,
   "id": "b3a624d2-6e1c-431d-9301-f61f715c8691",
   "metadata": {},
   "outputs": [],
   "source": [
    "# replace() method replaces a string with another string()\n",
    "a = \"Viva Nerla\"\n",
    "print(a.replace(\"V\", \"D\"))"
   ]
  },
  {
   "cell_type": "code",
   "execution_count": null,
   "id": "15e25c41-d457-4eac-9a88-caf352804349",
   "metadata": {},
   "outputs": [],
   "source": [
    "# split() can be used to split a string\n",
    "a = \"Viva Nerla\"\n",
    "print(a.split())\n",
    "# By default, separater is considered as whitespace. These can be specified otherwise\n",
    "# a = \"Hello, World!\"\n",
    "# pring(s.split(\",\"))"
   ]
  },
  {
   "cell_type": "markdown",
   "id": "ca1fa460-f229-4e55-9c40-55a87f65e964",
   "metadata": {},
   "source": [
    "### 9c. String Concatenation"
   ]
  },
  {
   "cell_type": "code",
   "execution_count": null,
   "id": "089b5aeb-6998-4cc5-9369-61501f89eac1",
   "metadata": {},
   "outputs": [],
   "source": [
    "# '+' operator can be used to concatenate string in python\n",
    "a = \"Hello\"\n",
    "b = \"World\"\n",
    "c = a + b\n",
    "print(c)"
   ]
  },
  {
   "cell_type": "code",
   "execution_count": null,
   "id": "f0a2ed75-3ea1-44a7-afba-2045786ccdf3",
   "metadata": {},
   "outputs": [],
   "source": [
    "# Spaces too can be added using '+'\n",
    "a = \"Hello\"\n",
    "b = \"World\"\n",
    "c = a + \" \" + b\n",
    "print(c)"
   ]
  },
  {
   "cell_type": "markdown",
   "id": "9d25a03b-ef77-4547-a347-c4dfcad8a5ed",
   "metadata": {},
   "source": [
    "### 9d. Format Strings"
   ]
  },
  {
   "cell_type": "code",
   "execution_count": null,
   "id": "cdd9d325-d908-4a88-b89e-3fcb378fe5e9",
   "metadata": {},
   "outputs": [],
   "source": [
    "# String and numbers cannot be combined using '+'\n",
    "age = 36\n",
    "txt = \"My name is John, I am \" + age\n",
    "print(txt)"
   ]
  },
  {
   "cell_type": "code",
   "execution_count": null,
   "id": "fb4f85bf-829c-4c50-86e9-391ddb2f61a0",
   "metadata": {},
   "outputs": [],
   "source": [
    "# format strings can be used to combine strings and numbers\n",
    "age = 36\n",
    "txt = f\"My name is John, I am {age}\"\n",
    "print(txt)"
   ]
  },
  {
   "cell_type": "code",
   "execution_count": null,
   "id": "061627cb-7411-4f6a-8b15-828cac39d361",
   "metadata": {},
   "outputs": [],
   "source": [
    "# A placeholder can contain variables, operations, functions, and modifiers to format the value\n",
    "price = 59\n",
    "txt = f\"The price is {price} dollars\"\n",
    "print(txt)"
   ]
  },
  {
   "cell_type": "code",
   "execution_count": null,
   "id": "01d9c04f-67d0-491c-a7c8-75695ba471d5",
   "metadata": {},
   "outputs": [],
   "source": [
    "price = 59\n",
    "txt = f\"The price is {price:.2f} dollars\" # this is a modifier to help format the output to required floating point values\n",
    "print(txt)"
   ]
  },
  {
   "cell_type": "code",
   "execution_count": null,
   "id": "9e0967c9-e349-4be3-8b67-e884ee24b528",
   "metadata": {},
   "outputs": [],
   "source": [
    "txt = f\"The price is {20*6} dollars\" # this includes a math operator\n",
    "print(txt)"
   ]
  },
  {
   "cell_type": "markdown",
   "id": "0f6fb8b6-a725-4676-a091-93b884ac2871",
   "metadata": {},
   "source": [
    "### 9e. Escape Characters"
   ]
  },
  {
   "cell_type": "code",
   "execution_count": null,
   "id": "69f5c373-9b49-4772-aa70-39049bdd2339",
   "metadata": {},
   "outputs": [],
   "source": [
    "txt = \"We are the so-called \"Vikings\" from the north.\"\n",
    "# above syntax is invalid as there are double quotes within double quotes\n",
    "print(txt)"
   ]
  },
  {
   "cell_type": "code",
   "execution_count": null,
   "id": "bc8b1c1a-d1bd-46a0-abaa-417e08c31a47",
   "metadata": {},
   "outputs": [],
   "source": [
    "# above error can be fixed using an escape character '\\'\n",
    "txt = \"We are the so-called \\\"Vikings\\\" from the north.\"\n",
    "print(txt)"
   ]
  },
  {
   "cell_type": "code",
   "execution_count": null,
   "id": "7a828f31-92a7-443f-ade8-e391a0997920",
   "metadata": {},
   "outputs": [],
   "source": [
    "# Different other escape characters\n",
    "print(\"I\\'m Viva\") # single quote\n",
    "print(\"We are going out to fish \\\\ We will be back by evening\") # backslash\n",
    "print(\"Let us have fun\\nPlay till dusk\") # new line\n",
    "print(\"Tryin to know what this does\\rHappy\") # carriage return\n",
    "print(\" \\bLet\\'s test this\") # backspace\n",
    "print(\"this and \\t that\") # tab\n",
    "print(\"\\110\\123\\145\\167\") # octal value\n",
    "print(\"\\x48\\x65\\x6c\\x6c\\x6f\") # hex value"
   ]
  },
  {
   "cell_type": "markdown",
   "id": "0386e60b-3f57-4296-aa10-bf8eb4622b91",
   "metadata": {},
   "source": [
    "### 9f. String Methods"
   ]
  },
  {
   "cell_type": "code",
   "execution_count": 43,
   "id": "6ad4e2f4-c6ac-41f0-8f0d-57ab56aa2d80",
   "metadata": {},
   "outputs": [
    {
     "name": "stdout",
     "output_type": "stream",
     "text": [
      "Viva nerla\n"
     ]
    }
   ],
   "source": [
    "a = \"viva nerla\"\n",
    "print(a.capitalize()) # capitalize() capitalizes the first letter of the string"
   ]
  },
  {
   "cell_type": "code",
   "execution_count": 44,
   "id": "ae8eb791-b135-4a48-bc46-d2b84af176ed",
   "metadata": {},
   "outputs": [
    {
     "name": "stdout",
     "output_type": "stream",
     "text": [
      "april fool\n"
     ]
    }
   ],
   "source": [
    "a = \"April Fool\"\n",
    "print(a.casefold()) # casefold() converts the string into lowercase"
   ]
  },
  {
   "cell_type": "code",
   "execution_count": 45,
   "id": "49eabf92-e60c-4d71-924f-fa5878b2bc29",
   "metadata": {},
   "outputs": [
    {
     "name": "stdout",
     "output_type": "stream",
     "text": [
      "      Visali Devi Nerla       \n"
     ]
    }
   ],
   "source": [
    "a = \"Visali Devi Nerla\"\n",
    "print(a.center(30)) # returns the centered of the string based on the number of spaces provided"
   ]
  },
  {
   "cell_type": "code",
   "execution_count": 46,
   "id": "7e7b253a-50e7-4688-9c2e-b13e66a298ed",
   "metadata": {},
   "outputs": [
    {
     "name": "stdout",
     "output_type": "stream",
     "text": [
      "3\n"
     ]
    }
   ],
   "source": [
    "a = \"Fin Fan Fine Fin\"\n",
    "print(a.count(\"Fin\")) # returns the number of times a specified value occured"
   ]
  },
  {
   "cell_type": "code",
   "execution_count": 47,
   "id": "33970997-ee0d-4a73-918e-f9717cb3b094",
   "metadata": {},
   "outputs": [
    {
     "name": "stdout",
     "output_type": "stream",
     "text": [
      "b'happy'\n"
     ]
    }
   ],
   "source": [
    "a = \"happy\"\n",
    "print(a.encode()) # Returns an encoded version of the string"
   ]
  },
  {
   "cell_type": "code",
   "execution_count": 48,
   "id": "522dc8fa-f2c8-4c3b-9bbc-42d85e8ae2b1",
   "metadata": {},
   "outputs": [
    {
     "name": "stdout",
     "output_type": "stream",
     "text": [
      "True\n"
     ]
    }
   ],
   "source": [
    "a = \"Viva\"\n",
    "\n",
    "print(a.endswith(\"a\")) # retuens True if the string ends with the specified value"
   ]
  },
  {
   "cell_type": "code",
   "execution_count": 49,
   "id": "4f4a8d05-7b0b-4f26-a104-17d38e6cad86",
   "metadata": {},
   "outputs": [
    {
     "name": "stdout",
     "output_type": "stream",
     "text": [
      "H e l l o\n"
     ]
    }
   ],
   "source": [
    "txt = \"H\\te\\tl\\tl\\to\"\n",
    "\n",
    "x =  txt.expandtabs(2) # sets thetab size\n",
    "\n",
    "print(x)"
   ]
  },
  {
   "cell_type": "code",
   "execution_count": 50,
   "id": "7163a50b-2d00-47f2-9a2d-e1d0de602a04",
   "metadata": {},
   "outputs": [
    {
     "data": {
      "text/plain": [
       "11"
      ]
     },
     "execution_count": 50,
     "metadata": {},
     "output_type": "execute_result"
    }
   ],
   "source": [
    "a = \"Happy World!\"\n",
    "a.find(\"!\") # finds the position of the specified value"
   ]
  },
  {
   "cell_type": "code",
   "execution_count": 51,
   "id": "098def18-b442-4893-9422-0e32008f93cb",
   "metadata": {},
   "outputs": [
    {
     "name": "stdout",
     "output_type": "stream",
     "text": [
      "Viva's second name is Nerla\n"
     ]
    }
   ],
   "source": [
    "a = \"Viva\"\n",
    "b = \"Nerla\"\n",
    "\n",
    "print(\"{0}\\'s second name is {1}\".format(a, b)) # formats specified values in a string"
   ]
  },
  {
   "cell_type": "code",
   "execution_count": 52,
   "id": "48ba66c2-8fed-4df5-9663-0b0d8dda65bb",
   "metadata": {},
   "outputs": [
    {
     "name": "stdout",
     "output_type": "stream",
     "text": [
      "7\n"
     ]
    }
   ],
   "source": [
    "txt = \"Hello, welcome to my world.\"\n",
    "\n",
    "x = txt.index(\"welcome\") # returns the position of the specified value\n",
    "\n",
    "print(x)"
   ]
  },
  {
   "cell_type": "code",
   "execution_count": 53,
   "id": "c9e84ce7-7849-491a-817f-14302f27161b",
   "metadata": {},
   "outputs": [
    {
     "data": {
      "text/plain": [
       "'\\nNote: find() and index() are used to locate the position of a substring within a string.\\nBut, the major difference between find() and index() methods in Python is how they handle cases when the substring is not found. \\nThe find() method returns -1 in such cases, while index() method raises a ValueError.\\n'"
      ]
     },
     "execution_count": 53,
     "metadata": {},
     "output_type": "execute_result"
    }
   ],
   "source": [
    "\"\"\"\n",
    "Note: find() and index() are used to locate the position of a substring within a string.\n",
    "But, the major difference between find() and index() methods in Python is how they handle cases when the substring is not found. \n",
    "The find() method returns -1 in such cases, while index() method raises a ValueError.\n",
    "\"\"\""
   ]
  },
  {
   "cell_type": "code",
   "execution_count": 54,
   "id": "e75b2092-6f51-4738-953a-90cb59a06f93",
   "metadata": {},
   "outputs": [
    {
     "name": "stdout",
     "output_type": "stream",
     "text": [
      "True\n"
     ]
    }
   ],
   "source": [
    "a = \"Welcome123\"\n",
    "print(a.isalnum()) # returns True if all the characters of string are alphanumeric"
   ]
  },
  {
   "cell_type": "code",
   "execution_count": 56,
   "id": "1e1a04fe-981e-45aa-af6e-b7059acb8d28",
   "metadata": {},
   "outputs": [
    {
     "name": "stdout",
     "output_type": "stream",
     "text": [
      "False\n"
     ]
    }
   ],
   "source": [
    "a = \"Welcome123\"\n",
    "print(a.isalpha()) # returns True of all the characters of string are alphabets"
   ]
  },
  {
   "cell_type": "code",
   "execution_count": 57,
   "id": "e7ee6e24-20fe-440d-805f-94b914e1b395",
   "metadata": {},
   "outputs": [
    {
     "name": "stdout",
     "output_type": "stream",
     "text": [
      "True\n"
     ]
    }
   ],
   "source": [
    "a = \"Welcome123\"\n",
    "print(a.isascii()) # returns True of all the characters of string are ascii characters"
   ]
  },
  {
   "cell_type": "code",
   "execution_count": 58,
   "id": "5a47a3da-2d4b-4525-9410-ba8f89dde085",
   "metadata": {},
   "outputs": [
    {
     "name": "stdout",
     "output_type": "stream",
     "text": [
      "True\n"
     ]
    }
   ],
   "source": [
    "a = \"123\"\n",
    "print(a.isdecimal()) # returns True of all the characters of string are decimals (0 - 9)"
   ]
  },
  {
   "cell_type": "code",
   "execution_count": 60,
   "id": "16153313-241b-49d4-acbd-501bbe99c7fa",
   "metadata": {},
   "outputs": [
    {
     "name": "stdout",
     "output_type": "stream",
     "text": [
      "True\n"
     ]
    }
   ],
   "source": [
    "a = \"123456\"\n",
    "print(a.isdigit()) # returns True of all the characters of string are digits"
   ]
  },
  {
   "cell_type": "code",
   "execution_count": 61,
   "id": "9cff0ac9-839f-4334-8a98-a280cbddf81e",
   "metadata": {},
   "outputs": [
    {
     "name": "stdout",
     "output_type": "stream",
     "text": [
      "True\n"
     ]
    }
   ],
   "source": [
    "a = \"if\"\n",
    "print(a.isidentifier()) # returns True if the string is an identifier"
   ]
  },
  {
   "cell_type": "code",
   "execution_count": 62,
   "id": "7d3030ee-e8ff-4c84-8a2c-8aa1884c47c0",
   "metadata": {},
   "outputs": [
    {
     "name": "stdout",
     "output_type": "stream",
     "text": [
      "False\n"
     ]
    }
   ],
   "source": [
    "a = \"Viva Nerla\"\n",
    "print(a.islower()) # returns True if all the characters of the string are lowercase"
   ]
  },
  {
   "cell_type": "code",
   "execution_count": 64,
   "id": "45a8fb27-f0fd-4d0c-b00a-738482a306fd",
   "metadata": {},
   "outputs": [
    {
     "name": "stdout",
     "output_type": "stream",
     "text": [
      "False\n"
     ]
    }
   ],
   "source": [
    "a = \"123.456\"\n",
    "print(a.isnumeric()) # returns True if all the characters of the string are numbers"
   ]
  },
  {
   "cell_type": "code",
   "execution_count": 65,
   "id": "74fb74d5-e9d1-47ca-885e-5f46966e4888",
   "metadata": {},
   "outputs": [
    {
     "data": {
      "text/plain": [
       "'\\nisdecimal(): Strictly checks for decimal digits (0-9).\\nisdigit(): Checks for digits, including those from other number systems.\\nisnumeric(): Checks for numeric characters, including digits, fractions, and numerals.\\n'"
      ]
     },
     "execution_count": 65,
     "metadata": {},
     "output_type": "execute_result"
    }
   ],
   "source": [
    "\"\"\"\n",
    "isdecimal(): Strictly checks for decimal digits (0-9).\n",
    "isdigit(): Checks for digits, including those from other number systems.\n",
    "isnumeric(): Checks for numeric characters, including digits, fractions, and numerals.\n",
    "\"\"\""
   ]
  },
  {
   "cell_type": "code",
   "execution_count": 66,
   "id": "a047a9da-9b9e-42b0-b300-a7c9db9654a8",
   "metadata": {},
   "outputs": [
    {
     "name": "stdout",
     "output_type": "stream",
     "text": [
      "True\n"
     ]
    }
   ],
   "source": [
    "txt = \"Hello! Are you #1?\"\n",
    "\n",
    "x = txt.isprintable() # returns True if the string is printable\n",
    "\n",
    "print(x)"
   ]
  },
  {
   "cell_type": "code",
   "execution_count": 67,
   "id": "9d214af9-fa10-4fd9-8978-04e1e1a6b8b5",
   "metadata": {},
   "outputs": [
    {
     "name": "stdout",
     "output_type": "stream",
     "text": [
      "False\n"
     ]
    }
   ],
   "source": [
    "a = \"a      \"\n",
    "\n",
    "print(a.isspace()) # returns True if all the characters of the string are white spaces"
   ]
  },
  {
   "cell_type": "code",
   "execution_count": 68,
   "id": "da3c9177-c78e-4d8f-9e4f-a1dcf9be6fb0",
   "metadata": {},
   "outputs": [
    {
     "name": "stdout",
     "output_type": "stream",
     "text": [
      "True\n"
     ]
    }
   ],
   "source": [
    "txt = \"Hello, And Welcome To My World!\"\n",
    "\n",
    "x = txt.istitle() # returns True if the string follows the rules of a title\n",
    "\n",
    "print(x)"
   ]
  },
  {
   "cell_type": "code",
   "execution_count": 69,
   "id": "32ee1faa-10f1-4eff-b860-c699e3158d9c",
   "metadata": {},
   "outputs": [
    {
     "name": "stdout",
     "output_type": "stream",
     "text": [
      "True\n"
     ]
    }
   ],
   "source": [
    "a = \"VIVA NERLA\"\n",
    "print(a.isupper()) # returns True if all characters of the string are upper"
   ]
  },
  {
   "cell_type": "code",
   "execution_count": 70,
   "id": "1a736a00-8323-48d1-978a-59385a35770d",
   "metadata": {},
   "outputs": [
    {
     "name": "stdout",
     "output_type": "stream",
     "text": [
      "John#Peter#Vicky\n"
     ]
    }
   ],
   "source": [
    "myTuple = (\"John\", \"Peter\", \"Vicky\")\n",
    "\n",
    "x = \"#\".join(myTuple) # Join all items in a tuple into a string, using a hash character as separator\n",
    "\n",
    "print(x)"
   ]
  },
  {
   "cell_type": "code",
   "execution_count": 72,
   "id": "c4813dcc-008b-4815-9d5c-9bc5f6b41827",
   "metadata": {},
   "outputs": [
    {
     "name": "stdout",
     "output_type": "stream",
     "text": [
      "banana               is my favorite fruit.\n"
     ]
    }
   ],
   "source": [
    "# Returns a left justified version of the string\n",
    "txt = \"banana\"\n",
    "\n",
    "x = txt.ljust(20)\n",
    "\n",
    "print(x, \"is my favorite fruit.\")"
   ]
  },
  {
   "cell_type": "code",
   "execution_count": 73,
   "id": "4d5436b8-5b84-4639-8b94-58e6c188995a",
   "metadata": {},
   "outputs": [
    {
     "name": "stdout",
     "output_type": "stream",
     "text": [
      "viva nerla\n"
     ]
    }
   ],
   "source": [
    "a = \"Viva Nerla\"\n",
    "print(a.lower()) # converts all the letters of a string to lowercase"
   ]
  },
  {
   "cell_type": "code",
   "execution_count": 74,
   "id": "0de5e367-1174-4b94-863d-08ac7d19fa8a",
   "metadata": {},
   "outputs": [
    {
     "name": "stdout",
     "output_type": "stream",
     "text": [
      "Viva Nerla\n"
     ]
    }
   ],
   "source": [
    "a = \"    Viva Nerla\"\n",
    "print(a.lstrip()) # strips the left white spaces"
   ]
  },
  {
   "cell_type": "code",
   "execution_count": 75,
   "id": "cfe2043b-4a51-45ae-b8e1-a79d5ed73fa5",
   "metadata": {},
   "outputs": [
    {
     "name": "stdout",
     "output_type": "stream",
     "text": [
      "Helcome to the world!\n"
     ]
    }
   ],
   "source": [
    "a = \"Welcome to the world!\"\n",
    "\n",
    "mytable = str.maketrans(\"W\", \"H\") # Returns a translation table to be used in translations\n",
    "print(a.translate(mytable))"
   ]
  },
  {
   "cell_type": "code",
   "execution_count": 76,
   "id": "065f22a3-adab-40ae-909a-940420051127",
   "metadata": {},
   "outputs": [
    {
     "name": "stdout",
     "output_type": "stream",
     "text": [
      "('Welcome ', 'to', ' the world!')\n"
     ]
    }
   ],
   "source": [
    "a = \"Welcome to the world!\"\n",
    "print(a.partition(\"to\")) # returns a tuple with three elements. 1. before match, 2. match, 3. after match"
   ]
  },
  {
   "cell_type": "code",
   "execution_count": 77,
   "id": "40f03df2-0c79-4790-b1e2-122f654e99ee",
   "metadata": {},
   "outputs": [
    {
     "name": "stdout",
     "output_type": "stream",
     "text": [
      "Ha  y Days!\n"
     ]
    }
   ],
   "source": [
    "a = \"Happy Days!\"\n",
    "print(a.replace(\"p\", \" \")) # replces one value with another specified value"
   ]
  },
  {
   "cell_type": "code",
   "execution_count": 78,
   "id": "06d7491c-aa43-4189-b8f9-5a3813f9e26a",
   "metadata": {},
   "outputs": [
    {
     "name": "stdout",
     "output_type": "stream",
     "text": [
      "3\n"
     ]
    }
   ],
   "source": [
    "a = \"Happy Days!\"\n",
    "print(a.rfind(\"p\")) # Searches the string for a specified value and returns the last position of where it was found"
   ]
  },
  {
   "cell_type": "code",
   "execution_count": 79,
   "id": "51c55b58-6f5f-4df6-9ba9-27fd2ffb958d",
   "metadata": {},
   "outputs": [
    {
     "name": "stdout",
     "output_type": "stream",
     "text": [
      "3\n"
     ]
    }
   ],
   "source": [
    "a = \"Happy Days\"\n",
    "print(a.rindex(\"p\")) # Searches the string for a specified value and returns the last position of where it was found"
   ]
  },
  {
   "cell_type": "code",
   "execution_count": 80,
   "id": "9c5e4e01-e27b-4998-9cc8-eeccaa5fe389",
   "metadata": {},
   "outputs": [
    {
     "name": "stdout",
     "output_type": "stream",
     "text": [
      "              Happy Days!\n"
     ]
    }
   ],
   "source": [
    "a = \"Happy Days!\"\n",
    "print(a.rjust(25)) # Returns a right justified version of the string"
   ]
  },
  {
   "cell_type": "code",
   "execution_count": 81,
   "id": "70df2b5a-0663-44dd-9aa5-c81b8deee11e",
   "metadata": {},
   "outputs": [
    {
     "name": "stdout",
     "output_type": "stream",
     "text": [
      "('I could eat bananas all day, ', 'bananas', ' are my favorite fruit')\n"
     ]
    }
   ],
   "source": [
    "txt = \"I could eat bananas all day, bananas are my favorite fruit\"\n",
    "\n",
    "x = txt.rpartition(\"bananas\") # Returns a tuple where the string is parted into three parts\n",
    "\n",
    "print(x)"
   ]
  },
  {
   "cell_type": "code",
   "execution_count": 83,
   "id": "cda32d55-eb79-4a77-b081-5783842cb657",
   "metadata": {},
   "outputs": [
    {
     "name": "stdout",
     "output_type": "stream",
     "text": [
      "['apple', 'banana', 'cherry']\n"
     ]
    }
   ],
   "source": [
    "txt = \"apple, banana, cherry\"\n",
    "\n",
    "x = txt.rsplit(\", \") # Splits the string at the specified separator, and returns a list\n",
    "\n",
    "print(x)"
   ]
  },
  {
   "cell_type": "code",
   "execution_count": 84,
   "id": "aa823167-0167-486a-8b06-326602abe677",
   "metadata": {},
   "outputs": [
    {
     "name": "stdout",
     "output_type": "stream",
     "text": [
      "    Viva is awesmoe\n"
     ]
    }
   ],
   "source": [
    "a = \"    Viva    \"\n",
    "print(a.rstrip(), \"is awesmoe\")"
   ]
  },
  {
   "cell_type": "code",
   "execution_count": 85,
   "id": "7563f393-6ba6-42af-bcd9-426cb830733a",
   "metadata": {},
   "outputs": [
    {
     "name": "stdout",
     "output_type": "stream",
     "text": [
      "['Welcome', 'to', 'the', 'new', 'world!']\n"
     ]
    }
   ],
   "source": [
    "a = \"Welcome to the new world!\"\n",
    "print(a.split()) # splits at specified separator. If not specified, space is used for separator"
   ]
  },
  {
   "cell_type": "code",
   "execution_count": 86,
   "id": "e847f834-79ce-4faf-a37f-a1838c76f678",
   "metadata": {},
   "outputs": [
    {
     "name": "stdout",
     "output_type": "stream",
     "text": [
      "['This is Python programming', 'It is very important for ML']\n"
     ]
    }
   ],
   "source": [
    "a = \"This is Python programming\\nIt is very important for ML\"\n",
    "print(a.splitlines()) # splits the string at line breaks and returns a list"
   ]
  },
  {
   "cell_type": "code",
   "execution_count": 87,
   "id": "8cc19027-b881-4d3f-a5aa-b677f935cdd2",
   "metadata": {},
   "outputs": [
    {
     "name": "stdout",
     "output_type": "stream",
     "text": [
      "True\n"
     ]
    }
   ],
   "source": [
    "a = \"Welcome to the awesome world of Python\"\n",
    "print(a.startswith(\"Welcome\")) # returns True if the string starts with the specified value"
   ]
  },
  {
   "cell_type": "code",
   "execution_count": 88,
   "id": "f425f4c2-36d4-46f2-aafc-3038e7159f9b",
   "metadata": {},
   "outputs": [
    {
     "name": "stdout",
     "output_type": "stream",
     "text": [
      "Viva\n",
      "4\n"
     ]
    }
   ],
   "source": [
    "a = \"      Viva     \"\n",
    "print(a.strip())\n",
    "print(len(a.strip()))"
   ]
  },
  {
   "cell_type": "code",
   "execution_count": 89,
   "id": "cbdaf2ab-60e2-4c2d-80f7-5eed35a3e039",
   "metadata": {},
   "outputs": [
    {
     "name": "stdout",
     "output_type": "stream",
     "text": [
      "vIVA nERLA\n"
     ]
    }
   ],
   "source": [
    "a = \"Viva Nerla\"\n",
    "print(a.swapcase()) # as the name suggests, it swaps the case of the each letter in the string"
   ]
  },
  {
   "cell_type": "code",
   "execution_count": 90,
   "id": "c119bd0c-8504-451e-926e-e0f49d4880a2",
   "metadata": {},
   "outputs": [
    {
     "name": "stdout",
     "output_type": "stream",
     "text": [
      "Welcome To The Awesome World Of Python\n"
     ]
    }
   ],
   "source": [
    "a = \"welcome to the awesome world of python\"\n",
    "print(a.title()) # Converts first letter of every word to uppercase"
   ]
  },
  {
   "cell_type": "code",
   "execution_count": 91,
   "id": "5b06af07-a844-49d3-b103-651b1f992f18",
   "metadata": {},
   "outputs": [
    {
     "name": "stdout",
     "output_type": "stream",
     "text": [
      "Hello Pam!\n"
     ]
    }
   ],
   "source": [
    "mydict = {83:  80}\n",
    "txt = \"Hello Sam!\"\n",
    "print(txt.translate(mydict)) # Returns a translated string"
   ]
  },
  {
   "cell_type": "code",
   "execution_count": 93,
   "id": "763ae41d-3110-4c21-b482-a5d0e7fdf215",
   "metadata": {},
   "outputs": [
    {
     "name": "stdout",
     "output_type": "stream",
     "text": [
      "WELCOME TO THE AWESOME WORLD OF PYTHON\n"
     ]
    }
   ],
   "source": [
    "a = \"welcome to the awesome world of python\"\n",
    "print(a.upper())"
   ]
  },
  {
   "cell_type": "code",
   "execution_count": 94,
   "id": "027b1aa4-a4cf-4808-8fa7-c18251368300",
   "metadata": {},
   "outputs": [
    {
     "name": "stdout",
     "output_type": "stream",
     "text": [
      "000000Viva\n"
     ]
    }
   ],
   "source": [
    "a = \"Viva\"\n",
    "print(a.zfill(10)) # Fills the string with zeros until it is specified number of characters long"
   ]
  },
  {
   "cell_type": "markdown",
   "id": "f76bd3b0-4302-4aa5-b164-178db83272fb",
   "metadata": {},
   "source": [
    "# 10. Python Booleans"
   ]
  },
  {
   "cell_type": "code",
   "execution_count": 98,
   "id": "eab302f8-1cd0-48f3-97cd-8e73703b5c55",
   "metadata": {},
   "outputs": [
    {
     "name": "stdout",
     "output_type": "stream",
     "text": [
      "True\n",
      "False\n",
      "False\n"
     ]
    }
   ],
   "source": [
    "print(10 > 9)\n",
    "print(10 == 9)\n",
    "print(10 < 9)"
   ]
  },
  {
   "cell_type": "code",
   "execution_count": 99,
   "id": "3c6b1fed-588e-48b4-94c6-6a956aed13d3",
   "metadata": {},
   "outputs": [
    {
     "name": "stdout",
     "output_type": "stream",
     "text": [
      "300 is greater than 100\n"
     ]
    }
   ],
   "source": [
    "# Boolean expressions let's to evaluate statements\n",
    "a = 100\n",
    "b = 300\n",
    "\n",
    "if a > b:\n",
    "    print(f\"{a} is greater than {b}\")\n",
    "else:\n",
    "    print(f\"{b} is greater than {a}\")"
   ]
  },
  {
   "cell_type": "code",
   "execution_count": 100,
   "id": "dec8ac17-85f9-400d-83ac-d9c89bd2055f",
   "metadata": {},
   "outputs": [
    {
     "name": "stdout",
     "output_type": "stream",
     "text": [
      "True\n",
      "False\n",
      "True\n"
     ]
    }
   ],
   "source": [
    "print(bool(15))\n",
    "print(bool(0))\n",
    "print(bool(\"Hello\"))"
   ]
  },
  {
   "cell_type": "code",
   "execution_count": 101,
   "id": "f3c9e9ec-2865-4bab-8957-45ed79bfe0bd",
   "metadata": {},
   "outputs": [
    {
     "data": {
      "text/plain": [
       "'\\nAny string is True, except empty strings.\\n\\nAny number is True, except 0.\\n\\nAny list, tuple, set, and dictionary are True, except empty ones.\\n'"
      ]
     },
     "execution_count": 101,
     "metadata": {},
     "output_type": "execute_result"
    }
   ],
   "source": [
    "\"\"\"\n",
    "Any string is True, except empty strings.\n",
    "\n",
    "Any number is True, except 0.\n",
    "\n",
    "Any list, tuple, set, and dictionary are True, except empty ones.\n",
    "\"\"\""
   ]
  },
  {
   "cell_type": "code",
   "execution_count": 102,
   "id": "396dbff9-90c5-49fe-84fc-83161f420984",
   "metadata": {},
   "outputs": [
    {
     "name": "stdout",
     "output_type": "stream",
     "text": [
      "True\n",
      "True\n",
      "True\n"
     ]
    }
   ],
   "source": [
    "print(bool(\"abc\"))\n",
    "print(bool(123))\n",
    "print(bool([\"apple\", \"cherry\", \"banana\"]))"
   ]
  },
  {
   "cell_type": "code",
   "execution_count": 103,
   "id": "b202c505-3a3e-40b3-839c-4e18cf78ad14",
   "metadata": {},
   "outputs": [
    {
     "name": "stdout",
     "output_type": "stream",
     "text": [
      "False\n",
      "False\n",
      "False\n",
      "False\n",
      "False\n",
      "False\n",
      "False\n"
     ]
    }
   ],
   "source": [
    "print(bool(False))\n",
    "print(bool(None))\n",
    "print(bool(0))\n",
    "print(bool(\"\"))\n",
    "print(bool(()))\n",
    "print(bool([]))\n",
    "print(bool({}))"
   ]
  },
  {
   "cell_type": "code",
   "execution_count": 104,
   "id": "04539532-ff3c-4060-acd3-ec9896453e18",
   "metadata": {},
   "outputs": [
    {
     "name": "stdout",
     "output_type": "stream",
     "text": [
      "True\n"
     ]
    }
   ],
   "source": [
    "def myFunction() :\n",
    "  return True\n",
    "\n",
    "print(myFunction())"
   ]
  },
  {
   "cell_type": "code",
   "execution_count": 105,
   "id": "6dd638b9-4e2f-4b7d-afd2-0e552ca9ec21",
   "metadata": {},
   "outputs": [
    {
     "name": "stdout",
     "output_type": "stream",
     "text": [
      "YES!\n"
     ]
    }
   ],
   "source": [
    "def myFunction() :\n",
    "  return True\n",
    "\n",
    "if myFunction():\n",
    "  print(\"YES!\")\n",
    "else:\n",
    "  print(\"NO!\")"
   ]
  },
  {
   "cell_type": "code",
   "execution_count": 106,
   "id": "3df85539-760f-4793-877c-f708659eae7a",
   "metadata": {},
   "outputs": [
    {
     "name": "stdout",
     "output_type": "stream",
     "text": [
      "True\n"
     ]
    }
   ],
   "source": [
    "# Python has many built-in functions that returns boolean\n",
    "x = 200\n",
    "print(isinstance(x, int))"
   ]
  },
  {
   "cell_type": "markdown",
   "id": "d650aee3-61b5-4dc0-84df-2af739d235a7",
   "metadata": {},
   "source": [
    "# 11. Python Operators"
   ]
  },
  {
   "cell_type": "markdown",
   "id": "210e975e-a34a-45d4-bc2f-eeb09d61cc6a",
   "metadata": {},
   "source": [
    "### 11a. Arithmatic Operators"
   ]
  },
  {
   "cell_type": "code",
   "execution_count": 109,
   "id": "51546f45-ced2-4b6f-a27a-3a2e324bdca9",
   "metadata": {},
   "outputs": [
    {
     "name": "stdout",
     "output_type": "stream",
     "text": [
      "15\n",
      "5\n",
      "100\n",
      "4.0\n",
      "1\n",
      "4\n",
      "5\n"
     ]
    }
   ],
   "source": [
    "print(10 + 5) # addition\n",
    "print(9 - 4) # subtraction\n",
    "print(10 * 10) # multiplication\n",
    "print(16 / 4) # division\n",
    "print(16 % 5) # remainder\n",
    "print(2 ** 2) # exponential\n",
    "print(17 // 3) # floor division"
   ]
  },
  {
   "cell_type": "markdown",
   "id": "ba2f9eea-d066-4bfd-8ace-d7f62a02ff6a",
   "metadata": {},
   "source": [
    "### 11b. Assignment Operators"
   ]
  },
  {
   "cell_type": "code",
   "execution_count": 111,
   "id": "e14f13b0-fa84-425e-9ca8-74ef7e1bddbf",
   "metadata": {},
   "outputs": [
    {
     "name": "stdout",
     "output_type": "stream",
     "text": [
      "5\n",
      "8\n",
      "4\n",
      "16\n",
      "2.0\n"
     ]
    }
   ],
   "source": [
    "x = 5 # assignment\n",
    "print(x)\n",
    "x += 3 # same as x + 3\n",
    "print(x)\n",
    "x -= 4 # same as x - 4\n",
    "print(x)\n",
    "x *= 4 # same as x * 4\n",
    "print(x)\n",
    "x /= 8 # same as x / 8\n",
    "print(x)"
   ]
  },
  {
   "cell_type": "code",
   "execution_count": 112,
   "id": "6cfd08ff-02d6-49d8-8d92-ae10a5c10c54",
   "metadata": {},
   "outputs": [
    {
     "name": "stdout",
     "output_type": "stream",
     "text": [
      "2\n"
     ]
    }
   ],
   "source": [
    "x = 20\n",
    "x %= 3 # same as x % 3\n",
    "print(x)"
   ]
  },
  {
   "cell_type": "code",
   "execution_count": 113,
   "id": "a93aea08-1118-45c7-82cd-a3b545a04df1",
   "metadata": {},
   "outputs": [
    {
     "name": "stdout",
     "output_type": "stream",
     "text": [
      "6\n"
     ]
    }
   ],
   "source": [
    "x = 20\n",
    "x //= 3 # same as x // 3\n",
    "print(x)"
   ]
  },
  {
   "cell_type": "code",
   "execution_count": 114,
   "id": "a4ab32e6-3f3e-46fa-87e3-de7112dd84fc",
   "metadata": {},
   "outputs": [
    {
     "name": "stdout",
     "output_type": "stream",
     "text": [
      "1024\n"
     ]
    }
   ],
   "source": [
    "x = 4\n",
    "x **= 5 # same as x ** 5\n",
    "print(x)"
   ]
  },
  {
   "cell_type": "code",
   "execution_count": 115,
   "id": "a045fbc5-6289-42be-a990-5165d247ab98",
   "metadata": {},
   "outputs": [
    {
     "name": "stdout",
     "output_type": "stream",
     "text": [
      "1\n"
     ]
    }
   ],
   "source": [
    "x = 5\n",
    "x &= 3 # same as x & 3\n",
    "print(x)"
   ]
  },
  {
   "cell_type": "code",
   "execution_count": 116,
   "id": "89652793-69b4-4491-b068-de5dae5e564a",
   "metadata": {},
   "outputs": [
    {
     "name": "stdout",
     "output_type": "stream",
     "text": [
      "11\n"
     ]
    }
   ],
   "source": [
    "x = 10\n",
    "x |= 3 # same as x | 3\n",
    "print(x)"
   ]
  },
  {
   "cell_type": "code",
   "execution_count": 117,
   "id": "674c68c2-1010-42e6-8281-11fd6e984f9c",
   "metadata": {},
   "outputs": [
    {
     "name": "stdout",
     "output_type": "stream",
     "text": [
      "1\n"
     ]
    }
   ],
   "source": [
    "x = 2\n",
    "x ^= 3 # same as x^3\n",
    "print(x)"
   ]
  },
  {
   "cell_type": "code",
   "execution_count": 118,
   "id": "63ea0902-eda0-4637-a2ea-1011156d7925",
   "metadata": {},
   "outputs": [
    {
     "name": "stdout",
     "output_type": "stream",
     "text": [
      "0\n"
     ]
    }
   ],
   "source": [
    "x = 5\n",
    "x >>= 3 # same as x >> 3\n",
    "print(x)"
   ]
  },
  {
   "cell_type": "code",
   "execution_count": 119,
   "id": "4d996eb3-82a6-4502-9549-a0c3a0aed17a",
   "metadata": {},
   "outputs": [
    {
     "name": "stdout",
     "output_type": "stream",
     "text": [
      "40\n"
     ]
    }
   ],
   "source": [
    "x = 5\n",
    "x <<= 3 # same as x << 3\n",
    "print(x)"
   ]
  },
  {
   "cell_type": "code",
   "execution_count": 120,
   "id": "351f4676-e99e-46c2-b7a7-8106a2c31875",
   "metadata": {},
   "outputs": [
    {
     "name": "stdout",
     "output_type": "stream",
     "text": [
      "3\n"
     ]
    }
   ],
   "source": [
    "print(x := 3) # same as x = 3 and print(x) together"
   ]
  },
  {
   "cell_type": "markdown",
   "id": "5d1c55cc-2271-4e39-8d65-0317e8f9c3da",
   "metadata": {},
   "source": [
    "### 11c. Comparison operators"
   ]
  },
  {
   "cell_type": "code",
   "execution_count": 122,
   "id": "619f34cc-130c-40f2-9e7d-ac6404b4601b",
   "metadata": {},
   "outputs": [
    {
     "name": "stdout",
     "output_type": "stream",
     "text": [
      "False\n",
      "False\n",
      "True\n",
      "False\n",
      "True\n",
      "True\n"
     ]
    }
   ],
   "source": [
    "x = 4\n",
    "y = 6\n",
    "print(x == y)\n",
    "print(x > y)\n",
    "print(x < y)\n",
    "print(x >= y)\n",
    "print(x <= y)\n",
    "print(x != y)"
   ]
  },
  {
   "cell_type": "markdown",
   "id": "3d13e5e8-7c68-427c-bddd-9dc37176a0fd",
   "metadata": {},
   "source": [
    "### 11d. Logical Operators"
   ]
  },
  {
   "cell_type": "code",
   "execution_count": 124,
   "id": "8f683019-4d61-4c4c-9f52-2e646c187738",
   "metadata": {},
   "outputs": [
    {
     "name": "stdout",
     "output_type": "stream",
     "text": [
      "False\n",
      "True\n",
      "True\n"
     ]
    }
   ],
   "source": [
    "x = 10\n",
    "print(x > 5 and x < 9) # and means both the comditions should be satisfied\n",
    "print(x > 5 or x < 9) # or means either of the conditions can be satisfied\n",
    "print(not(x > 5 and x < 9)) # just opposite of the condition specified"
   ]
  },
  {
   "cell_type": "markdown",
   "id": "45a74fae-31e2-4193-b5ed-80ae9782ccd9",
   "metadata": {},
   "source": [
    "### 11e. Identity Operators"
   ]
  },
  {
   "cell_type": "code",
   "execution_count": 126,
   "id": "9d0ac028-8c8f-429d-97ed-503aa9e0142d",
   "metadata": {},
   "outputs": [
    {
     "name": "stdout",
     "output_type": "stream",
     "text": [
      "True\n",
      "False\n"
     ]
    }
   ],
   "source": [
    "x = 5\n",
    "y = 5\n",
    "print(x is y)\n",
    "print(x is not y)"
   ]
  },
  {
   "cell_type": "markdown",
   "id": "93a60131-6668-41c5-8455-305527be9b48",
   "metadata": {},
   "source": [
    "### 11f. Membership Operators"
   ]
  },
  {
   "cell_type": "code",
   "execution_count": 128,
   "id": "d8c668ca-ec78-4476-8f0f-b1d89bcebaf4",
   "metadata": {},
   "outputs": [
    {
     "name": "stdout",
     "output_type": "stream",
     "text": [
      "True\n"
     ]
    }
   ],
   "source": [
    "x = [\"apple\", \"banana\"]\n",
    "print(\"banana\" in x)"
   ]
  },
  {
   "cell_type": "code",
   "execution_count": 129,
   "id": "8b13f0c6-d633-403a-a09f-dee55f0e2c46",
   "metadata": {},
   "outputs": [
    {
     "name": "stdout",
     "output_type": "stream",
     "text": [
      "False\n"
     ]
    }
   ],
   "source": [
    "x = [\"apple\", \"banana\"]\n",
    "print(\"banana\" not in x)"
   ]
  },
  {
   "cell_type": "markdown",
   "id": "f9f653fe-f45a-4ae8-a038-6f75181773b2",
   "metadata": {},
   "source": [
    "### 11g. Bitwise Operators"
   ]
  },
  {
   "cell_type": "code",
   "execution_count": 131,
   "id": "ee15accb-a30b-4049-88c1-710b1214be65",
   "metadata": {},
   "outputs": [
    {
     "name": "stdout",
     "output_type": "stream",
     "text": [
      "2\n",
      "0\n"
     ]
    }
   ],
   "source": [
    "print(6 & 3) # compares each bit and set it to 1 if both are 1, otherwise it is set to 0\n",
    "print(0 & 2)"
   ]
  },
  {
   "cell_type": "code",
   "execution_count": 132,
   "id": "19dc2edb-118a-40b2-a713-84695ed5e831",
   "metadata": {},
   "outputs": [
    {
     "name": "stdout",
     "output_type": "stream",
     "text": [
      "7\n",
      "2\n"
     ]
    }
   ],
   "source": [
    "print(6 | 3) # Sets each bit to 1 if one of two bits is 1\n",
    "print(0 | 2)"
   ]
  },
  {
   "cell_type": "code",
   "execution_count": 133,
   "id": "0ef1d4b8-eafe-4120-adc4-5029b3e36ded",
   "metadata": {},
   "outputs": [
    {
     "name": "stdout",
     "output_type": "stream",
     "text": [
      "6\n",
      "6\n",
      "7\n"
     ]
    }
   ],
   "source": [
    "print(4 ^ 2) # Sets each bit to 1 if only one of two bits is 1\n",
    "print(0 ^ 6)\n",
    "print(7 ^ 0)"
   ]
  },
  {
   "cell_type": "code",
   "execution_count": 134,
   "id": "13e96748-0c9b-4bfb-848f-6806aa4f0b72",
   "metadata": {},
   "outputs": [
    {
     "name": "stdout",
     "output_type": "stream",
     "text": [
      "-8\n"
     ]
    }
   ],
   "source": [
    "print(~7) # Inverts all the bits"
   ]
  },
  {
   "cell_type": "code",
   "execution_count": 135,
   "id": "24036726-d53c-40a4-bc66-1c2fd9c89b5b",
   "metadata": {},
   "outputs": [
    {
     "name": "stdout",
     "output_type": "stream",
     "text": [
      "16\n"
     ]
    }
   ],
   "source": [
    "x = 4\n",
    "print(x << 2) # Shift left by pushing zeros in from the right and let the leftmost bits fall off"
   ]
  },
  {
   "cell_type": "code",
   "execution_count": 136,
   "id": "e2e48256-63a8-4bce-93b3-901fa36a40b1",
   "metadata": {},
   "outputs": [
    {
     "name": "stdout",
     "output_type": "stream",
     "text": [
      "1\n"
     ]
    }
   ],
   "source": [
    "x = 6\n",
    "print(x >> 2) # Shift right by pushing copies of the leftmost bit in from the left, and let the rightmost bits fall off"
   ]
  },
  {
   "cell_type": "markdown",
   "id": "10276c14-0d67-404f-a0fb-a321fe88b617",
   "metadata": {},
   "source": [
    "### 11g. Operator Precedence"
   ]
  },
  {
   "cell_type": "code",
   "execution_count": 138,
   "id": "63214404-a766-46b4-88db-cc169a2fa94e",
   "metadata": {},
   "outputs": [
    {
     "data": {
      "text/plain": [
       "'\\nOrder as listed:\\n1. ()\\n2. **\\n3. +x, -x, ~x\\n4. *, /, //, % \\n5. +, -\\n6. <<, >>\\n7. &\\n8. ^\\n9. |\\n10. ==, !=, >, >=, <, <=, is, is not, in, not in\\n11. not\\n12. and\\n13. or\\n'"
      ]
     },
     "execution_count": 138,
     "metadata": {},
     "output_type": "execute_result"
    }
   ],
   "source": [
    "\"\"\"\n",
    "Order as listed:\n",
    "1. ()\n",
    "2. **\n",
    "3. +x, -x, ~x\n",
    "4. *, /, //, % \n",
    "5. +, -\n",
    "6. <<, >>\n",
    "7. &\n",
    "8. ^\n",
    "9. |\n",
    "10. ==, !=, >, >=, <, <=, is, is not, in, not in\n",
    "11. not\n",
    "12. and\n",
    "13. or\n",
    "\"\"\" "
   ]
  },
  {
   "cell_type": "code",
   "execution_count": 139,
   "id": "fec01db1-c1ef-49ae-a934-cfd9c791662e",
   "metadata": {},
   "outputs": [
    {
     "name": "stdout",
     "output_type": "stream",
     "text": [
      "12\n"
     ]
    }
   ],
   "source": [
    "print(5 + 4 - 3 + 6)"
   ]
  },
  {
   "cell_type": "markdown",
   "id": "4b411a83-a3f8-4c81-b8dc-154183e9dab6",
   "metadata": {},
   "source": [
    "# 12. Lists"
   ]
  },
  {
   "cell_type": "code",
   "execution_count": 141,
   "id": "e5181d2b-003f-4a60-a120-685533e5f69f",
   "metadata": {},
   "outputs": [
    {
     "name": "stdout",
     "output_type": "stream",
     "text": [
      "['Apple', 'Banana', 'Orange']\n"
     ]
    }
   ],
   "source": [
    "# Lists are created using square brackets\n",
    "fruits = [\"Apple\", \"Banana\", \"Orange\"]\n",
    "print(fruits)"
   ]
  },
  {
   "cell_type": "code",
   "execution_count": 142,
   "id": "796395c3-d065-419c-afdc-0083e895ecc4",
   "metadata": {},
   "outputs": [
    {
     "data": {
      "text/plain": [
       "'\\nLists are ordered:\\n1. The items have a defined order, and that order will not changed\\n2. If a new item added to the list, it will be added at the end\\nLists are changeable:\\n1. Items can be added or removed from the list\\n2. This can be done even after a list is created\\n'"
      ]
     },
     "execution_count": 142,
     "metadata": {},
     "output_type": "execute_result"
    }
   ],
   "source": [
    "\"\"\"\n",
    "Lists are ordered:\n",
    "1. The items have a defined order, and that order will not changed\n",
    "2. If a new item added to the list, it will be added at the end\n",
    "Lists are changeable:\n",
    "1. Items can be added or removed from the list\n",
    "2. This can be done even after a list is created\n",
    "\"\"\""
   ]
  },
  {
   "cell_type": "code",
   "execution_count": 143,
   "id": "30a065bf-0c57-4e57-ab2c-8f1992df88d1",
   "metadata": {},
   "outputs": [
    {
     "name": "stdout",
     "output_type": "stream",
     "text": [
      "['Apple', 'Banana', 'Orange', 'Apple', 'Cherry']\n"
     ]
    }
   ],
   "source": [
    "# Lists allow duplicates\n",
    "fruits = [\"Apple\", \"Banana\", \"Orange\", \"Apple\", \"Cherry\"]\n",
    "print(fruits)"
   ]
  },
  {
   "cell_type": "code",
   "execution_count": 144,
   "id": "f9669290-c05b-4d74-8953-510bf7dd78a7",
   "metadata": {},
   "outputs": [
    {
     "name": "stdout",
     "output_type": "stream",
     "text": [
      "3\n"
     ]
    }
   ],
   "source": [
    "# len() function can be used to determine the length of the list\n",
    "fruits = [\"Apple\", \"Banana\", \"Orange\"]\n",
    "print(len(fruits))"
   ]
  },
  {
   "cell_type": "code",
   "execution_count": 145,
   "id": "ea879418-2042-418e-91a9-d931b82da85b",
   "metadata": {},
   "outputs": [],
   "source": [
    "# list items can be of any data type\n",
    "fruits = [\"Apple\", \"Banana\", \"Orange\"]\n",
    "numbers = [1, 2, 3, 4, 5]\n",
    "list3 = [True, False, False]"
   ]
  },
  {
   "cell_type": "code",
   "execution_count": 146,
   "id": "acaa187a-187c-4e73-a793-7a5fe614bc92",
   "metadata": {},
   "outputs": [],
   "source": [
    "# Single list can have different types of list items\n",
    "list1 = [\"a\", 2, True, \"Banana\", False]"
   ]
  },
  {
   "cell_type": "code",
   "execution_count": 147,
   "id": "dfe468cc-01d2-4399-82a9-8626b82f00f1",
   "metadata": {},
   "outputs": [
    {
     "name": "stdout",
     "output_type": "stream",
     "text": [
      "<class 'list'>\n"
     ]
    }
   ],
   "source": [
    "list1 = [\"a\", 2, True, \"Banana\", False]\n",
    "print(type(list1))"
   ]
  },
  {
   "cell_type": "code",
   "execution_count": 148,
   "id": "5f53366f-0523-47e1-83be-ecebfb7abbd7",
   "metadata": {},
   "outputs": [
    {
     "name": "stdout",
     "output_type": "stream",
     "text": [
      "['Apple', 'Banana', 'Orange']\n",
      "<class 'list'>\n"
     ]
    }
   ],
   "source": [
    "# list constructor can be used while defining a new list\n",
    "fruits = list((\"Apple\", \"Banana\", \"Orange\"))\n",
    "print(fruits)\n",
    "print(type(fruits))"
   ]
  },
  {
   "cell_type": "code",
   "execution_count": 149,
   "id": "233b6520-2090-4ced-9b76-f158cb4ca0c4",
   "metadata": {},
   "outputs": [
    {
     "data": {
      "text/plain": [
       "'\\nPython Collections (Arrays)\\nThere are four collection data types in the Python programming language:\\n\\nList is a collection which is ordered and changeable. Allows duplicate members.\\nTuple is a collection which is ordered and unchangeable. Allows duplicate members.\\nSet is a collection which is unordered, unchangeable*, and unindexed. No duplicate members.\\nDictionary is a collection which is ordered and changeable. No duplicate members.\\n*Set items are unchangeable, but you can remove and/or add items whenever you like.\\n'"
      ]
     },
     "execution_count": 149,
     "metadata": {},
     "output_type": "execute_result"
    }
   ],
   "source": [
    "\"\"\"\n",
    "Python Collections (Arrays)\n",
    "There are four collection data types in the Python programming language:\n",
    "\n",
    "List is a collection which is ordered and changeable. Allows duplicate members.\n",
    "Tuple is a collection which is ordered and unchangeable. Allows duplicate members.\n",
    "Set is a collection which is unordered, unchangeable*, and unindexed. No duplicate members.\n",
    "Dictionary is a collection which is ordered and changeable. No duplicate members.\n",
    "*Set items are unchangeable, but you can remove and/or add items whenever you like.\n",
    "\"\"\""
   ]
  },
  {
   "cell_type": "markdown",
   "id": "75aae250-429d-48bd-bb23-0a43f5040051",
   "metadata": {},
   "source": [
    "### 12a. Accessing List Items"
   ]
  },
  {
   "cell_type": "code",
   "execution_count": 151,
   "id": "40c29666-d549-4b27-8f0a-20f3789f08ec",
   "metadata": {},
   "outputs": [
    {
     "name": "stdout",
     "output_type": "stream",
     "text": [
      "Banana\n"
     ]
    }
   ],
   "source": [
    "fruits = [\"Apple\", \"Banana\", \"Orange\"]\n",
    "print(fruits[1]) # list items can be accessed by index numbers. First item's index is 0"
   ]
  },
  {
   "cell_type": "code",
   "execution_count": 152,
   "id": "1c5ff603-3c37-418b-a834-1831ca6ca57a",
   "metadata": {},
   "outputs": [
    {
     "name": "stdout",
     "output_type": "stream",
     "text": [
      "Orange\n"
     ]
    }
   ],
   "source": [
    "fruits = [\"Apple\", \"Banana\", \"Orange\"]\n",
    "print(fruits[-1]) # negative indexing means start from the end. -1 is the first item from the last. -2 is the second last and so on"
   ]
  },
  {
   "cell_type": "code",
   "execution_count": 153,
   "id": "5044d286-231a-49f2-bb3b-e72894ba1007",
   "metadata": {},
   "outputs": [
    {
     "name": "stdout",
     "output_type": "stream",
     "text": [
      "['cherry', 'orange', 'kiwi']\n"
     ]
    }
   ],
   "source": [
    "fruits = [\"apple\", \"banana\", \"cherry\", \"orange\", \"kiwi\", \"melon\", \"mango\"]\n",
    "print(fruits[2:5]) # multiple items of the list can be accessed by range of indexes"
   ]
  },
  {
   "cell_type": "code",
   "execution_count": 154,
   "id": "0d12bdf6-edd3-4147-9aad-37e7ca6cf4b8",
   "metadata": {},
   "outputs": [
    {
     "name": "stdout",
     "output_type": "stream",
     "text": [
      "['apple', 'banana', 'cherry', 'orange', 'kiwi']\n",
      "['cherry', 'orange', 'kiwi', 'melon', 'mango']\n"
     ]
    }
   ],
   "source": [
    "print(fruits[:5]) # to access items from the start till 4th item\n",
    "print(fruits[2:]) # to access items from 2nd item till the last"
   ]
  },
  {
   "cell_type": "code",
   "execution_count": 155,
   "id": "a115f83b-d346-41af-a009-266750d4df45",
   "metadata": {},
   "outputs": [
    {
     "name": "stdout",
     "output_type": "stream",
     "text": [
      "['apple', 'banana', 'cherry', 'orange', 'kiwi']\n",
      "['orange', 'kiwi', 'melon', 'mango']\n"
     ]
    }
   ],
   "source": [
    "# range of negative indexes also can be used the same way\n",
    "print(fruits[:-2]) # to access items from the start till 3rd item from last\n",
    "print(fruits[-4:]) # to access items from 4th item from last till the end"
   ]
  },
  {
   "cell_type": "code",
   "execution_count": 156,
   "id": "2ea92dc0-bf1f-46c2-a729-7214f14a84af",
   "metadata": {},
   "outputs": [
    {
     "name": "stdout",
     "output_type": "stream",
     "text": [
      "YES\n"
     ]
    }
   ],
   "source": [
    "# check if an item exists in the list\n",
    "if \"apple\" in fruits:\n",
    "    print(\"YES\")"
   ]
  },
  {
   "cell_type": "markdown",
   "id": "9ab1c6e3-93ab-48fc-9132-1796a53e0fb9",
   "metadata": {},
   "source": [
    "### 12b. Change Item Value"
   ]
  },
  {
   "cell_type": "code",
   "execution_count": 158,
   "id": "d6bed792-1341-4e7b-8da5-d87874ebc598",
   "metadata": {},
   "outputs": [
    {
     "name": "stdout",
     "output_type": "stream",
     "text": [
      "['apple', 'strawberry', 'cherry', 'orange', 'kiwi', 'melon', 'mango']\n"
     ]
    }
   ],
   "source": [
    "fruits = [\"apple\", \"banana\", \"cherry\", \"orange\", \"kiwi\", \"melon\", \"mango\"]\n",
    "fruits[1] = \"strawberry\" # this changes the item in 2nd place to \"strawberry\"\n",
    "print(fruits)"
   ]
  },
  {
   "cell_type": "code",
   "execution_count": 159,
   "id": "0762e84e-f4f8-4d03-bd8d-eb808fd5ece2",
   "metadata": {},
   "outputs": [
    {
     "name": "stdout",
     "output_type": "stream",
     "text": [
      "['apple', 'blackcurrent', 'watermelon', 'orange', 'kiwi', 'melon', 'mango']\n"
     ]
    }
   ],
   "source": [
    "# in the same way, a range of items can be changed\n",
    "fruits[1:3] = [\"blackcurrent\", \"watermelon\"]\n",
    "print(fruits)"
   ]
  },
  {
   "cell_type": "code",
   "execution_count": 160,
   "id": "7e792290-2942-434d-a125-05246e5ccf18",
   "metadata": {},
   "outputs": [
    {
     "name": "stdout",
     "output_type": "stream",
     "text": [
      "['apple', 'blackcurrent', 'watermelon', 'cherry']\n"
     ]
    }
   ],
   "source": [
    "# if more items are inserted than the number of items being replaced, then a new item will be added\n",
    "fruits = [\"apple\", \"banana\", \"cherry\"]\n",
    "fruits[1:2] = [\"blackcurrent\", \"watermelon\"] # here two items are being inserted into 2nd place\n",
    "print(fruits)"
   ]
  },
  {
   "cell_type": "code",
   "execution_count": 161,
   "id": "63837bcb-1bf7-4f74-bb60-de1a31f0a038",
   "metadata": {},
   "outputs": [
    {
     "name": "stdout",
     "output_type": "stream",
     "text": [
      "['apple', 'watermelon']\n"
     ]
    }
   ],
   "source": [
    "# if less items are inserted, then the newly added item will be added\n",
    "fruits = [\"apple\", \"banana\", \"cherry\"]\n",
    "fruits[1:3] = [\"watermelon\"]\n",
    "print(fruits)"
   ]
  },
  {
   "cell_type": "code",
   "execution_count": 162,
   "id": "5a3fd346-b15a-450c-994d-c469f0dd13e3",
   "metadata": {},
   "outputs": [
    {
     "name": "stdout",
     "output_type": "stream",
     "text": [
      "['apple', 'banana', 'watermelon', 'cherry']\n"
     ]
    }
   ],
   "source": [
    "# insert() can be used to insert an item at a specific place without replacing the item in that place\n",
    "fruits = [\"apple\", \"banana\", \"cherry\"]\n",
    "fruits.insert(2, \"watermelon\")\n",
    "print(fruits)"
   ]
  },
  {
   "cell_type": "markdown",
   "id": "a4db3b13-484b-4071-b7b3-ccd564416f53",
   "metadata": {},
   "source": [
    "### 12c. Add List Items"
   ]
  },
  {
   "cell_type": "code",
   "execution_count": 164,
   "id": "f4ebb7fd-65e1-402b-87ec-616f0993687a",
   "metadata": {},
   "outputs": [
    {
     "name": "stdout",
     "output_type": "stream",
     "text": [
      "['apple', 'banana', 'cherry', 'watermelon']\n"
     ]
    }
   ],
   "source": [
    "# append() helps to add an item to the list at the end of the list\n",
    "fruits = [\"apple\", \"banana\", \"cherry\"]\n",
    "fruits.append(\"watermelon\")\n",
    "print(fruits)"
   ]
  },
  {
   "cell_type": "code",
   "execution_count": 165,
   "id": "cbc9e236-274c-429a-8b86-4ff29420a43e",
   "metadata": {},
   "outputs": [
    {
     "name": "stdout",
     "output_type": "stream",
     "text": [
      "['apple', 'banana', 'watermelon', 'cherry']\n"
     ]
    }
   ],
   "source": [
    "# insert() can be used to insert an item at a specific place without replacing the item in that place\n",
    "fruits = [\"apple\", \"banana\", \"cherry\"]\n",
    "fruits.insert(2, \"watermelon\")\n",
    "print(fruits)"
   ]
  },
  {
   "cell_type": "code",
   "execution_count": 166,
   "id": "898174ad-7b9d-482e-b172-81ca793a88a7",
   "metadata": {},
   "outputs": [
    {
     "name": "stdout",
     "output_type": "stream",
     "text": [
      "['apple', 'banana', 'orange', 'kiwi']\n"
     ]
    }
   ],
   "source": [
    "# extend() can be used to add items from one list to another list\n",
    "fruits1 = [\"apple\", \"banana\"]\n",
    "fruits2 = [\"orange\", \"kiwi\"]\n",
    "fruits1.extend(fruits2)\n",
    "print(fruits1)"
   ]
  },
  {
   "cell_type": "code",
   "execution_count": 167,
   "id": "e2d51d9c-4a19-4b09-9687-cf0efd17ff71",
   "metadata": {},
   "outputs": [
    {
     "name": "stdout",
     "output_type": "stream",
     "text": [
      "['apple', 'banana', 'orange', 'kiwi']\n"
     ]
    }
   ],
   "source": [
    "# extend() can also be used to add items from a tuple, set, or a dictionary to the list\n",
    "fruits1 = [\"apple\", \"banana\"]\n",
    "fruits2 = (\"orange\", \"kiwi\")\n",
    "fruits1.extend(fruits2)\n",
    "print(fruits1)"
   ]
  },
  {
   "cell_type": "markdown",
   "id": "c2323048-7584-4aa6-9fe3-958e090e536e",
   "metadata": {},
   "source": [
    "### 12d. Remove List Items"
   ]
  },
  {
   "cell_type": "code",
   "execution_count": 169,
   "id": "1fe0c861-a817-4677-87bf-885fd9da1727",
   "metadata": {},
   "outputs": [
    {
     "name": "stdout",
     "output_type": "stream",
     "text": [
      "['apple', 'orange']\n"
     ]
    }
   ],
   "source": [
    "fruits = [\"apple\", \"banana\", \"orange\"]\n",
    "fruits.remove(\"banana\") # an item from the list can be deleted permanently using remove() function\n",
    "print(fruits)"
   ]
  },
  {
   "cell_type": "code",
   "execution_count": 170,
   "id": "4bbe79ca-784b-4f98-a063-3733113b245e",
   "metadata": {},
   "outputs": [
    {
     "name": "stdout",
     "output_type": "stream",
     "text": [
      "['apple', 'orange', 'banana']\n"
     ]
    }
   ],
   "source": [
    "fruits = [\"apple\", \"banana\", \"orange\", \"banana\"]\n",
    "fruits.remove(\"banana\") # in case of duplicates, remove() removes only the first occurance\n",
    "print(fruits)"
   ]
  },
  {
   "cell_type": "code",
   "execution_count": 171,
   "id": "d0caa389-33d2-4f3a-8ebe-cf3ac34a6bf4",
   "metadata": {},
   "outputs": [
    {
     "name": "stdout",
     "output_type": "stream",
     "text": [
      "['apple', 'orange', 'banana']\n"
     ]
    }
   ],
   "source": [
    "# an item at the specified index can be removed by using the pop() method\n",
    "fruits = [\"apple\", \"banana\", \"orange\", \"banana\"]\n",
    "fruits.pop(1)\n",
    "print(fruits)"
   ]
  },
  {
   "cell_type": "code",
   "execution_count": 172,
   "id": "8c2ece7b-a76c-48b8-823a-8e4f59b2d268",
   "metadata": {},
   "outputs": [
    {
     "name": "stdout",
     "output_type": "stream",
     "text": [
      "['apple', 'banana', 'orange']\n"
     ]
    }
   ],
   "source": [
    "# if the index is not specified, pop() removes the last item\n",
    "fruits = [\"apple\", \"banana\", \"orange\", \"banana\"]\n",
    "fruits.pop()\n",
    "print(fruits)"
   ]
  },
  {
   "cell_type": "code",
   "execution_count": 173,
   "id": "91abab45-6619-469c-b958-214a9a43a7bf",
   "metadata": {},
   "outputs": [
    {
     "name": "stdout",
     "output_type": "stream",
     "text": [
      "['banana', 'orange', 'banana']\n"
     ]
    }
   ],
   "source": [
    "# del keyword also removes the item at specified index\n",
    "fruits = [\"apple\", \"banana\", \"orange\", \"banana\"]\n",
    "del fruits[0]\n",
    "print(fruits)"
   ]
  },
  {
   "cell_type": "code",
   "execution_count": 174,
   "id": "bcd80e5f-3752-4bb3-a9f6-b81aa9b46682",
   "metadata": {},
   "outputs": [
    {
     "ename": "NameError",
     "evalue": "name 'fruits' is not defined",
     "output_type": "error",
     "traceback": [
      "\u001b[1;31m---------------------------------------------------------------------------\u001b[0m",
      "\u001b[1;31mNameError\u001b[0m                                 Traceback (most recent call last)",
      "Cell \u001b[1;32mIn[174], line 4\u001b[0m\n\u001b[0;32m      2\u001b[0m fruits \u001b[38;5;241m=\u001b[39m [\u001b[38;5;124m\"\u001b[39m\u001b[38;5;124mapple\u001b[39m\u001b[38;5;124m\"\u001b[39m, \u001b[38;5;124m\"\u001b[39m\u001b[38;5;124mbanana\u001b[39m\u001b[38;5;124m\"\u001b[39m, \u001b[38;5;124m\"\u001b[39m\u001b[38;5;124morange\u001b[39m\u001b[38;5;124m\"\u001b[39m, \u001b[38;5;124m\"\u001b[39m\u001b[38;5;124mbanana\u001b[39m\u001b[38;5;124m\"\u001b[39m]\n\u001b[0;32m      3\u001b[0m \u001b[38;5;28;01mdel\u001b[39;00m fruits\n\u001b[1;32m----> 4\u001b[0m \u001b[38;5;28mprint\u001b[39m(fruits)\n",
      "\u001b[1;31mNameError\u001b[0m: name 'fruits' is not defined"
     ]
    }
   ],
   "source": [
    "# if index is not specified, del keyword deletes the list\n",
    "fruits = [\"apple\", \"banana\", \"orange\", \"banana\"]\n",
    "del fruits\n",
    "print(fruits)"
   ]
  },
  {
   "cell_type": "code",
   "execution_count": 332,
   "id": "f2496f70-ba0f-49e6-8f7c-b269f3a63771",
   "metadata": {},
   "outputs": [
    {
     "name": "stdout",
     "output_type": "stream",
     "text": [
      "[]\n",
      "0\n"
     ]
    }
   ],
   "source": [
    "# instead clear() deletes the items in the list and list will be an empty one\n",
    "fruits = [\"apple\", \"banana\", \"orange\"]\n",
    "fruits.clear()\n",
    "print(fruits)\n",
    "print(len(fruits))"
   ]
  },
  {
   "cell_type": "markdown",
   "id": "b4119440-916e-4bd6-8694-5fb5587f2c36",
   "metadata": {},
   "source": [
    "### 12e. Loop Lists"
   ]
  },
  {
   "cell_type": "code",
   "execution_count": 334,
   "id": "2716fb40-a633-40c1-95d3-7bbf7146f2aa",
   "metadata": {},
   "outputs": [
    {
     "name": "stdout",
     "output_type": "stream",
     "text": [
      "apple\n",
      "banana\n",
      "orange\n"
     ]
    }
   ],
   "source": [
    "fruits = [\"apple\", \"banana\", \"orange\"]\n",
    "\n",
    "# to print all the items in the list one by one\n",
    "for i in fruits:\n",
    "    print(i)"
   ]
  },
  {
   "cell_type": "code",
   "execution_count": 335,
   "id": "1a8d8a81-b91b-4304-a4d0-a204c47bc497",
   "metadata": {},
   "outputs": [
    {
     "name": "stdout",
     "output_type": "stream",
     "text": [
      "apple\n",
      "banana\n",
      "orange\n"
     ]
    }
   ],
   "source": [
    "# list can be looped by the index number\n",
    "fruits = [\"apple\", \"banana\", \"orange\"]\n",
    "\n",
    "for i in range(len(fruits)):\n",
    "    print(fruits[i])"
   ]
  },
  {
   "cell_type": "code",
   "execution_count": 336,
   "id": "97792491-5a91-4cda-a48b-56091f8c0077",
   "metadata": {},
   "outputs": [
    {
     "name": "stdout",
     "output_type": "stream",
     "text": [
      "apple\n",
      "banana\n",
      "orange\n"
     ]
    }
   ],
   "source": [
    "# the same can be done by different loops other than for\n",
    "fruits = [\"apple\", \"banana\", \"orange\"]\n",
    "\n",
    "i = 0\n",
    "while i < len(fruits):\n",
    "    print(fruits[i])\n",
    "    i = i + 1"
   ]
  },
  {
   "cell_type": "code",
   "execution_count": 337,
   "id": "491dccac-13b6-47a8-8e2c-3ce36c080a3d",
   "metadata": {},
   "outputs": [
    {
     "name": "stdout",
     "output_type": "stream",
     "text": [
      "apple\n",
      "banana\n",
      "orange\n"
     ]
    },
    {
     "data": {
      "text/plain": [
       "[None, None, None]"
      ]
     },
     "execution_count": 337,
     "metadata": {},
     "output_type": "execute_result"
    }
   ],
   "source": [
    "# list comprehension\n",
    "fruits = [\"apple\", \"banana\", \"orange\"]\n",
    "[print(i) for i in fruits]"
   ]
  },
  {
   "cell_type": "markdown",
   "id": "a4fad273-eede-4fed-9f7b-ffde1b6b088e",
   "metadata": {},
   "source": [
    "### 12f. List Comprehension"
   ]
  },
  {
   "cell_type": "code",
   "execution_count": 339,
   "id": "73e028fb-6b30-4141-addf-16082dab4d8b",
   "metadata": {},
   "outputs": [
    {
     "name": "stdout",
     "output_type": "stream",
     "text": [
      "['apple', 'banana', 'mango']\n"
     ]
    }
   ],
   "source": [
    "# list comprehension offers a short form of the code\n",
    "fruits = [\"apple\", \"banana\", \"cherry\", \"kiwi\", \"mango\"]\n",
    "newlist = [x for x in fruits if \"a\" in x]\n",
    "print(newlist)"
   ]
  },
  {
   "cell_type": "code",
   "execution_count": 340,
   "id": "704f64ec-d74c-4c26-b4f8-66af757f7044",
   "metadata": {},
   "outputs": [
    {
     "name": "stdout",
     "output_type": "stream",
     "text": [
      "['banana', 'cherry', 'kiwi', 'mango']\n"
     ]
    }
   ],
   "source": [
    "fruits = [\"apple\", \"banana\", \"cherry\", \"kiwi\", \"mango\"]\n",
    "newlist = [x for x in fruits if x != \"apple\"] # various conditions can be applied in short forms\n",
    "print(newlist)"
   ]
  },
  {
   "cell_type": "code",
   "execution_count": 341,
   "id": "123bd24b-3299-4980-a21d-bf5b4afcc2aa",
   "metadata": {},
   "outputs": [
    {
     "name": "stdout",
     "output_type": "stream",
     "text": [
      "[0, 1, 2, 3, 4, 5, 6, 7, 8, 9]\n"
     ]
    }
   ],
   "source": [
    "# The iterable can be any iterable object, like a list, tuple, set etc.\n",
    "newlist = [x for x in range(10)]\n",
    "print(newlist)"
   ]
  },
  {
   "cell_type": "code",
   "execution_count": 342,
   "id": "efdb5a6f-ae6c-4a6f-938c-894de0c2ddf1",
   "metadata": {},
   "outputs": [
    {
     "name": "stdout",
     "output_type": "stream",
     "text": [
      "[0, 1, 2, 3, 4]\n"
     ]
    }
   ],
   "source": [
    "# conditions can be metioned along with other iterable objects\n",
    "newlist = [ x for x in range(10) if x < 5]\n",
    "print(newlist)"
   ]
  },
  {
   "cell_type": "code",
   "execution_count": 343,
   "id": "95ab4525-f6aa-4393-8b3f-4070c7681cd1",
   "metadata": {},
   "outputs": [
    {
     "name": "stdout",
     "output_type": "stream",
     "text": [
      "['APPLE', 'BANANA', 'CHERRY', 'KIWI', 'MANGO']\n"
     ]
    }
   ],
   "source": [
    "# expressions can be applied in the form of list comprehension\n",
    "fruits = [\"apple\", \"banana\", \"cherry\", \"kiwi\", \"mango\"]\n",
    "newlist = [x.upper() for x in fruits]\n",
    "print(newlist)"
   ]
  },
  {
   "cell_type": "code",
   "execution_count": 344,
   "id": "19f5b864-e28e-437d-96b7-c6eb43bf8794",
   "metadata": {},
   "outputs": [
    {
     "name": "stdout",
     "output_type": "stream",
     "text": [
      "['hello', 'hello', 'hello', 'hello', 'hello']\n"
     ]
    }
   ],
   "source": [
    "fruits = [\"apple\", \"banana\", \"cherry\", \"kiwi\", \"mango\"]\n",
    "newlist = ['hello' for x in fruits] # set the values of the new list to a specified value\n",
    "print(newlist)"
   ]
  },
  {
   "cell_type": "code",
   "execution_count": 345,
   "id": "34cfdfb3-3e60-40f8-900f-2b9f104fd3f4",
   "metadata": {},
   "outputs": [
    {
     "name": "stdout",
     "output_type": "stream",
     "text": [
      "['apple', 'orange', 'cherry', 'kiwi', 'mango']\n"
     ]
    }
   ],
   "source": [
    "fruits = [\"apple\", \"banana\", \"cherry\", \"kiwi\", \"mango\"]\n",
    "newlist = [x if x!= \"banana\" else \"orange\" for x in fruits]\n",
    "print(newlist)"
   ]
  },
  {
   "cell_type": "markdown",
   "id": "38aa8fe8-a6b0-46b6-97a1-c42e2f032e54",
   "metadata": {},
   "source": [
    "### 12g. Sort Lists"
   ]
  },
  {
   "cell_type": "code",
   "execution_count": 347,
   "id": "beecdee0-ba43-4f24-8388-9bcd7ac3e27f",
   "metadata": {},
   "outputs": [
    {
     "name": "stdout",
     "output_type": "stream",
     "text": [
      "['apple', 'banana', 'cherry', 'kiwi', 'mango']\n"
     ]
    }
   ],
   "source": [
    "# sort() by default sorts the list alphanumerically in ascending order\n",
    "fruits = [\"apple\", \"banana\", \"cherry\", \"kiwi\", \"mango\"]\n",
    "fruits.sort()\n",
    "print(fruits)"
   ]
  },
  {
   "cell_type": "code",
   "execution_count": 348,
   "id": "18b303ab-9940-4dd6-8e69-5813e604d333",
   "metadata": {},
   "outputs": [
    {
     "name": "stdout",
     "output_type": "stream",
     "text": [
      "[4, 12, 21, 23, 55]\n"
     ]
    }
   ],
   "source": [
    "numbers = [12, 4, 55, 23, 21]\n",
    "numbers.sort()\n",
    "print(numbers)"
   ]
  },
  {
   "cell_type": "code",
   "execution_count": 349,
   "id": "89178d20-a682-4d38-a815-857805f9d311",
   "metadata": {},
   "outputs": [
    {
     "name": "stdout",
     "output_type": "stream",
     "text": [
      "[55, 23, 21, 12, 4]\n"
     ]
    }
   ],
   "source": [
    "# reverse = True is key to sort descending order\n",
    "numbers = [12, 4, 55, 23, 21]\n",
    "numbers.sort(reverse = True)\n",
    "print(numbers)"
   ]
  },
  {
   "cell_type": "code",
   "execution_count": 350,
   "id": "9761919b-a547-4b84-9ad6-28814b28ab26",
   "metadata": {},
   "outputs": [
    {
     "name": "stdout",
     "output_type": "stream",
     "text": [
      "[50, 65, 23, 82, 100]\n"
     ]
    }
   ],
   "source": [
    "# key = function helps in sorting in a customized order\n",
    "def myfunc(n):\n",
    "  return abs(n - 50)\n",
    "\n",
    "thislist = [100, 50, 65, 82, 23]\n",
    "thislist.sort(key = myfunc)\n",
    "print(thislist)"
   ]
  },
  {
   "cell_type": "code",
   "execution_count": 351,
   "id": "c58731de-8ef8-4c4f-ada1-af58e6c6d05c",
   "metadata": {},
   "outputs": [
    {
     "name": "stdout",
     "output_type": "stream",
     "text": [
      "['Kiwi', 'Orange', 'banana', 'cherry']\n"
     ]
    }
   ],
   "source": [
    "# sort() is case sensitive\n",
    "fruits = [\"banana\", \"Orange\", \"Kiwi\", \"cherry\"]\n",
    "fruits.sort()\n",
    "print(fruits)"
   ]
  },
  {
   "cell_type": "code",
   "execution_count": 352,
   "id": "334b0192-c074-4c3d-b72f-9d34552538a4",
   "metadata": {},
   "outputs": [
    {
     "name": "stdout",
     "output_type": "stream",
     "text": [
      "['banana', 'cherry', 'Kiwi', 'Orange']\n"
     ]
    }
   ],
   "source": [
    "# case insensitive sort is possible by customization\n",
    "fruits = [\"banana\", \"Orange\", \"Kiwi\", \"cherry\"]\n",
    "fruits.sort(key = str.lower)\n",
    "print(fruits)"
   ]
  },
  {
   "cell_type": "code",
   "execution_count": 353,
   "id": "638a3646-837a-44b2-a94d-415e8c6147a0",
   "metadata": {},
   "outputs": [
    {
     "name": "stdout",
     "output_type": "stream",
     "text": [
      "['cherry', 'kiwi', 'orange', 'banana']\n"
     ]
    }
   ],
   "source": [
    "# instead of alphanumeric sort, reverse() helps to sort in just the reverse order of the defined one\n",
    "fruits = [\"banana\", \"orange\", \"kiwi\", \"cherry\"]\n",
    "fruits.reverse()\n",
    "print(fruits)"
   ]
  },
  {
   "cell_type": "markdown",
   "id": "3994c150-e12f-4532-92b0-19e4876b312e",
   "metadata": {},
   "source": [
    "### 12h. Copy Lists"
   ]
  },
  {
   "cell_type": "code",
   "execution_count": 355,
   "id": "7ca87893-4280-41f4-a6d7-f3d8f92bdce4",
   "metadata": {},
   "outputs": [
    {
     "name": "stdout",
     "output_type": "stream",
     "text": [
      "['apple', 'banana', 'orange']\n"
     ]
    }
   ],
   "source": [
    "fruits = [\"apple\", \"banana\", \"orange\"]\n",
    "my_fruits = fruits.copy()\n",
    "print(my_fruits)"
   ]
  },
  {
   "cell_type": "code",
   "execution_count": 356,
   "id": "6dede887-95b4-4555-80ac-671634384a96",
   "metadata": {},
   "outputs": [
    {
     "name": "stdout",
     "output_type": "stream",
     "text": [
      "['apple', 'banana', 'orange']\n"
     ]
    }
   ],
   "source": [
    "# list() method can also be used for the same result\n",
    "fruits = [\"apple\", \"banana\", \"orange\"]\n",
    "my_fruits = list(fruits)\n",
    "print(my_fruits)"
   ]
  },
  {
   "cell_type": "code",
   "execution_count": 357,
   "id": "80fc07e9-597d-4a9a-974d-1632bc8147ba",
   "metadata": {},
   "outputs": [
    {
     "name": "stdout",
     "output_type": "stream",
     "text": [
      "['apple', 'banana', 'orange']\n"
     ]
    }
   ],
   "source": [
    "# slice operator can be used for the same :\n",
    "fruits = [\"apple\", \"banana\", \"orange\"]\n",
    "my_fruits = fruits[:]\n",
    "print(my_fruits)"
   ]
  },
  {
   "cell_type": "markdown",
   "id": "378c72c7-2e70-409f-be35-935d67a97485",
   "metadata": {},
   "source": [
    "### 12i. Join Lists"
   ]
  },
  {
   "cell_type": "code",
   "execution_count": 359,
   "id": "6c2d28fc-a556-4905-b93f-976f90f298d0",
   "metadata": {},
   "outputs": [
    {
     "name": "stdout",
     "output_type": "stream",
     "text": [
      "['a', 'b', 'c', 1, 2, 3]\n"
     ]
    }
   ],
   "source": [
    "# '+' operator is used to join or concatenate two or more lists\n",
    "list1 = [\"a\", \"b\", \"c\"]\n",
    "list2 = [1, 2, 3]\n",
    "\n",
    "list3 = list1 + list2\n",
    "print(list3)"
   ]
  },
  {
   "cell_type": "code",
   "execution_count": 360,
   "id": "5d7d1b8d-4f77-47f6-9698-e482f94cc752",
   "metadata": {},
   "outputs": [
    {
     "name": "stdout",
     "output_type": "stream",
     "text": [
      "['a', 'b', 'c', 1, 2, 3]\n"
     ]
    }
   ],
   "source": [
    "# iteration using append() is another way to join two lists\n",
    "list1 = [\"a\", \"b\", \"c\"]\n",
    "list2 = [1, 2, 3]\n",
    "\n",
    "for i in list2:\n",
    "    list1.append(i)\n",
    "\n",
    "print(list1)"
   ]
  },
  {
   "cell_type": "code",
   "execution_count": 361,
   "id": "1e343413-5a27-42cf-9bb8-dafb40daa0bd",
   "metadata": {},
   "outputs": [
    {
     "name": "stdout",
     "output_type": "stream",
     "text": [
      "['a', 'b', 'c', 1, 2, 3]\n"
     ]
    }
   ],
   "source": [
    "# extend() can also be used for the same\n",
    "list1 = [\"a\", \"b\", \"c\"]\n",
    "list2 = [1, 2, 3]\n",
    "\n",
    "list1.extend(list2)\n",
    "print(list1)\n",
    "\n",
    "# append() and extend() permanently alters the the list to which other list is being added"
   ]
  },
  {
   "cell_type": "code",
   "execution_count": 362,
   "id": "66122c7e-3697-4433-a62f-6104a5909dec",
   "metadata": {},
   "outputs": [
    {
     "data": {
      "text/plain": [
       "'\\nList Methods:\\nappend()    Adds an element at the end of the list\\nclear()     Removes all the elements from the list\\ncopy()\\t    Returns a copy of the list\\ncount()\\t    Returns the number of elements with the specified value\\nextend()\\tAdd the elements of a list (or any iterable), to the end of the current list\\nindex()\\t    Returns the index of the first element with the specified value\\ninsert()\\tAdds an element at the specified position\\npop()\\t    Removes the element at the specified position\\nremove()\\tRemoves the item with the specified value\\nreverse()\\tReverses the order of the list\\nsort()\\t    Sorts the list\\n'"
      ]
     },
     "execution_count": 362,
     "metadata": {},
     "output_type": "execute_result"
    }
   ],
   "source": [
    "\"\"\"\n",
    "List Methods:\n",
    "append()    Adds an element at the end of the list\n",
    "clear()     Removes all the elements from the list\n",
    "copy()\t    Returns a copy of the list\n",
    "count()\t    Returns the number of elements with the specified value\n",
    "extend()\tAdd the elements of a list (or any iterable), to the end of the current list\n",
    "index()\t    Returns the index of the first element with the specified value\n",
    "insert()\tAdds an element at the specified position\n",
    "pop()\t    Removes the element at the specified position\n",
    "remove()\tRemoves the item with the specified value\n",
    "reverse()\tReverses the order of the list\n",
    "sort()\t    Sorts the list\n",
    "\"\"\""
   ]
  },
  {
   "cell_type": "markdown",
   "id": "4a8bfd6b-a31c-4db8-9b2f-72a1c38297d1",
   "metadata": {},
   "source": [
    "# 13. Tuples"
   ]
  },
  {
   "cell_type": "code",
   "execution_count": 364,
   "id": "653f06dd-e791-4b97-9f03-152b02d88871",
   "metadata": {},
   "outputs": [
    {
     "name": "stdout",
     "output_type": "stream",
     "text": [
      "('a', 'b', 'c')\n"
     ]
    }
   ],
   "source": [
    "# A tuple is a collection which is ordered and unchangeable.\n",
    "a = (\"a\", \"b\", \"c\")\n",
    "print(a)"
   ]
  },
  {
   "cell_type": "code",
   "execution_count": 365,
   "id": "7d5d4ecf-a613-4252-b477-cff74f6f6a89",
   "metadata": {},
   "outputs": [
    {
     "name": "stdout",
     "output_type": "stream",
     "text": [
      "('apple', 'banana', 'cherry', 'kiwi', 'apple')\n"
     ]
    }
   ],
   "source": [
    "# duplicates are allowed in tuples\n",
    "fruits = (\"apple\", \"banana\", \"cherry\", \"kiwi\", \"apple\")\n",
    "print(fruits)"
   ]
  },
  {
   "cell_type": "code",
   "execution_count": 366,
   "id": "e38b6597-ac26-426b-a569-d1a9e3ffe60b",
   "metadata": {},
   "outputs": [
    {
     "name": "stdout",
     "output_type": "stream",
     "text": [
      "5\n"
     ]
    }
   ],
   "source": [
    "# tuple length can be determined by using len() function\n",
    "fruits = (\"apple\", \"banana\", \"cherry\", \"kiwi\", \"apple\")\n",
    "print(len(fruits))"
   ]
  },
  {
   "cell_type": "code",
   "execution_count": 367,
   "id": "1743c850-a8d7-4367-81e4-3ce264e37fba",
   "metadata": {},
   "outputs": [
    {
     "name": "stdout",
     "output_type": "stream",
     "text": [
      "<class 'tuple'>\n",
      "<class 'str'>\n"
     ]
    }
   ],
   "source": [
    "# ',' to be added after the item if a tuple has to be created with one item\n",
    "fruit = (\"apple\",) # this is a tuple\n",
    "print(type(fruit)) \n",
    "\n",
    "fruit1 = (\"apple\") # this is not a tuple\n",
    "print(type(fruit1))"
   ]
  },
  {
   "cell_type": "code",
   "execution_count": 368,
   "id": "021dafa1-f067-48fb-aef5-9230c4a139a3",
   "metadata": {},
   "outputs": [],
   "source": [
    "# tuples can have any type of data\n",
    "a1 = (\"a\", \"b\", \"c\")\n",
    "a2 = (2, 3, 4)\n",
    "a3 = (True, False, False)"
   ]
  },
  {
   "cell_type": "code",
   "execution_count": 369,
   "id": "85ca543b-e823-4253-9494-cfb8a41b84b4",
   "metadata": {},
   "outputs": [],
   "source": [
    "# tuples can have multiple data types within one tuple\n",
    "a = (\"apple\", 4, True, 25, \"c\")"
   ]
  },
  {
   "cell_type": "code",
   "execution_count": 370,
   "id": "4816887e-4354-4c21-8111-5aa9891e404b",
   "metadata": {},
   "outputs": [
    {
     "name": "stdout",
     "output_type": "stream",
     "text": [
      "<class 'tuple'>\n"
     ]
    }
   ],
   "source": [
    "# type of tuple can be defined by type()\n",
    "fruits = (\"apple\", \"banana\", \"kiwi\")\n",
    "print(type(fruits))"
   ]
  },
  {
   "cell_type": "code",
   "execution_count": 371,
   "id": "43feea2a-c363-4f15-9b78-53568e1cdb22",
   "metadata": {},
   "outputs": [
    {
     "name": "stdout",
     "output_type": "stream",
     "text": [
      "<class 'tuple'>\n"
     ]
    }
   ],
   "source": [
    "# it is possible to use tuple() constructor to make a tuple\n",
    "fruits = tuple((\"apple\", \"banana\", \"cherry\"))\n",
    "\n",
    "print(type(fruits))"
   ]
  },
  {
   "cell_type": "markdown",
   "id": "7e164a44-37f5-44b8-a55b-5b02258fa127",
   "metadata": {},
   "source": [
    "### 13a. Access Tuple Items"
   ]
  },
  {
   "cell_type": "code",
   "execution_count": 373,
   "id": "c3b43ed3-4325-42cd-9ee8-3c6076471728",
   "metadata": {},
   "outputs": [
    {
     "name": "stdout",
     "output_type": "stream",
     "text": [
      "banana\n"
     ]
    }
   ],
   "source": [
    "# tuple items can be accessed using index numbers\n",
    "tuple1 = (\"apple\", \"banana\", \"cherry\")\n",
    "print(tuple1[1])"
   ]
  },
  {
   "cell_type": "code",
   "execution_count": 374,
   "id": "f7a2efd8-0b76-4d89-ad29-c4e788e1937f",
   "metadata": {},
   "outputs": [
    {
     "name": "stdout",
     "output_type": "stream",
     "text": [
      "cherry\n"
     ]
    }
   ],
   "source": [
    "# similar to lists, negative indexing can be used on tuples as well\n",
    "tuple1 = (\"apple\", \"banana\", \"cherry\")\n",
    "print(tuple1[-1]) # -1 refers to the first item from last"
   ]
  },
  {
   "cell_type": "code",
   "execution_count": 375,
   "id": "4876a622-becc-4379-a247-42e660e71900",
   "metadata": {},
   "outputs": [
    {
     "name": "stdout",
     "output_type": "stream",
     "text": [
      "('cherry', 'orange', 'kiwi')\n"
     ]
    }
   ],
   "source": [
    "# multiple items from the tuple can be accessed using range\n",
    "thistuple = (\"apple\", \"banana\", \"cherry\", \"orange\", \"kiwi\", \"melon\", \"mango\")\n",
    "print(thistuple[2:5])"
   ]
  },
  {
   "cell_type": "code",
   "execution_count": 376,
   "id": "a1a5fa6d-3a4a-42f5-adf3-1d3891c44996",
   "metadata": {},
   "outputs": [
    {
     "name": "stdout",
     "output_type": "stream",
     "text": [
      "('apple', 'banana', 'cherry', 'orange', 'kiwi')\n",
      "('orange', 'kiwi', 'melon', 'mango')\n",
      "('apple', 'banana', 'cherry', 'orange', 'kiwi')\n",
      "('orange', 'kiwi', 'melon', 'mango')\n"
     ]
    }
   ],
   "source": [
    "# indexing on tuples work similar to indexing on lists\n",
    "fruits = (\"apple\", \"banana\", \"cherry\", \"orange\", \"kiwi\", \"melon\", \"mango\")\n",
    "print(fruits[:5]) # first to 4th item from the tuple\n",
    "print(fruits[3:]) # 3rd item till the end from the tuple\n",
    "print(fruits[:-2]) # first to 3rd item from tlast\n",
    "print(fruits[-4:]) # 4th item from last to the last item"
   ]
  },
  {
   "cell_type": "code",
   "execution_count": 377,
   "id": "ca66e407-1407-4d70-98cf-b6ff25328176",
   "metadata": {},
   "outputs": [
    {
     "name": "stdout",
     "output_type": "stream",
     "text": [
      "YES\n"
     ]
    }
   ],
   "source": [
    "# \"in\" can be used check if an item exists in the tuple or not\n",
    "fruits = (\"apple\", \"banana\", \"cherry\", \"orange\", \"kiwi\", \"melon\", \"mango\")\n",
    "if \"mango\" in fruits:\n",
    "    print(\"YES\")"
   ]
  },
  {
   "cell_type": "markdown",
   "id": "230e0b9b-1f3b-4dc3-8e7d-13a4afaf257c",
   "metadata": {},
   "source": [
    "### 13b. Update Tuple"
   ]
  },
  {
   "cell_type": "code",
   "execution_count": 379,
   "id": "12249293-ff7d-446c-82c5-9f6748dfad77",
   "metadata": {},
   "outputs": [
    {
     "name": "stdout",
     "output_type": "stream",
     "text": [
      "('a', 'd', 'c')\n"
     ]
    }
   ],
   "source": [
    "# tuples are immutable and unchangeable\n",
    "# so, in order to change tuples\n",
    "# first, tuple needs to be changed to list - perform the required operation - convert back it to tuple\n",
    "tup1 = (\"a\", \"b\", \"c\")\n",
    "lis1 = list(tup1)\n",
    "lis1[1] = \"d\"\n",
    "tup1 = tuple(lis1)\n",
    "\n",
    "print(tup1)"
   ]
  },
  {
   "cell_type": "code",
   "execution_count": 380,
   "id": "eabec7e6-31d4-46f7-a650-9b377e6878b4",
   "metadata": {},
   "outputs": [
    {
     "name": "stdout",
     "output_type": "stream",
     "text": [
      "('a', 'b', 'c', 'd')\n"
     ]
    }
   ],
   "source": [
    "# similarly, items can be added to the tuple\n",
    "tup1 = (\"a\", \"b\", \"c\")\n",
    "lis1 = list(tup1)\n",
    "lis1.append(\"d\")\n",
    "tup1 = tuple(lis1)\n",
    "\n",
    "print(tup1)"
   ]
  },
  {
   "cell_type": "code",
   "execution_count": 381,
   "id": "116bebea-896e-4022-aef8-f3665dac881e",
   "metadata": {},
   "outputs": [
    {
     "name": "stdout",
     "output_type": "stream",
     "text": [
      "('a', 'b', 'c', 'd', 'e')\n"
     ]
    }
   ],
   "source": [
    "# two tuples can be added together\n",
    "tup1 = (\"a\", \"b\", \"c\")\n",
    "tup2 = (\"d\", \"e\")\n",
    "\n",
    "tup1 += tup2\n",
    "print(tup1)"
   ]
  },
  {
   "cell_type": "code",
   "execution_count": 382,
   "id": "e46a82f4-56a3-4268-aa68-6b9774c1fcfa",
   "metadata": {},
   "outputs": [
    {
     "name": "stdout",
     "output_type": "stream",
     "text": [
      "('a', 'b')\n"
     ]
    }
   ],
   "source": [
    "# removing items from tuples can be done using the same turn-arond as adding items to tuple\n",
    "tup1 = (\"a\", \"b\", \"c\")\n",
    "lis1 = list(tup1)\n",
    "lis1.remove(\"c\")\n",
    "tup1 = tuple(lis1)\n",
    "\n",
    "print(tup1)"
   ]
  },
  {
   "cell_type": "code",
   "execution_count": 383,
   "id": "1f2ec554-7331-4b28-9f7f-4832237b5fe0",
   "metadata": {},
   "outputs": [
    {
     "ename": "NameError",
     "evalue": "name 'tup1' is not defined",
     "output_type": "error",
     "traceback": [
      "\u001b[1;31m---------------------------------------------------------------------------\u001b[0m",
      "\u001b[1;31mNameError\u001b[0m                                 Traceback (most recent call last)",
      "Cell \u001b[1;32mIn[383], line 5\u001b[0m\n\u001b[0;32m      2\u001b[0m tup1 \u001b[38;5;241m=\u001b[39m (\u001b[38;5;124m\"\u001b[39m\u001b[38;5;124ma\u001b[39m\u001b[38;5;124m\"\u001b[39m, \u001b[38;5;124m\"\u001b[39m\u001b[38;5;124mb\u001b[39m\u001b[38;5;124m\"\u001b[39m, \u001b[38;5;124m\"\u001b[39m\u001b[38;5;124mc\u001b[39m\u001b[38;5;124m\"\u001b[39m)\n\u001b[0;32m      3\u001b[0m \u001b[38;5;28;01mdel\u001b[39;00m tup1\n\u001b[1;32m----> 5\u001b[0m \u001b[38;5;28mprint\u001b[39m(tup1)\n",
      "\u001b[1;31mNameError\u001b[0m: name 'tup1' is not defined"
     ]
    }
   ],
   "source": [
    "# del keyword can be used to delete a tuple permanently\n",
    "tup1 = (\"a\", \"b\", \"c\")\n",
    "del tup1\n",
    "\n",
    "print(tup1)"
   ]
  },
  {
   "cell_type": "markdown",
   "id": "22faf8fa-b9b0-4c98-a728-703af9bec662",
   "metadata": {},
   "source": [
    "### 13c. Unpack Tuples"
   ]
  },
  {
   "cell_type": "code",
   "execution_count": null,
   "id": "adf2dd6f-42c0-4d9d-b580-e1467a3b2829",
   "metadata": {},
   "outputs": [],
   "source": [
    "# tuple values can be extracted and assigned to variables - this is called unpacking\n",
    "fruits = (\"apple\", \"banana\", \"kiwi\")\n",
    "(red, yellow, green) = fruits\n",
    "print(red)\n",
    "print(yellow)\n",
    "print(green)"
   ]
  },
  {
   "cell_type": "code",
   "execution_count": null,
   "id": "1271ddab-a765-49ea-94cd-c901bc3d3256",
   "metadata": {},
   "outputs": [],
   "source": [
    "# while unpacking, if the number of vaiables are less than the number of values, use * to assign all the remining to it\n",
    "# this will allow the remaining variables to be assigned to a list\n",
    "fruits = (\"apple\", \"banana\", \"kiwi\", \"pear\")\n",
    "(red, yellow, *green) = fruits\n",
    "print(red)\n",
    "print(yellow)\n",
    "print(green)"
   ]
  },
  {
   "cell_type": "code",
   "execution_count": null,
   "id": "0224a6aa-c2c7-4226-b3aa-d1d8b9f2010c",
   "metadata": {},
   "outputs": [],
   "source": [
    "# If the asterisk is added to another variable name than the last, \n",
    "# Python will assign values to the variable until the number of values left matches the number of variables left.\n",
    "fruits = (\"apple\", \"kiwi\", \"pear\", \"watermelon\", \"banana\")\n",
    "(red, *green, yellow) = fruits\n",
    "print(red)\n",
    "print(green)\n",
    "print(yellow)"
   ]
  },
  {
   "cell_type": "markdown",
   "id": "b397dd0c-1e85-49fe-b757-b58a7b2a7718",
   "metadata": {},
   "source": [
    "### 13d. Looping Through Tuples"
   ]
  },
  {
   "cell_type": "code",
   "execution_count": null,
   "id": "432a64fc-8080-4f30-ae83-100ae8a6839b",
   "metadata": {},
   "outputs": [],
   "source": [
    "# for loop\n",
    "fruits = (\"apple\", \"banana\", \"kiwi\", \"pear\")\n",
    "for i in fruits:\n",
    "    print(i)"
   ]
  },
  {
   "cell_type": "code",
   "execution_count": null,
   "id": "d743b584-fc0e-4684-aa36-bccb61b9e60b",
   "metadata": {},
   "outputs": [],
   "source": [
    "# looping can be done using index numbers\n",
    "fruits = (\"apple\", \"banana\", \"kiwi\", \"pear\")\n",
    "for i in range(len(fruits)):\n",
    "    print(fruits[i])"
   ]
  },
  {
   "cell_type": "code",
   "execution_count": null,
   "id": "f69a318d-da4a-4c63-96a4-36259c1550e8",
   "metadata": {},
   "outputs": [],
   "source": [
    "# while loop\n",
    "fruits = (\"apple\", \"banana\", \"kiwi\", \"pear\")\n",
    "i = 0\n",
    "while i < len(fruits):\n",
    "    print(fruits[i])\n",
    "    i = i + 1"
   ]
  },
  {
   "cell_type": "markdown",
   "id": "e220b5a3-7fdc-46c4-a18f-5ce76dbf741f",
   "metadata": {},
   "source": [
    "### 13e. Join Tuples"
   ]
  },
  {
   "cell_type": "code",
   "execution_count": null,
   "id": "80a02d93-199b-4996-aedb-5598fb4da96b",
   "metadata": {},
   "outputs": [],
   "source": [
    "tup1 = (\"a\", \"b\", \"c\", \"d\")\n",
    "tup2 = (1, 2, 3)\n",
    "\n",
    "tup3 = tup1 + tup2\n",
    "print(tup3)"
   ]
  },
  {
   "cell_type": "code",
   "execution_count": null,
   "id": "ace94981-9286-4451-be70-9a4be4527503",
   "metadata": {},
   "outputs": [],
   "source": [
    "# multiply tuples\n",
    "tup1 = (\"a\", \"b\", \"c\", \"d\")\n",
    "tup2 = tup1 * 2 # this repeats the tuple multiple number of times\n",
    "print(tup2)"
   ]
  },
  {
   "cell_type": "markdown",
   "id": "d26153cd-7aa6-4052-ac5a-18bf14d7d9fd",
   "metadata": {},
   "source": [
    "### 13f. Tuple Methods"
   ]
  },
  {
   "cell_type": "code",
   "execution_count": null,
   "id": "34252994-5e18-43d2-b41e-d21a8fce6a77",
   "metadata": {},
   "outputs": [],
   "source": [
    "\"\"\"\n",
    "Method\tDescription\n",
    "count()\tReturns the number of times a specified value occurs in a tuple\n",
    "index()\tSearches the tuple for a specified value and returns the position of where it was found\n",
    "\"\"\""
   ]
  },
  {
   "cell_type": "markdown",
   "id": "07fcd667-c0db-4f0c-a449-fc3898929091",
   "metadata": {},
   "source": [
    "# 14. Sets"
   ]
  },
  {
   "cell_type": "code",
   "execution_count": null,
   "id": "8519f5b1-e072-490f-b0a6-25b2fb10f25c",
   "metadata": {},
   "outputs": [],
   "source": [
    "# A set is a collection which is unordered, unchangeable*, and unindexed\n",
    "# * Note: Set items are unchangeable, but you can remove items and add new items\n",
    "# Sets are written in curly brackets\n",
    "fruits = {\"a\", \"b\", \"c\"}\n",
    "print(fruits)\n",
    "print(type(fruits))"
   ]
  },
  {
   "cell_type": "code",
   "execution_count": null,
   "id": "34f94db5-1e00-4161-882a-7f4f9069a67e",
   "metadata": {},
   "outputs": [],
   "source": [
    "thisset = {\"apple\", \"banana\", \"cherry\", True, 1, 2}\n",
    "# duplicates are not allowed in the set - here True and 1 are treated as duplicates\n",
    "print(thisset)"
   ]
  },
  {
   "cell_type": "code",
   "execution_count": null,
   "id": "52791025-878f-4019-af3e-e305885517d0",
   "metadata": {},
   "outputs": [],
   "source": [
    "thisset = {\"apple\", \"banana\", \"cherry\", False, True, 0}\n",
    "# similarly, false and 0 are treated as duplicates\n",
    "print(thisset)"
   ]
  },
  {
   "cell_type": "code",
   "execution_count": null,
   "id": "dcf70e21-61b4-4379-a5d0-3ac660fe3fd9",
   "metadata": {},
   "outputs": [],
   "source": [
    "fruits = {\"a\", \"b\", \"c\"}\n",
    "print(fruits)\n",
    "print(len(fruits)) # similar to lists and tuples, len() function can be used on sets to determine length"
   ]
  },
  {
   "cell_type": "code",
   "execution_count": null,
   "id": "eec723e4-cc51-42d3-9efd-93cd0cad5772",
   "metadata": {},
   "outputs": [],
   "source": [
    "# sets can have different types of data - in the same set\n",
    "set1 = {\"a\", \"b\", \"c\"}\n",
    "set2 ={1, 2, 3, 4}\n",
    "set3 = {True, False, True}\n",
    "set4 = {\"a\", 2, False, \"Male\"}\n",
    "print(set1)\n",
    "print(set2)\n",
    "print(set3)\n",
    "print(set4)"
   ]
  },
  {
   "cell_type": "code",
   "execution_count": null,
   "id": "336ed8f1-1444-4a85-9d1e-8c5d6312428b",
   "metadata": {},
   "outputs": [],
   "source": [
    "# type() can be used to determine the type of a set\n",
    "set1 = {\"a\", \"b\", \"c\"}\n",
    "\n",
    "print(type(set1))"
   ]
  },
  {
   "cell_type": "code",
   "execution_count": null,
   "id": "0ed8e043-6c7d-44e4-95be-8ead8fc7ee4e",
   "metadata": {},
   "outputs": [],
   "source": [
    "# set can be built by using a set constructor\n",
    "set1 = set((\"a\", \"b\", \"c\"))\n",
    "print(set1)\n",
    "print(type(set1))"
   ]
  },
  {
   "cell_type": "markdown",
   "id": "84f777f6-e667-4807-ab64-0720997e16a5",
   "metadata": {},
   "source": [
    "### 14a. Access Set Items"
   ]
  },
  {
   "cell_type": "code",
   "execution_count": null,
   "id": "1086a4ec-4d6a-4225-a48a-1c90abdf470f",
   "metadata": {},
   "outputs": [],
   "source": [
    "# using for loop\n",
    "fruits = {\"apple\", \"banana\", \"cherry\"}\n",
    "for i in fruits:\n",
    "    print(i)"
   ]
  },
  {
   "cell_type": "code",
   "execution_count": null,
   "id": "e5c4d56c-d61b-4438-9156-0e6e09ba6d73",
   "metadata": {},
   "outputs": [],
   "source": [
    "# to check if an item exists in a set, \"in\" keyword can be used\n",
    "fruits = {\"apple\", \"banana\", \"cherry\"}\n",
    "print(\"banana\" in fruits)"
   ]
  },
  {
   "cell_type": "code",
   "execution_count": null,
   "id": "90f1483c-84db-47d3-97bf-4fb294e9ef7d",
   "metadata": {},
   "outputs": [],
   "source": [
    "# similarly, if an item \"not\" in the set can be determined\n",
    "fruits = {\"apple\", \"banana\", \"cherry\"}\n",
    "print(\"banana\" not in fruits)"
   ]
  },
  {
   "cell_type": "markdown",
   "id": "0cb2b63d-a591-4336-a98c-afee0263749b",
   "metadata": {},
   "source": [
    "### 14b. Add Set Items"
   ]
  },
  {
   "cell_type": "code",
   "execution_count": null,
   "id": "76964a85-99f2-4f7d-a2a5-f21047f7be3b",
   "metadata": {},
   "outputs": [],
   "source": [
    "fruits = {\"apple\", \"banana\", \"cherry\"}\n",
    "fruits.add(\"orange\")\n",
    "print(fruits)"
   ]
  },
  {
   "cell_type": "code",
   "execution_count": null,
   "id": "3ae9d9a6-974d-4958-891c-b9a7d69c6d0b",
   "metadata": {},
   "outputs": [],
   "source": [
    "# items from one set can be added to another using update\n",
    "set1 = {\"a\", \"b\", \"c\"}\n",
    "set2 = {\"d\", \"e\", \"f\"}\n",
    "\n",
    "set1.update(set2)\n",
    "print(set1)"
   ]
  },
  {
   "cell_type": "code",
   "execution_count": null,
   "id": "5dd9e1a9-a768-4773-8e26-b3ed031ec580",
   "metadata": {},
   "outputs": [],
   "source": [
    "# add any iterable to the set\n",
    "set1 = {\"a\", \"b\", \"c\"}\n",
    "list1 = [\"d\", \"e\", \"f\"]\n",
    "\n",
    "set1.update(list1)\n",
    "print(set1)"
   ]
  },
  {
   "cell_type": "markdown",
   "id": "8574b867-2bd7-49f5-a968-e3b61f8730f1",
   "metadata": {},
   "source": [
    "### 14c. Remove Set Items"
   ]
  },
  {
   "cell_type": "code",
   "execution_count": null,
   "id": "7b295520-e087-4ada-9e74-c78a866d1ce0",
   "metadata": {},
   "outputs": [],
   "source": [
    "fruits= {\"apple\", \"banana\", \"carrot\", \"cherry\"}\n",
    "fruits.remove(\"carrot\")\n",
    "\n",
    "print(fruits)"
   ]
  },
  {
   "cell_type": "code",
   "execution_count": null,
   "id": "4d370096-72c7-4c00-9436-d7158866de10",
   "metadata": {},
   "outputs": [],
   "source": [
    "# discard() can be used for the same\n",
    "fruits= {\"apple\", \"banana\", \"carrot\", \"cherry\"}\n",
    "fruits.discard(\"carrot\")\n",
    "\n",
    "print(fruits)"
   ]
  },
  {
   "cell_type": "code",
   "execution_count": null,
   "id": "d48c64e8-11b1-4e13-b166-fa89d7aaeac0",
   "metadata": {},
   "outputs": [],
   "source": [
    "fruits= {\"apple\", \"banana\", \"carrot\", \"cherry\"}\n",
    "fruits.remove(\"kiwi\") # if the item does not exist, remove() raises an error\n",
    "fruits.discard(\"pear\") # if the item does not exist, discard() does not raise an error"
   ]
  },
  {
   "cell_type": "code",
   "execution_count": null,
   "id": "3186619a-fed0-48fe-8e05-de0f7ab7c96f",
   "metadata": {},
   "outputs": [],
   "source": [
    "# pop() removes a random item from the list\n",
    "fruits= {\"apple\", \"banana\", \"carrot\", \"cherry\"}\n",
    "x = fruits.pop()\n",
    "\n",
    "print(fruits)\n",
    "print(x)"
   ]
  },
  {
   "cell_type": "code",
   "execution_count": null,
   "id": "ca2ec569-e3b0-48de-8441-823c9c0bc9df",
   "metadata": {},
   "outputs": [],
   "source": [
    "# clear() method empties the list\n",
    "fruits= {\"apple\", \"banana\", \"carrot\", \"cherry\"}\n",
    "fruits.clear()\n",
    "print(fruits)"
   ]
  },
  {
   "cell_type": "code",
   "execution_count": null,
   "id": "ff4adc42-5e13-4620-91bc-86074cb6824e",
   "metadata": {},
   "outputs": [],
   "source": [
    "# del keyword permanently deletes the list\n",
    "fruits= {\"apple\", \"banana\", \"carrot\", \"cherry\"}\n",
    "del fruits\n",
    "fruits()"
   ]
  },
  {
   "cell_type": "markdown",
   "id": "15eca01d-6c44-40b1-85d7-eef1366fa5f5",
   "metadata": {},
   "source": [
    "### 14d. Loop Sets"
   ]
  },
  {
   "cell_type": "code",
   "execution_count": null,
   "id": "66d47e3c-f6b2-45e3-94e4-ad74494e7085",
   "metadata": {},
   "outputs": [],
   "source": [
    "fruits= {\"apple\", \"banana\", \"carrot\", \"cherry\"}\n",
    "for i in fruits:\n",
    "    print(i)"
   ]
  },
  {
   "cell_type": "markdown",
   "id": "39e2c7e1-3d2b-493a-8912-ef0267ea21af",
   "metadata": {},
   "source": [
    "### 14e. Join Sets"
   ]
  },
  {
   "cell_type": "code",
   "execution_count": null,
   "id": "6bd9b42d-3f12-4377-8b41-9db62a000676",
   "metadata": {},
   "outputs": [],
   "source": [
    "# The union() and update() methods joins all items from both sets\n",
    "set1 = {\"a\", \"b\", \"c\"}\n",
    "set2 = {1, 2, 3}\n",
    "\n",
    "set3 = set1.union(set2)\n",
    "print(set3)"
   ]
  },
  {
   "cell_type": "code",
   "execution_count": null,
   "id": "5cfd1b55-af05-4688-a5b7-0ed8b2229648",
   "metadata": {},
   "outputs": [],
   "source": [
    "set1 = {\"a\", \"b\", \"c\"}\n",
    "set2 = {1, 2, 3}\n",
    "\n",
    "set3 = set1 | set2 # | can be used instead of union()\n",
    "print(set3)"
   ]
  },
  {
   "cell_type": "code",
   "execution_count": null,
   "id": "1ad774ef-b062-4ca7-9ebe-9b1d6407170e",
   "metadata": {},
   "outputs": [],
   "source": [
    "# multiple sets can be joined using union() method\n",
    "set1 = {\"a\", \"b\", \"c\"}\n",
    "set2 = {1, 2, 3}\n",
    "set3 = {\"John\", \"Elena\"}\n",
    "set4 = {\"apple\", \"bananas\", \"cherry\"}\n",
    "myset = set1.union(set2, set3, set4)\n",
    "print(myset)"
   ]
  },
  {
   "cell_type": "code",
   "execution_count": null,
   "id": "a0bb7596-1132-4241-a0f9-aab6580e1490",
   "metadata": {},
   "outputs": [],
   "source": [
    "set1 = {\"a\", \"b\", \"c\"}\n",
    "set2 = {1, 2, 3}\n",
    "set3 = {\"John\", \"Elena\"}\n",
    "set4 = {\"apple\", \"bananas\", \"cherry\"}\n",
    "myset = set1 | set2 | set3 | set4\n",
    "print(myset)"
   ]
  },
  {
   "cell_type": "code",
   "execution_count": null,
   "id": "a46368a8-7fe0-43a2-8ed3-cb4eb6de70ec",
   "metadata": {},
   "outputs": [],
   "source": [
    "x = {\"a\", \"b\", \"c\"}\n",
    "y = (1, 2, 3)\n",
    "\n",
    "z = x.union(y)\n",
    "print(z)"
   ]
  },
  {
   "cell_type": "code",
   "execution_count": null,
   "id": "cb6024b0-ddd9-4505-b660-662fe3413340",
   "metadata": {},
   "outputs": [],
   "source": [
    "# The update() method inserts all items from one set into another\n",
    "# The update() changes the original set, and does not return a new set\n",
    "set1 = {\"a\", \"b\", \"c\"}\n",
    "set2 = {1, 2, 3}\n",
    "set1.update(set2)\n",
    "print(set1)"
   ]
  },
  {
   "cell_type": "code",
   "execution_count": null,
   "id": "be997a42-2222-4325-b1a2-fe69c5e60615",
   "metadata": {},
   "outputs": [],
   "source": [
    "# The intersection() method will return a new set, that only contains the items that are present in both sets\n",
    "set1 = {\"apple\", \"banana\", \"cherry\"}\n",
    "set2 = {\"google\", \"microsoft\", \"apple\"}\n",
    "\n",
    "set3 = set1.intersection(set2)\n",
    "print(set3)"
   ]
  },
  {
   "cell_type": "code",
   "execution_count": null,
   "id": "0a683624-772d-47f8-9491-28c3a2946cec",
   "metadata": {},
   "outputs": [],
   "source": [
    "# \"&\" operator can be used instead of intersection()\n",
    "set1 = {\"apple\", \"banana\", \"cherry\"}\n",
    "set2 = {\"google\", \"microsoft\", \"apple\"}\n",
    "\n",
    "set3 = set1 & set2\n",
    "print(set3)"
   ]
  },
  {
   "cell_type": "code",
   "execution_count": null,
   "id": "410e6458-de0c-452f-8b69-01420b0eb176",
   "metadata": {},
   "outputs": [],
   "source": [
    "# The intersection_update() method will also keep ONLY the duplicates, but it will change the original set instead of returning a new set.\n",
    "set1 = {\"apple\", \"banana\", \"cherry\"}\n",
    "set2 = {\"google\", \"microsoft\", \"apple\"}\n",
    "\n",
    "set1.intersection_update(set2)\n",
    "\n",
    "print(set1)"
   ]
  },
  {
   "cell_type": "code",
   "execution_count": null,
   "id": "cdbd156e-8baa-487d-89cb-c884560bbae7",
   "metadata": {},
   "outputs": [],
   "source": [
    "set1 = {\"apple\", 1,  \"banana\", 0, \"cherry\"}\n",
    "set2 = {False, \"google\", 1, \"apple\", 2, True}\n",
    "\n",
    "set3 = set1.intersection(set2)\n",
    "\n",
    "print(set3)"
   ]
  },
  {
   "cell_type": "code",
   "execution_count": null,
   "id": "cb6a63ab-2763-4258-806f-3f66f8f736cc",
   "metadata": {},
   "outputs": [],
   "source": [
    "# The difference() method will return a new set that will contain only the items from the first set that are not present in the other set\n",
    "set1 = {\"apple\", \"banana\", \"cherry\"}\n",
    "set2 = {\"google\", \"microsoft\", \"apple\"}\n",
    "\n",
    "set3 = set1.difference(set2)\n",
    "\n",
    "print(set3)"
   ]
  },
  {
   "cell_type": "code",
   "execution_count": null,
   "id": "a6784194-fc10-4188-ac77-f50eb665e412",
   "metadata": {},
   "outputs": [],
   "source": [
    "# \"-\" can be used instead of difference() method\n",
    "set1 = {\"apple\", \"banana\", \"cherry\"}\n",
    "set2 = {\"google\", \"microsoft\", \"apple\"}\n",
    "\n",
    "set3 = set1 - set2\n",
    "\n",
    "print(set3)"
   ]
  },
  {
   "cell_type": "code",
   "execution_count": null,
   "id": "e0308982-2209-4b18-9845-690262b59d62",
   "metadata": {},
   "outputs": [],
   "source": [
    "# The difference_update() method will also keep the items from the first set that are not in the other set\n",
    "# but it will change the original set instead of returning a new set\n",
    "set1 = {\"apple\", \"banana\", \"cherry\"}\n",
    "set2 = {\"google\", \"microsoft\", \"apple\"}\n",
    "\n",
    "set1.difference_update(set2)\n",
    "\n",
    "print(set1)"
   ]
  },
  {
   "cell_type": "code",
   "execution_count": null,
   "id": "3c1df278-c80c-41d1-8abc-77dd642ab78d",
   "metadata": {},
   "outputs": [],
   "source": [
    "# The symmetric_difference() method will keep only the elements that are NOT present in both sets\n",
    "set1 = {\"apple\", \"banana\", \"cherry\"}\n",
    "set2 = {\"google\", \"microsoft\", \"apple\"}\n",
    "\n",
    "set3 = set1.symmetric_difference(set2)\n",
    "\n",
    "print(set3)"
   ]
  },
  {
   "cell_type": "code",
   "execution_count": null,
   "id": "27ef9ebf-d80d-4ca1-810c-fe3d787ac3b4",
   "metadata": {},
   "outputs": [],
   "source": [
    "# \"^\" can be used instead of symmetric_difference()\n",
    "set1 = {\"apple\", \"banana\", \"cherry\"}\n",
    "set2 = {\"google\", \"microsoft\", \"apple\"}\n",
    "\n",
    "set3 = set1 ^ set2\n",
    "\n",
    "print(set3)"
   ]
  },
  {
   "cell_type": "code",
   "execution_count": null,
   "id": "14eb024c-2436-4d81-8828-221cb39554cc",
   "metadata": {},
   "outputs": [],
   "source": [
    "# The symmetric_difference_update() method will also keep all but the duplicates\n",
    "# but it will change the original set instead of returning a new set\n",
    "set1 = {\"apple\", \"banana\", \"cherry\"}\n",
    "set2 = {\"google\", \"microsoft\", \"apple\"}\n",
    "\n",
    "set1.symmetric_difference_update(set2)\n",
    "\n",
    "print(set1)"
   ]
  },
  {
   "cell_type": "markdown",
   "id": "72b47e91-c863-4ac5-9418-09ff13588582",
   "metadata": {},
   "source": [
    "### 14f. Other Methods"
   ]
  },
  {
   "cell_type": "code",
   "execution_count": null,
   "id": "a0e17423-a7da-4a8f-9998-c2b0480f4dcb",
   "metadata": {},
   "outputs": [],
   "source": [
    "# copy()\n",
    "fruits = {\"apple\", \"banana\", \"cherry\"}\n",
    "\n",
    "x = fruits.copy()\n",
    "\n",
    "print(x)"
   ]
  },
  {
   "cell_type": "code",
   "execution_count": null,
   "id": "9edf9e71-bb04-4fea-83c5-be76f6e0f152",
   "metadata": {},
   "outputs": [],
   "source": [
    "set1 = {\"apple\", \"banana\", \"cherry\"}\n",
    "set2 = {\"google\", \"microsoft\", \"apple\"}\n",
    "set3 = set1.isdisjoint(set2) # returns True, if no items in set1 is present in set2\n",
    "print(set3)"
   ]
  },
  {
   "cell_type": "code",
   "execution_count": null,
   "id": "db32d10c-5de2-4e33-829f-366ec3a88224",
   "metadata": {},
   "outputs": [],
   "source": [
    "x = {\"a\", \"b\", \"c\"}\n",
    "y = {\"f\", \"e\", \"d\", \"c\", \"b\", \"a\"}\n",
    "\n",
    "z = x.issubset(y) # Return True if all items in set x are present in set y\n",
    "\n",
    "print(z)"
   ]
  },
  {
   "cell_type": "code",
   "execution_count": null,
   "id": "52a18348-0f71-4121-b4ac-cbe84e34557b",
   "metadata": {},
   "outputs": [],
   "source": [
    "x = {\"a\", \"b\", \"c\"}\n",
    "y = {\"f\", \"e\", \"d\", \"c\", \"b\", \"a\"}\n",
    "\n",
    "z = x <= y # \"<=\" same as issubset()\n",
    "\n",
    "print(z)"
   ]
  },
  {
   "cell_type": "code",
   "execution_count": 384,
   "id": "5e98ca30-7978-40ac-81df-aeb4b7a37ff6",
   "metadata": {},
   "outputs": [
    {
     "name": "stdout",
     "output_type": "stream",
     "text": [
      "True\n"
     ]
    }
   ],
   "source": [
    "x = {\"f\", \"e\", \"d\", \"c\", \"b\", \"a\"}\n",
    "y = {\"a\", \"b\", \"c\"}\n",
    "\n",
    "z = x.issuperset(y) # Return True if all items set y are present in set x\n",
    "\n",
    "print(z)"
   ]
  },
  {
   "cell_type": "code",
   "execution_count": 385,
   "id": "baf3a097-db68-43f3-9dc4-edd2f1a0ce0d",
   "metadata": {},
   "outputs": [
    {
     "name": "stdout",
     "output_type": "stream",
     "text": [
      "True\n"
     ]
    }
   ],
   "source": [
    "x = {\"f\", \"e\", \"d\", \"c\", \"b\", \"a\"}\n",
    "y = {\"a\", \"b\", \"c\"}\n",
    "\n",
    "z = x >= y # \">=\" is same as isuperset()\n",
    "print(z)"
   ]
  },
  {
   "cell_type": "markdown",
   "id": "c9f4df56-5f39-4933-8b12-de2db209bd42",
   "metadata": {},
   "source": [
    "# 15. Dictionaries"
   ]
  },
  {
   "cell_type": "code",
   "execution_count": 387,
   "id": "43b77ba6-a8f2-41a0-a472-8320a083e48f",
   "metadata": {},
   "outputs": [
    {
     "name": "stdout",
     "output_type": "stream",
     "text": [
      "{'brand': 'Ford', 'model': 'Mustang', 'year': 1964}\n"
     ]
    }
   ],
   "source": [
    "# Dictionaries are used to store data values in key:value pairs\n",
    "# A dictionary is a collection which is ordered*, changeable and do not allow duplicates\n",
    "# As of Python version 3.7, dictionaries are ordered. In Python 3.6 and earlier, dictionaries are unordered\n",
    "thisdict = {\n",
    "  \"brand\": \"Ford\",\n",
    "  \"model\": \"Mustang\",\n",
    "  \"year\": 1964\n",
    "}\n",
    "print(thisdict)"
   ]
  },
  {
   "cell_type": "code",
   "execution_count": 388,
   "id": "97c694c9-9a78-42cf-9c8a-7014254ca71c",
   "metadata": {},
   "outputs": [
    {
     "name": "stdout",
     "output_type": "stream",
     "text": [
      "Ford\n"
     ]
    }
   ],
   "source": [
    "# Dictionary items are ordered, changeable, and do not allow duplicates\n",
    "# Dictionary items are presented in key:value pairs, and can be referred to by using the key name\n",
    "thisdict = {\n",
    "  \"brand\": \"Ford\",\n",
    "  \"model\": \"Mustang\",\n",
    "  \"year\": 1964\n",
    "}\n",
    "print(thisdict[\"brand\"])"
   ]
  },
  {
   "cell_type": "code",
   "execution_count": 389,
   "id": "f35570a6-94e9-445e-8dd9-51492f3e9e9b",
   "metadata": {},
   "outputs": [
    {
     "name": "stdout",
     "output_type": "stream",
     "text": [
      "{'brand': 'Ford', 'model': 'Mustang', 'year': 2020}\n"
     ]
    }
   ],
   "source": [
    "# Dictionaries are changeable, meaning that we can change, add or remove items after the dictionary has been created\n",
    "# Dictionaries cannot have two items with the same key\n",
    "thisdict = {\n",
    "  \"brand\": \"Ford\",\n",
    "  \"model\": \"Mustang\",\n",
    "  \"year\": 1964,\n",
    "  \"year\": 2020\n",
    "}\n",
    "print(thisdict)"
   ]
  },
  {
   "cell_type": "code",
   "execution_count": 390,
   "id": "4a337240-66b4-4871-9562-5670f0830451",
   "metadata": {},
   "outputs": [
    {
     "name": "stdout",
     "output_type": "stream",
     "text": [
      "3\n"
     ]
    }
   ],
   "source": [
    "# len() function can be used for dictionaries as well\n",
    "print(len(thisdict))"
   ]
  },
  {
   "cell_type": "code",
   "execution_count": 391,
   "id": "5553c205-1434-4a96-b9a2-9a714bf0a724",
   "metadata": {},
   "outputs": [],
   "source": [
    "# dictionary items can be of any data tyoe\n",
    "thisdict = {\n",
    "  \"brand\": \"Ford\",\n",
    "  \"electric\": False,\n",
    "  \"year\": 1964,\n",
    "  \"colors\": [\"red\", \"white\", \"blue\"]\n",
    "}"
   ]
  },
  {
   "cell_type": "code",
   "execution_count": 392,
   "id": "38029059-cced-4302-b891-968e813d0cd4",
   "metadata": {},
   "outputs": [
    {
     "name": "stdout",
     "output_type": "stream",
     "text": [
      "<class 'dict'>\n"
     ]
    }
   ],
   "source": [
    "print(type(thisdict))"
   ]
  },
  {
   "cell_type": "code",
   "execution_count": 393,
   "id": "15ad6200-0ba1-4ddb-a356-1729aa90de9d",
   "metadata": {},
   "outputs": [
    {
     "name": "stdout",
     "output_type": "stream",
     "text": [
      "{'name': 'John', 'age': 36, 'country': 'Norway'}\n"
     ]
    }
   ],
   "source": [
    "# dict() constructor can be used to make a dictionary\n",
    "thisdict = dict(name = \"John\", age = 36, country = \"Norway\")\n",
    "print(thisdict)"
   ]
  },
  {
   "cell_type": "markdown",
   "id": "abe00601-3581-4476-ad17-3c7113fe270c",
   "metadata": {},
   "source": [
    "### 15a. Accessing Items"
   ]
  },
  {
   "cell_type": "code",
   "execution_count": 395,
   "id": "1cf1af0b-66e2-4896-ba2f-881d3910de29",
   "metadata": {},
   "outputs": [
    {
     "name": "stdout",
     "output_type": "stream",
     "text": [
      "Mustang\n"
     ]
    }
   ],
   "source": [
    "# items of the dictionary can be accessed by using the key names\n",
    "thisdict = {\n",
    "  \"brand\": \"Ford\",\n",
    "  \"model\": \"Mustang\",\n",
    "  \"year\": 1964\n",
    "}\n",
    "x = thisdict[\"model\"]\n",
    "print(x)"
   ]
  },
  {
   "cell_type": "code",
   "execution_count": 396,
   "id": "4df676c7-fb48-4875-9cc8-98ebaf980459",
   "metadata": {},
   "outputs": [
    {
     "name": "stdout",
     "output_type": "stream",
     "text": [
      "Mustang\n"
     ]
    }
   ],
   "source": [
    "# get() method can be used for the same\n",
    "x = thisdict.get(\"model\")\n",
    "print(x)"
   ]
  },
  {
   "cell_type": "code",
   "execution_count": 397,
   "id": "8474a0b5-b97d-43ff-a35e-7a1b91cec9a1",
   "metadata": {},
   "outputs": [
    {
     "name": "stdout",
     "output_type": "stream",
     "text": [
      "dict_keys(['brand', 'model', 'year'])\n"
     ]
    }
   ],
   "source": [
    "# keys() method can be used to get the list of keys\n",
    "x = thisdict.keys()\n",
    "print(x)"
   ]
  },
  {
   "cell_type": "code",
   "execution_count": 398,
   "id": "42316938-0791-4108-a80f-ba62d001e77f",
   "metadata": {},
   "outputs": [
    {
     "name": "stdout",
     "output_type": "stream",
     "text": [
      "dict_keys(['brand', 'model', 'year'])\n",
      "dict_keys(['brand', 'model', 'year', 'color'])\n"
     ]
    }
   ],
   "source": [
    "car = {\n",
    "\"brand\": \"Ford\",\n",
    "\"model\": \"Mustang\",\n",
    "\"year\": 1964\n",
    "}\n",
    "\n",
    "x = car.keys()\n",
    "\n",
    "print(x) #before the change\n",
    "\n",
    "car[\"color\"] = \"white\"\n",
    "\n",
    "print(x) #after the change"
   ]
  },
  {
   "cell_type": "code",
   "execution_count": 399,
   "id": "f7a0d403-8a8c-4963-a935-c3865a02ef53",
   "metadata": {},
   "outputs": [
    {
     "name": "stdout",
     "output_type": "stream",
     "text": [
      "dict_values(['Ford', 'Mustang', 1964, 'white'])\n"
     ]
    }
   ],
   "source": [
    "# values() method returns the values in the dictionary\n",
    "x = car.values()\n",
    "print(x)"
   ]
  },
  {
   "cell_type": "code",
   "execution_count": 400,
   "id": "dd225ab3-d3a9-4463-973f-da0148f9f24b",
   "metadata": {},
   "outputs": [
    {
     "name": "stdout",
     "output_type": "stream",
     "text": [
      "dict_values(['Ford', 'Mustang', 1964])\n",
      "dict_values(['Ford', 'Mustang', 2020])\n"
     ]
    }
   ],
   "source": [
    "car = {\n",
    "\"brand\": \"Ford\",\n",
    "\"model\": \"Mustang\",\n",
    "\"year\": 1964\n",
    "}\n",
    "\n",
    "x = car.values()\n",
    "\n",
    "print(x) #before the change\n",
    "\n",
    "car[\"year\"] = 2020\n",
    "\n",
    "print(x) #after the change"
   ]
  },
  {
   "cell_type": "code",
   "execution_count": 401,
   "id": "90911d96-c761-4fe9-b7b0-86d98ea42bf7",
   "metadata": {},
   "outputs": [
    {
     "name": "stdout",
     "output_type": "stream",
     "text": [
      "dict_values(['Ford', 'Mustang', 1964])\n",
      "dict_values(['Ford', 'Mustang', 1964, 'red'])\n"
     ]
    }
   ],
   "source": [
    "car = {\n",
    "\"brand\": \"Ford\",\n",
    "\"model\": \"Mustang\",\n",
    "\"year\": 1964\n",
    "}\n",
    "\n",
    "x = car.values()\n",
    "\n",
    "print(x) #before the change\n",
    "\n",
    "car[\"color\"] = \"red\"\n",
    "\n",
    "print(x) #after the change"
   ]
  },
  {
   "cell_type": "code",
   "execution_count": 402,
   "id": "48fcd19f-903f-429a-9f68-1f93f8f2a635",
   "metadata": {},
   "outputs": [
    {
     "name": "stdout",
     "output_type": "stream",
     "text": [
      "dict_items([('brand', 'Ford'), ('model', 'Mustang'), ('year', 1964), ('color', 'red')])\n"
     ]
    }
   ],
   "source": [
    "# The items() method will return each item in a dictionary, as tuples in a list\n",
    "x = car.items()\n",
    "print(x)"
   ]
  },
  {
   "cell_type": "code",
   "execution_count": 403,
   "id": "710c8d14-3d8f-42d6-af98-04179a46d0fb",
   "metadata": {},
   "outputs": [
    {
     "name": "stdout",
     "output_type": "stream",
     "text": [
      "dict_items([('brand', 'Ford'), ('model', 'Mustang'), ('year', 1964)])\n",
      "dict_items([('brand', 'Ford'), ('model', 'Mustang'), ('year', 2020)])\n"
     ]
    }
   ],
   "source": [
    "car = {\n",
    "\"brand\": \"Ford\",\n",
    "\"model\": \"Mustang\",\n",
    "\"year\": 1964\n",
    "}\n",
    "\n",
    "x = car.items()\n",
    "\n",
    "print(x) #before the change\n",
    "\n",
    "car[\"year\"] = 2020\n",
    "\n",
    "print(x) #after the change"
   ]
  },
  {
   "cell_type": "code",
   "execution_count": 404,
   "id": "e4b5136b-c3fb-4816-9626-21237bfc5f75",
   "metadata": {},
   "outputs": [
    {
     "name": "stdout",
     "output_type": "stream",
     "text": [
      "dict_items([('brand', 'Ford'), ('model', 'Mustang'), ('year', 1964)])\n",
      "dict_items([('brand', 'Ford'), ('model', 'Mustang'), ('year', 1964), ('color', 'red')])\n"
     ]
    }
   ],
   "source": [
    "car = {\n",
    "\"brand\": \"Ford\",\n",
    "\"model\": \"Mustang\",\n",
    "\"year\": 1964\n",
    "}\n",
    "\n",
    "x = car.items()\n",
    "\n",
    "print(x) #before the change\n",
    "\n",
    "car[\"color\"] = \"red\"\n",
    "\n",
    "print(x) #after the change"
   ]
  },
  {
   "cell_type": "code",
   "execution_count": 405,
   "id": "6064a873-6e4c-458c-a0b1-66d040037e41",
   "metadata": {},
   "outputs": [
    {
     "name": "stdout",
     "output_type": "stream",
     "text": [
      "Yes!\n"
     ]
    }
   ],
   "source": [
    "car = {\n",
    "\"brand\": \"Ford\",\n",
    "\"model\": \"Mustang\",\n",
    "\"year\": 1964\n",
    "}\n",
    "\n",
    "if \"model\" in car: # to check if a key exists or not\n",
    "    print(\"Yes!\")"
   ]
  },
  {
   "cell_type": "markdown",
   "id": "64ffe378-db16-4e8b-8867-8eb894ebcdf1",
   "metadata": {},
   "source": [
    "### 15b. Change Items"
   ]
  },
  {
   "cell_type": "code",
   "execution_count": 407,
   "id": "52740542-4152-46e4-98fd-c95609da61d2",
   "metadata": {},
   "outputs": [
    {
     "name": "stdout",
     "output_type": "stream",
     "text": [
      "{'brand': 'Ford', 'model': 'Mustang', 'year': 2018}\n"
     ]
    }
   ],
   "source": [
    "car = {\n",
    "\"brand\": \"Ford\",\n",
    "\"model\": \"Mustang\",\n",
    "\"year\": 1964\n",
    "}\n",
    "car[\"year\"] = 2018\n",
    "print(car)"
   ]
  },
  {
   "cell_type": "code",
   "execution_count": 408,
   "id": "1601dd21-85f7-4af7-9b55-af368f090163",
   "metadata": {},
   "outputs": [
    {
     "name": "stdout",
     "output_type": "stream",
     "text": [
      "{'brand': 'Ford', 'model': 'Mustang', 'year': 2020}\n"
     ]
    }
   ],
   "source": [
    "# update() method can be used for the same purpose\n",
    "car = {\n",
    "\"brand\": \"Ford\",\n",
    "\"model\": \"Mustang\",\n",
    "\"year\": 1964\n",
    "}\n",
    "car.update({\"year\": 2020})\n",
    "print(car)"
   ]
  },
  {
   "cell_type": "markdown",
   "id": "2e6feb24-766c-44b6-aa6f-8d2afef85c57",
   "metadata": {},
   "source": [
    "### 15c. Adding Items"
   ]
  },
  {
   "cell_type": "code",
   "execution_count": 410,
   "id": "274f457c-b663-4285-b113-78cc8b419198",
   "metadata": {},
   "outputs": [
    {
     "name": "stdout",
     "output_type": "stream",
     "text": [
      "{'brand': 'Ford', 'model': 'Mustang', 'year': 1964, 'color': 'red'}\n"
     ]
    }
   ],
   "source": [
    "# Adding an item to the dictionary is done by using a new index key and assigning a value\n",
    "thisdict = {\n",
    "  \"brand\": \"Ford\",\n",
    "  \"model\": \"Mustang\",\n",
    "  \"year\": 1964\n",
    "}\n",
    "thisdict[\"color\"] = \"red\"\n",
    "print(thisdict)"
   ]
  },
  {
   "cell_type": "code",
   "execution_count": 411,
   "id": "329da256-44f2-4fff-8bcd-e17efc54eebd",
   "metadata": {},
   "outputs": [
    {
     "name": "stdout",
     "output_type": "stream",
     "text": [
      "{'brand': 'Ford', 'model': 'Mustang', 'year': 1964, 'color': 'red'}\n"
     ]
    }
   ],
   "source": [
    "# update() can be used for the same\n",
    "thisdict = {\n",
    "  \"brand\": \"Ford\",\n",
    "  \"model\": \"Mustang\",\n",
    "  \"year\": 1964\n",
    "}\n",
    "thisdict.update({\"color\":\"red\"})\n",
    "\n",
    "print(thisdict)"
   ]
  },
  {
   "cell_type": "markdown",
   "id": "b88aecdd-c338-4268-8d42-a6fd41f978c5",
   "metadata": {},
   "source": [
    "### 15d. Removing Items"
   ]
  },
  {
   "cell_type": "code",
   "execution_count": 413,
   "id": "61ba2a05-d153-4e86-87f7-7028b92854dd",
   "metadata": {},
   "outputs": [
    {
     "name": "stdout",
     "output_type": "stream",
     "text": [
      "{'brand': 'Ford', 'year': 1964}\n"
     ]
    }
   ],
   "source": [
    "# pop() method is used to remove a particular item using the key\n",
    "thisdict = {\n",
    "  \"brand\": \"Ford\",\n",
    "  \"model\": \"Mustang\",\n",
    "  \"year\": 1964\n",
    "}\n",
    "thisdict.pop(\"model\")\n",
    "print(thisdict)"
   ]
  },
  {
   "cell_type": "code",
   "execution_count": 414,
   "id": "6a72971e-d3f3-48e6-bea4-04ba0f6620b5",
   "metadata": {},
   "outputs": [
    {
     "name": "stdout",
     "output_type": "stream",
     "text": [
      "{'brand': 'Ford', 'model': 'Mustang'}\n"
     ]
    }
   ],
   "source": [
    "# popitem() removes the last inserted item\n",
    "thisdict = {\n",
    "  \"brand\": \"Ford\",\n",
    "  \"model\": \"Mustang\",\n",
    "  \"year\": 1964\n",
    "}\n",
    "thisdict.popitem()\n",
    "print(thisdict)"
   ]
  },
  {
   "cell_type": "code",
   "execution_count": 415,
   "id": "95fbb0c0-4c6f-4210-9f9b-c11aa34100eb",
   "metadata": {},
   "outputs": [
    {
     "name": "stdout",
     "output_type": "stream",
     "text": [
      "{'brand': 'Ford', 'year': 1964}\n"
     ]
    }
   ],
   "source": [
    "# del keyword can be used to remove an item using the key\n",
    "thisdict = {\n",
    "  \"brand\": \"Ford\",\n",
    "  \"model\": \"Mustang\",\n",
    "  \"year\": 1964\n",
    "}\n",
    "del thisdict[\"model\"]\n",
    "\n",
    "print(thisdict)"
   ]
  },
  {
   "cell_type": "code",
   "execution_count": 416,
   "id": "99f8dc1b-3394-4b98-a020-758542f1dd67",
   "metadata": {},
   "outputs": [
    {
     "ename": "NameError",
     "evalue": "name 'thisdict' is not defined",
     "output_type": "error",
     "traceback": [
      "\u001b[1;31m---------------------------------------------------------------------------\u001b[0m",
      "\u001b[1;31mNameError\u001b[0m                                 Traceback (most recent call last)",
      "Cell \u001b[1;32mIn[416], line 8\u001b[0m\n\u001b[0;32m      2\u001b[0m thisdict \u001b[38;5;241m=\u001b[39m {\n\u001b[0;32m      3\u001b[0m   \u001b[38;5;124m\"\u001b[39m\u001b[38;5;124mbrand\u001b[39m\u001b[38;5;124m\"\u001b[39m: \u001b[38;5;124m\"\u001b[39m\u001b[38;5;124mFord\u001b[39m\u001b[38;5;124m\"\u001b[39m,\n\u001b[0;32m      4\u001b[0m   \u001b[38;5;124m\"\u001b[39m\u001b[38;5;124mmodel\u001b[39m\u001b[38;5;124m\"\u001b[39m: \u001b[38;5;124m\"\u001b[39m\u001b[38;5;124mMustang\u001b[39m\u001b[38;5;124m\"\u001b[39m,\n\u001b[0;32m      5\u001b[0m   \u001b[38;5;124m\"\u001b[39m\u001b[38;5;124myear\u001b[39m\u001b[38;5;124m\"\u001b[39m: \u001b[38;5;241m1964\u001b[39m\n\u001b[0;32m      6\u001b[0m }\n\u001b[0;32m      7\u001b[0m \u001b[38;5;28;01mdel\u001b[39;00m thisdict\n\u001b[1;32m----> 8\u001b[0m \u001b[38;5;28mprint\u001b[39m(thisdict)\n",
      "\u001b[1;31mNameError\u001b[0m: name 'thisdict' is not defined"
     ]
    }
   ],
   "source": [
    "# del keyword can also be used to delete an entire dictionary\n",
    "thisdict = {\n",
    "  \"brand\": \"Ford\",\n",
    "  \"model\": \"Mustang\",\n",
    "  \"year\": 1964\n",
    "}\n",
    "del thisdict\n",
    "print(thisdict)"
   ]
  },
  {
   "cell_type": "code",
   "execution_count": null,
   "id": "30d5a033-301d-4d26-bfe5-1dbb3e669327",
   "metadata": {},
   "outputs": [],
   "source": [
    "# clear() method deletes the items in the dictionary and makes it empty\n",
    "thisdict = {\n",
    "  \"brand\": \"Ford\",\n",
    "  \"model\": \"Mustang\",\n",
    "  \"year\": 1964\n",
    "}\n",
    "\n",
    "thisdict.clear()\n",
    "print(thisdict)"
   ]
  },
  {
   "cell_type": "markdown",
   "id": "d312896b-aee6-4fbf-8b99-f7b4e4e2004b",
   "metadata": {},
   "source": [
    "### 15d. Loop Dictionaries"
   ]
  },
  {
   "cell_type": "code",
   "execution_count": 418,
   "id": "4a0cc635-3873-4c3e-bc5a-eac8227d17d2",
   "metadata": {},
   "outputs": [
    {
     "name": "stdout",
     "output_type": "stream",
     "text": [
      "brand\n",
      "model\n",
      "year\n"
     ]
    }
   ],
   "source": [
    "thisdict = {\n",
    "  \"brand\": \"Ford\",\n",
    "  \"model\": \"Mustang\",\n",
    "  \"year\": 1964\n",
    "}\n",
    "\n",
    "for i in thisdict:\n",
    "    print(i) # this method prints keys"
   ]
  },
  {
   "cell_type": "code",
   "execution_count": 419,
   "id": "630c0571-2f20-47f6-994f-76ef26cfccfd",
   "metadata": {},
   "outputs": [
    {
     "name": "stdout",
     "output_type": "stream",
     "text": [
      "Ford\n",
      "Mustang\n",
      "1964\n"
     ]
    }
   ],
   "source": [
    "thisdict = {\n",
    "  \"brand\": \"Ford\",\n",
    "  \"model\": \"Mustang\",\n",
    "  \"year\": 1964\n",
    "}\n",
    "\n",
    "for i in thisdict:\n",
    "    print(thisdict[i]) # this method prints values"
   ]
  },
  {
   "cell_type": "code",
   "execution_count": 420,
   "id": "14783237-ed6c-4ae4-98c7-78b7b310c44c",
   "metadata": {},
   "outputs": [
    {
     "name": "stdout",
     "output_type": "stream",
     "text": [
      "Ford\n",
      "Mustang\n",
      "1964\n"
     ]
    }
   ],
   "source": [
    "thisdict = {\n",
    "  \"brand\": \"Ford\",\n",
    "  \"model\": \"Mustang\",\n",
    "  \"year\": 1964\n",
    "}\n",
    "\n",
    "for i in thisdict.values(): # to print values\n",
    "    print(i)"
   ]
  },
  {
   "cell_type": "code",
   "execution_count": 421,
   "id": "98ec235e-bf9f-4956-afe5-b227869089fd",
   "metadata": {},
   "outputs": [
    {
     "name": "stdout",
     "output_type": "stream",
     "text": [
      "brand\n",
      "model\n",
      "year\n"
     ]
    }
   ],
   "source": [
    "thisdict = {\n",
    "  \"brand\": \"Ford\",\n",
    "  \"model\": \"Mustang\",\n",
    "  \"year\": 1964\n",
    "}\n",
    "\n",
    "for i in thisdict.keys(): # to print keys\n",
    "    print(i)"
   ]
  },
  {
   "cell_type": "code",
   "execution_count": 422,
   "id": "cead2a79-aafe-42ff-a776-9567d72cd876",
   "metadata": {},
   "outputs": [
    {
     "name": "stdout",
     "output_type": "stream",
     "text": [
      "('brand', 'Ford')\n",
      "('model', 'Mustang')\n",
      "('year', 1964)\n"
     ]
    }
   ],
   "source": [
    "thisdict = {\n",
    "  \"brand\": \"Ford\",\n",
    "  \"model\": \"Mustang\",\n",
    "  \"year\": 1964\n",
    "}\n",
    "\n",
    "for i in thisdict.items(): # to print both keys and values\n",
    "    print(i)"
   ]
  },
  {
   "cell_type": "markdown",
   "id": "e3f28712-13ef-4e4f-adaf-bf34ab999722",
   "metadata": {},
   "source": [
    "### 15e. Copy Dictionaries"
   ]
  },
  {
   "cell_type": "code",
   "execution_count": 424,
   "id": "cae152f6-ee17-4a12-a356-ab438430d1c7",
   "metadata": {},
   "outputs": [
    {
     "name": "stdout",
     "output_type": "stream",
     "text": [
      "{'brand': 'Ford', 'model': 'Mustang', 'year': 1964}\n"
     ]
    }
   ],
   "source": [
    "thisdict = {\n",
    "  \"brand\": \"Ford\",\n",
    "  \"model\": \"Mustang\",\n",
    "  \"year\": 1964\n",
    "}\n",
    "\n",
    "newdict = thisdict.copy() # copy() method is used to copy the items of one dictionary to other\n",
    "print(newdict)"
   ]
  },
  {
   "cell_type": "code",
   "execution_count": 425,
   "id": "3bc7d8e7-cbd0-4aae-aa38-78399b7d072f",
   "metadata": {},
   "outputs": [
    {
     "name": "stdout",
     "output_type": "stream",
     "text": [
      "{'brand': 'Ford', 'model': 'Mustang', 'year': 1964}\n"
     ]
    }
   ],
   "source": [
    "# dict() can also be used for the same\n",
    "thisdict = {\n",
    "  \"brand\": \"Ford\",\n",
    "  \"model\": \"Mustang\",\n",
    "  \"year\": 1964\n",
    "}\n",
    "\n",
    "newdict = dict(thisdict)\n",
    "print(newdict)"
   ]
  },
  {
   "cell_type": "markdown",
   "id": "80dfdf56-9229-4615-8e67-8a6df9be0f72",
   "metadata": {},
   "source": [
    "### 15f. Nested Dictionaries"
   ]
  },
  {
   "cell_type": "code",
   "execution_count": 427,
   "id": "3de3be9e-bd20-4987-8944-cc6c3a0bd357",
   "metadata": {},
   "outputs": [
    {
     "name": "stdout",
     "output_type": "stream",
     "text": [
      "{'child1': {'name': 'Emil', 'year': 2004}, 'child2': {'name': 'Tobias', 'year': 2007}, 'child3': {'name': 'Linus', 'year': 2011}}\n"
     ]
    }
   ],
   "source": [
    "family = {\n",
    "    \"child1\" : {\n",
    "        \"name\" : \"Emil\",\n",
    "    \"year\" : 2004\n",
    "  },\n",
    "  \"child2\" : {\n",
    "    \"name\" : \"Tobias\",\n",
    "    \"year\" : 2007\n",
    "  },\n",
    "  \"child3\" : {\n",
    "    \"name\" : \"Linus\",\n",
    "    \"year\" : 2011\n",
    "  }\n",
    "}\n",
    "print(family)"
   ]
  },
  {
   "cell_type": "code",
   "execution_count": 428,
   "id": "862f62e0-9f9b-4164-b1fd-e07dda50ebcd",
   "metadata": {},
   "outputs": [
    {
     "name": "stdout",
     "output_type": "stream",
     "text": [
      "{'child1': {'name': 'Emil', 'year': 2004}, 'child2': {'name': 'Tobias', 'year': 2007}, 'child3': {'name': 'Linus', 'year': 2011}}\n"
     ]
    }
   ],
   "source": [
    "# this same can be accomplished by another method\n",
    "child1 = {\n",
    "    \"name\" : \"Emil\",\n",
    "    \"year\" : 2004\n",
    "}\n",
    "child2 = {\n",
    "    \"name\" : \"Tobias\",\n",
    "    \"year\" : 2007\n",
    "}\n",
    "child3 = {\n",
    "    \"name\" : \"Linus\",\n",
    "    \"year\" : 2011\n",
    "}\n",
    "\n",
    "family = {\n",
    "    \"child1\" : child1,\n",
    "    \"child2\" : child2,\n",
    "    \"child3\" : child3\n",
    "}\n",
    "\n",
    "print(family)"
   ]
  },
  {
   "cell_type": "code",
   "execution_count": 429,
   "id": "d3d39e0c-7247-4960-bd10-d236f2dd9a25",
   "metadata": {},
   "outputs": [
    {
     "name": "stdout",
     "output_type": "stream",
     "text": [
      "Tobias\n"
     ]
    }
   ],
   "source": [
    "print(family[\"child2\"][\"name\"]) # to access the items in the nested dictionaries"
   ]
  },
  {
   "cell_type": "code",
   "execution_count": 430,
   "id": "4e7c03c6-dbab-43f3-8a9c-feec000e8e41",
   "metadata": {},
   "outputs": [
    {
     "name": "stdout",
     "output_type": "stream",
     "text": [
      "child1\n",
      "name: Emil\n",
      "year: 2004\n",
      "child2\n",
      "name: Tobias\n",
      "year: 2007\n",
      "child3\n",
      "name: Linus\n",
      "year: 2011\n"
     ]
    }
   ],
   "source": [
    "# looping through nested dictionaries\n",
    "for i, j in family.items():\n",
    "    print(i)\n",
    "\n",
    "    for x in j:\n",
    "        print(x + \":\", j[x])"
   ]
  },
  {
   "cell_type": "markdown",
   "id": "5a4fac69-16e3-4598-8360-82ee50242d48",
   "metadata": {},
   "source": [
    "### 15g. Dictionary Methods"
   ]
  },
  {
   "cell_type": "code",
   "execution_count": 432,
   "id": "083e3c3e-9f84-4887-9687-86463fd4671e",
   "metadata": {},
   "outputs": [
    {
     "name": "stdout",
     "output_type": "stream",
     "text": [
      "{'key1': 0, 'key2': 0, 'key3': 0}\n"
     ]
    }
   ],
   "source": [
    "# other methods\n",
    "# fromkeys() returns a dictionary with the specified keys and value\n",
    "x = ('key1', 'key2', 'key3')\n",
    "y = 0\n",
    "\n",
    "thisdict = dict.fromkeys(x, y)\n",
    "\n",
    "print(thisdict)"
   ]
  },
  {
   "cell_type": "code",
   "execution_count": 433,
   "id": "96b41845-f7ef-4382-a424-d83fbdbc1c02",
   "metadata": {},
   "outputs": [
    {
     "name": "stdout",
     "output_type": "stream",
     "text": [
      "Mustang\n"
     ]
    }
   ],
   "source": [
    "# get() returns the value of the specified key\n",
    "car = {\n",
    "  \"brand\": \"Ford\",\n",
    "  \"model\": \"Mustang\",\n",
    "  \"year\": 1964\n",
    "}\n",
    "\n",
    "x = car.get(\"model\")\n",
    "\n",
    "print(x)"
   ]
  },
  {
   "cell_type": "code",
   "execution_count": 434,
   "id": "5fb5bb74-a3f8-4893-8d86-bba711d4e688",
   "metadata": {},
   "outputs": [
    {
     "name": "stdout",
     "output_type": "stream",
     "text": [
      "Mustang\n"
     ]
    }
   ],
   "source": [
    "# setdefault() returns the value of the specified key. If the key does not exist: insert the key, with the specified value\n",
    "car = {\n",
    "  \"brand\": \"Ford\",\n",
    "  \"model\": \"Mustang\",\n",
    "  \"year\": 1964\n",
    "}\n",
    "\n",
    "x = car.setdefault(\"model\", \"Bronco\")\n",
    "\n",
    "print(x)"
   ]
  },
  {
   "cell_type": "code",
   "execution_count": 435,
   "id": "cad24cda-5489-4344-b2ef-0bf1fbed94ac",
   "metadata": {},
   "outputs": [
    {
     "name": "stdout",
     "output_type": "stream",
     "text": [
      "Bronco\n"
     ]
    }
   ],
   "source": [
    "car = {\n",
    "  \"brand\": \"Ford\",\n",
    "  \"year\": 1964\n",
    "}\n",
    "\n",
    "x = car.setdefault(\"model\", \"Bronco\")\n",
    "\n",
    "print(x)"
   ]
  }
 ],
 "metadata": {
  "kernelspec": {
   "display_name": "Python [conda env:base] *",
   "language": "python",
   "name": "conda-base-py"
  },
  "language_info": {
   "codemirror_mode": {
    "name": "ipython",
    "version": 3
   },
   "file_extension": ".py",
   "mimetype": "text/x-python",
   "name": "python",
   "nbconvert_exporter": "python",
   "pygments_lexer": "ipython3",
   "version": "3.12.7"
  }
 },
 "nbformat": 4,
 "nbformat_minor": 5
}
