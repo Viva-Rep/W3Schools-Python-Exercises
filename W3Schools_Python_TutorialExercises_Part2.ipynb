{
 "cells": [
  {
   "cell_type": "markdown",
   "id": "330f9632-da5b-43c7-84ae-5c2b977a2926",
   "metadata": {},
   "source": [
    "# 1. if...else"
   ]
  },
  {
   "cell_type": "code",
   "execution_count": 1,
   "id": "9af081d7-0832-4fe1-b6a1-6a400feb0908",
   "metadata": {},
   "outputs": [
    {
     "name": "stdout",
     "output_type": "stream",
     "text": [
      "100 is less than 200\n"
     ]
    }
   ],
   "source": [
    "# logical conditions can be tested using if statement\n",
    "a = 100\n",
    "b = 200\n",
    "if a < b:\n",
    "    print(f\"{a} is less than {b}\")"
   ]
  },
  {
   "cell_type": "code",
   "execution_count": 2,
   "id": "9923b419-b35f-4237-ae70-62b21b1eca10",
   "metadata": {},
   "outputs": [
    {
     "ename": "IndentationError",
     "evalue": "expected an indented block after 'if' statement on line 4 (1288607619.py, line 5)",
     "output_type": "error",
     "traceback": [
      "\u001b[1;36m  Cell \u001b[1;32mIn[2], line 5\u001b[1;36m\u001b[0m\n\u001b[1;33m    print(f\"{a} is less than {b}\") # this will result in error due to indentation error\u001b[0m\n\u001b[1;37m    ^\u001b[0m\n\u001b[1;31mIndentationError\u001b[0m\u001b[1;31m:\u001b[0m expected an indented block after 'if' statement on line 4\n"
     ]
    }
   ],
   "source": [
    "# indentation is important in python\n",
    "a = 100\n",
    "b = 200\n",
    "if a < b:\n",
    "print(f\"{a} is less than {b}\") # this will result in error due to indentation error"
   ]
  },
  {
   "cell_type": "code",
   "execution_count": 3,
   "id": "53da1690-3ffe-4667-81f6-f3343e53b4b4",
   "metadata": {},
   "outputs": [
    {
     "name": "stdout",
     "output_type": "stream",
     "text": [
      "100 is less than 200\n"
     ]
    }
   ],
   "source": [
    "# elif in python referes to, if the previous statement is not true, test this condition\n",
    "a = 200\n",
    "b = 100\n",
    "if a < b:\n",
    "    print(f\"{a} is less than {b}\")\n",
    "elif b < a:\n",
    "    print(f\"{b} is less than {a}\")"
   ]
  },
  {
   "cell_type": "code",
   "execution_count": 4,
   "id": "c0a3e1a9-b0eb-46f7-b12b-0ba04ca7de82",
   "metadata": {},
   "outputs": [
    {
     "name": "stdout",
     "output_type": "stream",
     "text": [
      "Both the numbers are equal\n"
     ]
    }
   ],
   "source": [
    "# else keyword catches anything that previous conditions doesn't satisfy\n",
    "a = 100\n",
    "b = 100\n",
    "if a > b:\n",
    "    print(f\"{a} is greater than {b}\")\n",
    "elif b > a:\n",
    "    print(f\"{b} is greater than {a}\")\n",
    "else:\n",
    "    print(\"Both the numbers are equal\")"
   ]
  },
  {
   "cell_type": "code",
   "execution_count": 5,
   "id": "d56ec801-3a1e-430f-b681-1e775fb1ed63",
   "metadata": {},
   "outputs": [
    {
     "name": "stdout",
     "output_type": "stream",
     "text": [
      "a is greater than b\n"
     ]
    }
   ],
   "source": [
    "# short hand if\n",
    "a = 100\n",
    "b = 22\n",
    "if a > b: print(\"a is greater than b\")"
   ]
  },
  {
   "cell_type": "code",
   "execution_count": 6,
   "id": "ca5f537d-fe3c-4fe2-bd2a-23aa0a60a291",
   "metadata": {},
   "outputs": [
    {
     "name": "stdout",
     "output_type": "stream",
     "text": [
      "b is greater than a\n"
     ]
    }
   ],
   "source": [
    "# short hand if else if\n",
    "a = 100\n",
    "b = 200\n",
    "print(\"a is greater than b\") if a > b else print(\"b is greater than a\")"
   ]
  },
  {
   "cell_type": "code",
   "execution_count": 7,
   "id": "009adc30-bea4-475b-9322-d0e88dc3d5cd",
   "metadata": {},
   "outputs": [
    {
     "name": "stdout",
     "output_type": "stream",
     "text": [
      "Both the numbers are equal\n"
     ]
    }
   ],
   "source": [
    "# short hand if else\n",
    "a = 100\n",
    "b = 100\n",
    "print(\"a is greater than b\") if a > b else print(\"b is greater than a\") if b > a else print(\"Both the numbers are equal\")"
   ]
  },
  {
   "cell_type": "code",
   "execution_count": 8,
   "id": "4c9a3d18-105a-4a2c-87af-1a9bdbd25d30",
   "metadata": {},
   "outputs": [
    {
     "name": "stdout",
     "output_type": "stream",
     "text": [
      "c is the biggest of all three numbers\n"
     ]
    }
   ],
   "source": [
    "# and is logical key operator that can be used within if statement\n",
    "a = 100\n",
    "b = 200\n",
    "c = 300\n",
    "if b > a and c > b:\n",
    "    print(\"c is the biggest of all three numbers\")"
   ]
  },
  {
   "cell_type": "code",
   "execution_count": 9,
   "id": "3d2cb275-2911-4a5a-9484-635e1439fd90",
   "metadata": {},
   "outputs": [
    {
     "name": "stdout",
     "output_type": "stream",
     "text": [
      "Atleast two of the numbers are same\n"
     ]
    }
   ],
   "source": [
    "# smilarly or cna be used\n",
    "a = 100\n",
    "b = 100\n",
    "c = 200\n",
    "if a == b or b == c or c == a:\n",
    "    print(\"Atleast two of the numbers are same\")"
   ]
  },
  {
   "cell_type": "code",
   "execution_count": 11,
   "id": "a7c342aa-c8d9-40a9-a427-b8153edb94a9",
   "metadata": {},
   "outputs": [
    {
     "name": "stdout",
     "output_type": "stream",
     "text": [
      "a is not greater than b\n"
     ]
    }
   ],
   "source": [
    "# not operator\n",
    "a = 100\n",
    "b = 200\n",
    "if not a > b:\n",
    "    print(\"a is not greater than b\")"
   ]
  },
  {
   "cell_type": "code",
   "execution_count": 13,
   "id": "5ee4ef5e-a65f-40e7-9f63-454aef1fa203",
   "metadata": {},
   "outputs": [
    {
     "name": "stdout",
     "output_type": "stream",
     "text": [
      "Age is above 10\n",
      "and also above 20!\n"
     ]
    }
   ],
   "source": [
    "# nested if\n",
    "age = 43\n",
    "if age > 10:\n",
    "    print(\"Age is above 10\")\n",
    "    if age > 20:\n",
    "        print(\"and also above 20!\")\n",
    "    else:\n",
    "        print(\"but not above 20.\")"
   ]
  },
  {
   "cell_type": "code",
   "execution_count": 15,
   "id": "22baa2da-1d69-43f5-82a3-30b911da2a2e",
   "metadata": {},
   "outputs": [],
   "source": [
    "# pass avoids getting an error\n",
    "a = 22\n",
    "b = 33\n",
    "if a > b:\n",
    "    pass"
   ]
  },
  {
   "cell_type": "markdown",
   "id": "98c62e9a-9677-4f6a-9757-a3dde4650e21",
   "metadata": {},
   "source": [
    "# 2. Match"
   ]
  },
  {
   "cell_type": "code",
   "execution_count": 18,
   "id": "e92ea2a4-a7d1-4b72-898b-a75125b54546",
   "metadata": {},
   "outputs": [
    {
     "name": "stdout",
     "output_type": "stream",
     "text": [
      "Thursday\n"
     ]
    }
   ],
   "source": [
    "# based on the condition provided, match statement selects one of the many code bloacks to execute\n",
    "day = 4\n",
    "match day:\n",
    "  case 1:\n",
    "    print(\"Monday\")\n",
    "  case 2:\n",
    "    print(\"Tuesday\")\n",
    "  case 3:\n",
    "    print(\"Wednesday\")\n",
    "  case 4:\n",
    "    print(\"Thursday\")\n",
    "  case 5:\n",
    "    print(\"Friday\")\n",
    "  case 6:\n",
    "    print(\"Saturday\")\n",
    "  case 7:\n",
    "    print(\"Sunday\")"
   ]
  },
  {
   "cell_type": "code",
   "execution_count": 20,
   "id": "961d3205-c9f7-49fc-a1ca-b9374edc4a19",
   "metadata": {},
   "outputs": [
    {
     "name": "stdout",
     "output_type": "stream",
     "text": [
      "Looking forward to the weekend\n"
     ]
    }
   ],
   "source": [
    "# \"_\" character is used in match cose statement as the default value, when there is no match\n",
    "day = 4\n",
    "match day:\n",
    "    case 6:\n",
    "        print(\"Yay! Saturday\")\n",
    "    case 7:\n",
    "        print(\"Yay! Sunday\")\n",
    "    case _:\n",
    "        print(\"Looking forward to the weekend\")"
   ]
  },
  {
   "cell_type": "code",
   "execution_count": 22,
   "id": "66e984bf-faa4-4096-8e20-77b7271c96f5",
   "metadata": {},
   "outputs": [
    {
     "name": "stdout",
     "output_type": "stream",
     "text": [
      "Looking forward to the weekend\n"
     ]
    }
   ],
   "source": [
    "# \"|\" pipe character is used to combine values\n",
    "day = 4\n",
    "match day:\n",
    "    case 1 | 2 | 3 | 4 | 5:\n",
    "        print(\"Looking forward to the weekend\")\n",
    "    case 6 | 7:\n",
    "        print(\"Yay! Weekend\")"
   ]
  },
  {
   "cell_type": "code",
   "execution_count": 24,
   "id": "ddd327a3-cc0a-49ba-a817-f410c639c591",
   "metadata": {},
   "outputs": [
    {
     "name": "stdout",
     "output_type": "stream",
     "text": [
      "Yay! Weekend anyways :)\n"
     ]
    }
   ],
   "source": [
    "# if statements as gaurds\n",
    "day = 7\n",
    "month = 6\n",
    "match day:\n",
    "    case 1 | 2 | 3 | 4 | 5 if month <= 6:\n",
    "        print(\"Weekday in the first half of the year\")\n",
    "    case 1 | 2 | 3 | 4 | 5 if month > 6:\n",
    "        print(\"Weekday in the second half of the year\")\n",
    "    case 6 | 7:\n",
    "        print(\"Yay! Weekend anyways :)\")"
   ]
  },
  {
   "cell_type": "markdown",
   "id": "5a2aacdc-5ee0-4e37-9854-ffcde1384eb3",
   "metadata": {},
   "source": [
    "# 3. While Loops"
   ]
  },
  {
   "cell_type": "code",
   "execution_count": 27,
   "id": "83dcf71f-755b-4075-9319-be9034d2b3eb",
   "metadata": {},
   "outputs": [
    {
     "name": "stdout",
     "output_type": "stream",
     "text": [
      "1\n",
      "2\n",
      "3\n",
      "4\n",
      "5\n"
     ]
    }
   ],
   "source": [
    "i = 1\n",
    "while i < 6: # this will be executed until proven wrong\n",
    "    print(i)\n",
    "    i = i + 1"
   ]
  },
  {
   "cell_type": "code",
   "execution_count": 29,
   "id": "a0c3d390-97e4-4863-98c9-7c8de8949ef4",
   "metadata": {},
   "outputs": [
    {
     "name": "stdout",
     "output_type": "stream",
     "text": [
      "1\n",
      "2\n",
      "3\n"
     ]
    }
   ],
   "source": [
    "i = 1\n",
    "while i < 6:\n",
    "    print(i)\n",
    "    if i == 3:\n",
    "        break # this stops the loop even if it correct\n",
    "    i = i + 1"
   ]
  },
  {
   "cell_type": "code",
   "execution_count": 31,
   "id": "773fde45-df21-4bf4-8eb4-d03263861c5e",
   "metadata": {},
   "outputs": [
    {
     "name": "stdout",
     "output_type": "stream",
     "text": [
      "1\n",
      "2\n",
      "4\n",
      "5\n",
      "6\n"
     ]
    }
   ],
   "source": [
    "i = 0\n",
    "while i < 6:\n",
    "    i = i + 1\n",
    "    if i == 3:\n",
    "        continue # this skips only when the condition is correct\n",
    "    print(i)"
   ]
  },
  {
   "cell_type": "code",
   "execution_count": 33,
   "id": "8aa0971f-c60e-4ea8-a424-ba3f4a2d110c",
   "metadata": {},
   "outputs": [
    {
     "name": "stdout",
     "output_type": "stream",
     "text": [
      "1\n",
      "2\n",
      "3\n",
      "4\n",
      "5\n",
      "i is no longer less than 6\n"
     ]
    }
   ],
   "source": [
    "# With the else statement we can run a block of code once when the condition no longer is true\n",
    "i = 1\n",
    "while i < 6:\n",
    "    print(i)\n",
    "    i = i + 1\n",
    "\n",
    "else:\n",
    "    print(\"i is no longer less than 6\")"
   ]
  },
  {
   "cell_type": "markdown",
   "id": "0d8986ce-4fea-4c10-8364-c2040860ce0f",
   "metadata": {},
   "source": [
    "# 4. For Loops"
   ]
  },
  {
   "cell_type": "code",
   "execution_count": 36,
   "id": "0580d490-780d-498e-b5ea-aaf9696ae5fe",
   "metadata": {},
   "outputs": [
    {
     "name": "stdout",
     "output_type": "stream",
     "text": [
      "apple\n",
      "mango\n",
      "kiwi\n"
     ]
    }
   ],
   "source": [
    "# With the for loop we can execute a set of statements, once for each item in a list, tuple, set etc\n",
    "fruits = [\"apple\", \"mango\", \"kiwi\"]\n",
    "for i in fruits:\n",
    "    print(i)"
   ]
  },
  {
   "cell_type": "code",
   "execution_count": 38,
   "id": "f839fb63-0217-4840-9357-83bac0f6ac1f",
   "metadata": {},
   "outputs": [
    {
     "name": "stdout",
     "output_type": "stream",
     "text": [
      "b\n",
      "a\n",
      "n\n",
      "a\n",
      "n\n",
      "a\n"
     ]
    }
   ],
   "source": [
    "# looping through a string\n",
    "for i in \"banana\":\n",
    "    print(i)"
   ]
  },
  {
   "cell_type": "code",
   "execution_count": 40,
   "id": "f54910bb-020d-4e48-8972-ee2a9aed01ee",
   "metadata": {},
   "outputs": [
    {
     "name": "stdout",
     "output_type": "stream",
     "text": [
      "apple\n",
      "banana\n"
     ]
    }
   ],
   "source": [
    "# use of break() in for loop\n",
    "fruits = [\"apple\", \"banana\", \"kiwi\"]\n",
    "for i in fruits:\n",
    "    print(i)\n",
    "    if i == \"banana\":\n",
    "        break # this stops the loops after printing \"banana\" as print happens before checking"
   ]
  },
  {
   "cell_type": "code",
   "execution_count": 42,
   "id": "03d72c2a-8d86-423c-9827-dce9ace7bfe1",
   "metadata": {},
   "outputs": [
    {
     "name": "stdout",
     "output_type": "stream",
     "text": [
      "apple\n"
     ]
    }
   ],
   "source": [
    "# use of break() in for loop\n",
    "fruits = [\"apple\", \"banana\", \"kiwi\"]\n",
    "for i in fruits:\n",
    "    if i == \"banana\":\n",
    "        break # this loop breaks before printing \"banana\" as print happens after checking the statement\n",
    "    print(i)"
   ]
  },
  {
   "cell_type": "code",
   "execution_count": 44,
   "id": "f826923a-cbd1-4200-bca7-1179226bde49",
   "metadata": {},
   "outputs": [
    {
     "name": "stdout",
     "output_type": "stream",
     "text": [
      "apple\n",
      "kiwi\n"
     ]
    }
   ],
   "source": [
    "# as seen before, continue skips the iteration when the condition is met\n",
    "fruits = [\"apple\", \"banana\", \"kiwi\"]\n",
    "for i in fruits:\n",
    "    if i == \"banana\":\n",
    "        continue # skips printing \"banana\"\n",
    "    print(i)"
   ]
  },
  {
   "cell_type": "code",
   "execution_count": 46,
   "id": "cb84f842-ef96-40da-b0d6-b27ca00f145e",
   "metadata": {},
   "outputs": [
    {
     "name": "stdout",
     "output_type": "stream",
     "text": [
      "0\n",
      "1\n",
      "2\n",
      "3\n",
      "4\n",
      "5\n"
     ]
    }
   ],
   "source": [
    "# range() can be used to loop through specific number of times\n",
    "for i in range(6):\n",
    "    print(i)"
   ]
  },
  {
   "cell_type": "code",
   "execution_count": 48,
   "id": "ea9a6967-9e4a-43b3-b298-53555886255d",
   "metadata": {},
   "outputs": [
    {
     "name": "stdout",
     "output_type": "stream",
     "text": [
      "2\n",
      "3\n",
      "4\n",
      "5\n"
     ]
    }
   ],
   "source": [
    "# the range() function starts at 0 by default, this can be altered in definition\n",
    "for i in range(2, 6):\n",
    "    print(i)"
   ]
  },
  {
   "cell_type": "code",
   "execution_count": 50,
   "id": "9bc5c08d-77a6-42a6-bde4-5472c3636487",
   "metadata": {},
   "outputs": [
    {
     "name": "stdout",
     "output_type": "stream",
     "text": [
      "2\n",
      "5\n",
      "8\n",
      "11\n",
      "14\n",
      "17\n",
      "20\n",
      "23\n",
      "26\n",
      "29\n"
     ]
    }
   ],
   "source": [
    "# increament steps in range function is by default 1. This can be altered in definition\n",
    "for i in range(2, 30, 3):\n",
    "    print(i)"
   ]
  },
  {
   "cell_type": "code",
   "execution_count": 52,
   "id": "cee40c4f-a99a-4cc4-983a-deec8e220030",
   "metadata": {},
   "outputs": [
    {
     "name": "stdout",
     "output_type": "stream",
     "text": [
      "0\n",
      "1\n",
      "2\n",
      "3\n",
      "4\n",
      "5\n",
      "Finished!\n"
     ]
    }
   ],
   "source": [
    "# The else keyword in a for loop specifies a block of code to be executed when the loop is finished\n",
    "for i in range(6):\n",
    "    print(i)\n",
    "else:\n",
    "    print(\"Finished!\")"
   ]
  },
  {
   "cell_type": "code",
   "execution_count": 54,
   "id": "12743f1e-e993-4ec1-8643-5d435a7b3060",
   "metadata": {},
   "outputs": [
    {
     "name": "stdout",
     "output_type": "stream",
     "text": [
      "0\n",
      "1\n",
      "2\n"
     ]
    }
   ],
   "source": [
    "# The else block will NOT be executed if the loop is stopped by a break statement\n",
    "for i in range(6):\n",
    "    if i == 3:\n",
    "        break\n",
    "    print(i)\n",
    "else:\n",
    "    print(\"Finished!\")"
   ]
  },
  {
   "cell_type": "code",
   "execution_count": 56,
   "id": "0b9e37f8-9cf5-44b6-bf84-6f7b91300844",
   "metadata": {},
   "outputs": [
    {
     "name": "stdout",
     "output_type": "stream",
     "text": [
      "red apple\n",
      "red cherry\n",
      "red strawberry\n",
      "big apple\n",
      "big cherry\n",
      "big strawberry\n",
      "tasty apple\n",
      "tasty cherry\n",
      "tasty strawberry\n"
     ]
    }
   ],
   "source": [
    "# nested for loops\n",
    "adj = [\"red\", \"big\", \"tasty\"]\n",
    "fruits = [\"apple\", \"cherry\", \"strawberry\"]\n",
    "\n",
    "for i in adj:\n",
    "    for j in fruits:\n",
    "        print(i, j)"
   ]
  },
  {
   "cell_type": "code",
   "execution_count": 58,
   "id": "d14164ba-5bd4-46c5-a05d-74373b7b233d",
   "metadata": {},
   "outputs": [],
   "source": [
    "# pass just avoids looping through as for loop cannot be empty and pass helps in executing for loop without any output\n",
    "for i in range(3):\n",
    "    pass"
   ]
  },
  {
   "cell_type": "markdown",
   "id": "005941c5-cde1-41c9-a994-0f3342ed6e4a",
   "metadata": {},
   "source": [
    "# 5. Functions"
   ]
  },
  {
   "cell_type": "code",
   "execution_count": 61,
   "id": "6b4cd853-bafe-44ab-8666-8faa83dd7e26",
   "metadata": {},
   "outputs": [],
   "source": [
    "# function is defined with \"def\" keyword\n",
    "def func():\n",
    "    print(\"My First Python Function!\")"
   ]
  },
  {
   "cell_type": "code",
   "execution_count": 63,
   "id": "4b82282b-fdac-4ca4-914c-0405efa82dfd",
   "metadata": {},
   "outputs": [
    {
     "name": "stdout",
     "output_type": "stream",
     "text": [
      "My First Python Function!\n"
     ]
    }
   ],
   "source": [
    "# calling a function - call it by the name\n",
    "func()"
   ]
  },
  {
   "cell_type": "code",
   "execution_count": 65,
   "id": "49c81903-7af7-4699-8814-ab27d728dc9f",
   "metadata": {},
   "outputs": [
    {
     "name": "stdout",
     "output_type": "stream",
     "text": [
      "John Pitt\n",
      "Brad Pitt\n",
      "Lily Pitt\n"
     ]
    }
   ],
   "source": [
    "# Information can be passed into functions as arguments\n",
    "def name(fname):\n",
    "    print(fname + \" Pitt\")\n",
    "\n",
    "name(\"John\")\n",
    "name(\"Brad\")\n",
    "name(\"Lily\")"
   ]
  },
  {
   "cell_type": "code",
   "execution_count": 67,
   "id": "6f6f0ca5-def6-45ee-9c03-861d5df812f7",
   "metadata": {},
   "outputs": [
    {
     "name": "stdout",
     "output_type": "stream",
     "text": [
      "John Pitt\n"
     ]
    }
   ],
   "source": [
    "# function can have any number of arguments\n",
    "def name(fname, lname):\n",
    "    print(fname + \" \" + lname)\n",
    "\n",
    "name(\"John\", \"Pitt\")"
   ]
  },
  {
   "cell_type": "code",
   "execution_count": 69,
   "id": "0e1b39e7-c31d-4664-a6d5-cd1a0b1e8b20",
   "metadata": {},
   "outputs": [
    {
     "ename": "TypeError",
     "evalue": "name() missing 1 required positional argument: 'lname'",
     "output_type": "error",
     "traceback": [
      "\u001b[1;31m---------------------------------------------------------------------------\u001b[0m",
      "\u001b[1;31mTypeError\u001b[0m                                 Traceback (most recent call last)",
      "Cell \u001b[1;32mIn[69], line 2\u001b[0m\n\u001b[0;32m      1\u001b[0m \u001b[38;5;66;03m# if the number of arguments are less or more, it results in an error\u001b[39;00m\n\u001b[1;32m----> 2\u001b[0m name(\u001b[38;5;124m\"\u001b[39m\u001b[38;5;124mLily\u001b[39m\u001b[38;5;124m\"\u001b[39m)\n",
      "\u001b[1;31mTypeError\u001b[0m: name() missing 1 required positional argument: 'lname'"
     ]
    }
   ],
   "source": [
    "# if the number of arguments are less or more, it results in an error\n",
    "name(\"Lily\") # less args than expected"
   ]
  },
  {
   "cell_type": "code",
   "execution_count": null,
   "id": "a18168dc-4c59-4507-8e78-36ba41de83a2",
   "metadata": {},
   "outputs": [],
   "source": [
    "name(\"Brad\", \"Liam\", \"Pitt\") # more args than expected"
   ]
  },
  {
   "cell_type": "code",
   "execution_count": null,
   "id": "dd2b4f3a-4c58-4c25-8a6d-8881527e5aea",
   "metadata": {},
   "outputs": [],
   "source": [
    "# \"*\" is used to define a tuple of arguments in any number\n",
    "def func(*kids):\n",
    "    print(\"The youngest kid is \" + kids[-1])\n",
    "\n",
    "func(\"Lily\", \"Lisa\", \"Yogi\", \"Eeshu\")"
   ]
  },
  {
   "cell_type": "code",
   "execution_count": null,
   "id": "ee952b83-4214-411b-bfdc-afa43a8608ea",
   "metadata": {},
   "outputs": [],
   "source": [
    "# arguments can also be sent in key = value format\n",
    "def func(kid1, kid2, kid3):\n",
    "    print(\"The youngest child is \" + kid3)\n",
    "\n",
    "func(kid1 = \"Lisa\", kid2 = \"Yogi\", kid3 = \"Eeshu\")"
   ]
  },
  {
   "cell_type": "code",
   "execution_count": 74,
   "id": "c3b608f6-e873-41c4-8f48-d8c8f7f7b51f",
   "metadata": {},
   "outputs": [
    {
     "data": {
      "text/plain": [
       "'\\nArguments are often shortened to args in Python documentations.\\nArbitrary Arguments are often shortened to *args in Python documentations.\\nThe phrase Keyword Arguments are often shortened to kwargs in Python documentations.\\nArbitrary Kword Arguments are often shortened to **kwargs in Python documentations.\\n'"
      ]
     },
     "execution_count": 74,
     "metadata": {},
     "output_type": "execute_result"
    }
   ],
   "source": [
    "\"\"\"\n",
    "Arguments are often shortened to args in Python documentations.\n",
    "Arbitrary Arguments are often shortened to *args in Python documentations.\n",
    "The phrase Keyword Arguments are often shortened to kwargs in Python documentations.\n",
    "Arbitrary Kword Arguments are often shortened to **kwargs in Python documentations.\n",
    "\"\"\""
   ]
  },
  {
   "cell_type": "code",
   "execution_count": 76,
   "id": "c522f7d4-3943-42b8-9e74-7fd28bdf4092",
   "metadata": {},
   "outputs": [
    {
     "name": "stdout",
     "output_type": "stream",
     "text": [
      "His last name is Pitt\n"
     ]
    }
   ],
   "source": [
    "# If the number of keyword arguments is unknown, add a double ** before the parameter name\n",
    "def func(**kid):\n",
    "    print(\"His last name is \" + kid[\"lname\"])\n",
    "\n",
    "func(fname = \"Lily\", lname = \"Pitt\")"
   ]
  },
  {
   "cell_type": "code",
   "execution_count": 78,
   "id": "92b77b62-f3ca-4075-b213-7d6e607e41d3",
   "metadata": {},
   "outputs": [
    {
     "name": "stdout",
     "output_type": "stream",
     "text": [
      "I am from India\n",
      "I am from London\n",
      "I am from Norway\n"
     ]
    }
   ],
   "source": [
    "# default parameter value\n",
    "def my_country(country = \"Norway\"):\n",
    "    print(\"I am from \" + country)\n",
    "\n",
    "my_country(\"India\")\n",
    "my_country(\"London\")\n",
    "my_country() # this call without argument takes the input from the default value in the function definition"
   ]
  },
  {
   "cell_type": "code",
   "execution_count": 80,
   "id": "6b80fd0c-3fe8-4673-a694-75795db69ae6",
   "metadata": {},
   "outputs": [
    {
     "name": "stdout",
     "output_type": "stream",
     "text": [
      "rice\n",
      "veggies\n",
      "meat\n",
      "fruits\n",
      "drink\n"
     ]
    }
   ],
   "source": [
    "# passing a list as an argument\n",
    "def func(food):\n",
    "    for x in food:\n",
    "        print(x)\n",
    "\n",
    "lunch = [\"rice\", \"veggies\", \"meat\", \"fruits\", \"drink\"]\n",
    "\n",
    "func(lunch)"
   ]
  },
  {
   "cell_type": "code",
   "execution_count": 82,
   "id": "477ce671-31c3-498c-b41d-7e502470d23f",
   "metadata": {},
   "outputs": [
    {
     "name": "stdout",
     "output_type": "stream",
     "text": [
      "15\n",
      "45\n",
      "0\n"
     ]
    }
   ],
   "source": [
    "# to let a function return the value, return() is used\n",
    "def func(x):\n",
    "    return 5 * x\n",
    "\n",
    "print(func(3))\n",
    "print(func(9))\n",
    "print(func(0))"
   ]
  },
  {
   "cell_type": "code",
   "execution_count": 84,
   "id": "a5263f66-8789-443e-a83c-f43000bf0b5d",
   "metadata": {},
   "outputs": [],
   "source": [
    "# pass does the job as already seen\n",
    "def func():\n",
    "    pass\n",
    "\n",
    "func()"
   ]
  },
  {
   "cell_type": "code",
   "execution_count": 86,
   "id": "c9dd406e-4988-4dde-b17b-5588a5a59dd3",
   "metadata": {},
   "outputs": [
    {
     "name": "stdout",
     "output_type": "stream",
     "text": [
      "3\n"
     ]
    }
   ],
   "source": [
    "# positional-only arguments\n",
    "# To specify that a function can have only positional arguments, add , / after the arguments\n",
    "# Without the , / keyword arguments are allowed even if the function expects positional arguments\n",
    "\n",
    "def func(x, /):\n",
    "    print(x)\n",
    "\n",
    "func(3)"
   ]
  },
  {
   "cell_type": "code",
   "execution_count": 88,
   "id": "755798a4-2d78-45e5-af77-8f9bc44dc9b1",
   "metadata": {},
   "outputs": [
    {
     "ename": "TypeError",
     "evalue": "func() got some positional-only arguments passed as keyword arguments: 'x'",
     "output_type": "error",
     "traceback": [
      "\u001b[1;31m---------------------------------------------------------------------------\u001b[0m",
      "\u001b[1;31mTypeError\u001b[0m                                 Traceback (most recent call last)",
      "Cell \u001b[1;32mIn[88], line 4\u001b[0m\n\u001b[0;32m      1\u001b[0m \u001b[38;5;28;01mdef\u001b[39;00m \u001b[38;5;21mfunc\u001b[39m(x, \u001b[38;5;241m/\u001b[39m):\n\u001b[0;32m      2\u001b[0m     \u001b[38;5;28mprint\u001b[39m(x)\n\u001b[1;32m----> 4\u001b[0m func(x \u001b[38;5;241m=\u001b[39m \u001b[38;5;241m3\u001b[39m)\n",
      "\u001b[1;31mTypeError\u001b[0m: func() got some positional-only arguments passed as keyword arguments: 'x'"
     ]
    }
   ],
   "source": [
    "def func(x, /):\n",
    "    print(x)\n",
    "\n",
    "func(x = 3) # this gives an error as the function contain positional-only argument"
   ]
  },
  {
   "cell_type": "code",
   "execution_count": 90,
   "id": "9ae80e3c-dcf2-4825-83c0-6cc0952bd938",
   "metadata": {},
   "outputs": [
    {
     "name": "stdout",
     "output_type": "stream",
     "text": [
      "3\n"
     ]
    }
   ],
   "source": [
    "def func(x):\n",
    "    print(x)\n",
    "\n",
    "func(x = 3) # this still prints the result"
   ]
  },
  {
   "cell_type": "code",
   "execution_count": 92,
   "id": "b72fe364-2ba3-4eca-9fee-2b74b3c9fa6e",
   "metadata": {},
   "outputs": [
    {
     "name": "stdout",
     "output_type": "stream",
     "text": [
      "3\n"
     ]
    }
   ],
   "source": [
    "# similarly \"*,\" is used for keyword-only arguments\n",
    "def func(*, x):\n",
    "    print(x)\n",
    "\n",
    "func(x = 3)"
   ]
  },
  {
   "cell_type": "code",
   "execution_count": 94,
   "id": "ed524cd5-02e2-4ac7-9259-7188bd217ead",
   "metadata": {},
   "outputs": [
    {
     "ename": "TypeError",
     "evalue": "func() takes 0 positional arguments but 1 was given",
     "output_type": "error",
     "traceback": [
      "\u001b[1;31m---------------------------------------------------------------------------\u001b[0m",
      "\u001b[1;31mTypeError\u001b[0m                                 Traceback (most recent call last)",
      "Cell \u001b[1;32mIn[94], line 4\u001b[0m\n\u001b[0;32m      1\u001b[0m \u001b[38;5;28;01mdef\u001b[39;00m \u001b[38;5;21mfunc\u001b[39m(\u001b[38;5;241m*\u001b[39m, x):\n\u001b[0;32m      2\u001b[0m     \u001b[38;5;28mprint\u001b[39m(x)\n\u001b[1;32m----> 4\u001b[0m func(\u001b[38;5;241m3\u001b[39m)\n",
      "\u001b[1;31mTypeError\u001b[0m: func() takes 0 positional arguments but 1 was given"
     ]
    }
   ],
   "source": [
    "def func(*, x):\n",
    "    print(x)\n",
    "\n",
    "func(3) # this results in an error"
   ]
  },
  {
   "cell_type": "code",
   "execution_count": 96,
   "id": "43bfa601-2eab-45c7-909c-fc362be091ed",
   "metadata": {},
   "outputs": [
    {
     "name": "stdout",
     "output_type": "stream",
     "text": [
      "26\n"
     ]
    }
   ],
   "source": [
    "# combined positional-only and keyword-only arguments\n",
    "# Any argument before the / , are positional-only, and any argument after the *, are keyword-only\n",
    "def my_function(a, b, /, *, c, d):\n",
    "  print(a + b + c + d)\n",
    "\n",
    "my_function(5, 6, c = 7, d = 8)"
   ]
  },
  {
   "cell_type": "code",
   "execution_count": 98,
   "id": "d08ebcff-22e0-4617-9966-81cc611f12ff",
   "metadata": {},
   "outputs": [
    {
     "name": "stdout",
     "output_type": "stream",
     "text": [
      "Recursion Example Results:\n",
      "1\n",
      "3\n",
      "6\n",
      "10\n",
      "15\n",
      "21\n"
     ]
    },
    {
     "data": {
      "text/plain": [
       "21"
      ]
     },
     "execution_count": 98,
     "metadata": {},
     "output_type": "execute_result"
    }
   ],
   "source": [
    "# recursion - It means that a function calls itself\n",
    "def tri_recursion(k):\n",
    "  if(k > 0):\n",
    "    result = k + tri_recursion(k - 1)\n",
    "    print(result)\n",
    "  else:\n",
    "    result = 0\n",
    "  return result\n",
    "\n",
    "print(\"Recursion Example Results:\")\n",
    "tri_recursion(6)"
   ]
  },
  {
   "cell_type": "code",
   "execution_count": 100,
   "id": "5d9d7f37-81fb-4966-a8d6-3f82fc2d20f2",
   "metadata": {},
   "outputs": [
    {
     "name": "stdout",
     "output_type": "stream",
     "text": [
      "15\n"
     ]
    }
   ],
   "source": [
    "# Lambda function\n",
    "# A lambda function is a small anonymous function.\n",
    "# A lambda function can take any number of arguments, but can only have one expression.\n",
    "x = lambda a : a + 10\n",
    "print(x(5))"
   ]
  },
  {
   "cell_type": "code",
   "execution_count": 102,
   "id": "3d9f7efc-96b1-42d0-b57e-7bb63f9dabc6",
   "metadata": {},
   "outputs": [
    {
     "name": "stdout",
     "output_type": "stream",
     "text": [
      "30\n"
     ]
    }
   ],
   "source": [
    "x = lambda a, b : a * b\n",
    "print(x(5, 6))"
   ]
  },
  {
   "cell_type": "code",
   "execution_count": 104,
   "id": "08189cc8-b523-4204-8751-6e29b0560200",
   "metadata": {},
   "outputs": [
    {
     "name": "stdout",
     "output_type": "stream",
     "text": [
      "9\n"
     ]
    }
   ],
   "source": [
    "x = lambda a, b, c : a + b + c\n",
    "print(x(2, 3, 4))"
   ]
  },
  {
   "cell_type": "code",
   "execution_count": 106,
   "id": "413e70fa-7438-4eeb-b91a-bfc7a9eb441c",
   "metadata": {},
   "outputs": [
    {
     "name": "stdout",
     "output_type": "stream",
     "text": [
      "22\n"
     ]
    }
   ],
   "source": [
    "# power of lambda function is shown when it is used as an anonymus function within another function\n",
    "def myfunc(n):\n",
    "  return lambda a : a * n\n",
    "\n",
    "mydoubler = myfunc(2)\n",
    "\n",
    "print(mydoubler(11))"
   ]
  },
  {
   "cell_type": "code",
   "execution_count": 108,
   "id": "c4e277e6-dd94-429b-a656-bad8d78f1e15",
   "metadata": {},
   "outputs": [
    {
     "name": "stdout",
     "output_type": "stream",
     "text": [
      "22\n",
      "33\n"
     ]
    }
   ],
   "source": [
    "def myfunc(n):\n",
    "  return lambda a : a * n\n",
    "\n",
    "mydoubler = myfunc(2)\n",
    "mytripler = myfunc(3)\n",
    "\n",
    "print(mydoubler(11))\n",
    "print(mytripler(11))"
   ]
  },
  {
   "cell_type": "markdown",
   "id": "0154e39b-b3df-4e2f-b482-ec7caa83857d",
   "metadata": {},
   "source": [
    "# 6. Arrays"
   ]
  },
  {
   "cell_type": "code",
   "execution_count": 110,
   "id": "1fcc6ae4-a7d8-48e2-a7ba-09d2ee1b0416",
   "metadata": {},
   "outputs": [],
   "source": [
    "# Python does not have built-in support for Arrays, but Python Lists can be used instead\n",
    "# - So, this is repition of lists exercises\n",
    "# to actually work with arrays in Python, import a library NumPy library\n",
    "# Instead of storing each value in each element, createan array\n",
    "# car1 = \"Ford\", car2 = \"Volvo\", car3 = \"BMW\" instead of this\n",
    "cars = [\"Ford\", \"Volvo\", \"BMW\"]"
   ]
  },
  {
   "cell_type": "code",
   "execution_count": 112,
   "id": "e6d9edbb-8e36-41ce-9052-7f579f816aca",
   "metadata": {},
   "outputs": [
    {
     "data": {
      "text/plain": [
       "'Volvo'"
      ]
     },
     "execution_count": 112,
     "metadata": {},
     "output_type": "execute_result"
    }
   ],
   "source": [
    "# access the elements of an array using index\n",
    "cars[1]"
   ]
  },
  {
   "cell_type": "code",
   "execution_count": 113,
   "id": "c2d7e166-b783-4eff-83da-6469152198b3",
   "metadata": {},
   "outputs": [
    {
     "data": {
      "text/plain": [
       "['Toyota', 'Volvo', 'BMW']"
      ]
     },
     "execution_count": 113,
     "metadata": {},
     "output_type": "execute_result"
    }
   ],
   "source": [
    "# modify the elements of an array by assigning values\n",
    "cars[0] = \"Toyota\"\n",
    "cars"
   ]
  },
  {
   "cell_type": "code",
   "execution_count": 114,
   "id": "13314f9a-2ce8-4625-b51e-194b3e29631d",
   "metadata": {},
   "outputs": [
    {
     "data": {
      "text/plain": [
       "3"
      ]
     },
     "execution_count": 114,
     "metadata": {},
     "output_type": "execute_result"
    }
   ],
   "source": [
    "# length of an array\n",
    "len(cars)"
   ]
  },
  {
   "cell_type": "code",
   "execution_count": 115,
   "id": "98e416f0-0de7-4c91-8026-1529f881472e",
   "metadata": {},
   "outputs": [
    {
     "name": "stdout",
     "output_type": "stream",
     "text": [
      "Toyota\n",
      "Volvo\n",
      "BMW\n"
     ]
    }
   ],
   "source": [
    "# looping through an array\n",
    "for i in cars:\n",
    "    print(i)"
   ]
  },
  {
   "cell_type": "code",
   "execution_count": 116,
   "id": "463281fc-34b3-4ac0-a8ed-1b5b26ac20bf",
   "metadata": {},
   "outputs": [
    {
     "data": {
      "text/plain": [
       "['Toyota', 'Volvo', 'BMW', 'Honda']"
      ]
     },
     "execution_count": 116,
     "metadata": {},
     "output_type": "execute_result"
    }
   ],
   "source": [
    "# adding elements to array\n",
    "cars.append(\"Honda\")\n",
    "cars"
   ]
  },
  {
   "cell_type": "code",
   "execution_count": 117,
   "id": "b79ec3d7-cd0c-4737-9ed3-c0c0cc9b0a0d",
   "metadata": {},
   "outputs": [
    {
     "data": {
      "text/plain": [
       "['Toyota', 'BMW', 'Honda']"
      ]
     },
     "execution_count": 117,
     "metadata": {},
     "output_type": "execute_result"
    }
   ],
   "source": [
    "# removing an element from the array\n",
    "cars.pop(1) # pops the element in the position # 1\n",
    "cars"
   ]
  },
  {
   "cell_type": "code",
   "execution_count": 118,
   "id": "a80b879a-3d89-4593-9ef0-264580e576d0",
   "metadata": {},
   "outputs": [
    {
     "data": {
      "text/plain": [
       "['Toyota', 'Honda']"
      ]
     },
     "execution_count": 118,
     "metadata": {},
     "output_type": "execute_result"
    }
   ],
   "source": [
    "cars.remove(\"BMW\")\n",
    "cars"
   ]
  },
  {
   "cell_type": "code",
   "execution_count": 119,
   "id": "1e28c6ab-491f-418c-9dde-a7f9f5fdb527",
   "metadata": {},
   "outputs": [
    {
     "data": {
      "text/plain": [
       "[]"
      ]
     },
     "execution_count": 119,
     "metadata": {},
     "output_type": "execute_result"
    }
   ],
   "source": [
    "# clear removes all the elements of the array and retains an empty array\n",
    "fruits = [\"apple\", \"banana\", \"cherry\", \"kiwi\"]\n",
    "fruits.clear()\n",
    "fruits"
   ]
  },
  {
   "cell_type": "code",
   "execution_count": 120,
   "id": "19433027-e657-4e38-b661-b17be066ec82",
   "metadata": {},
   "outputs": [
    {
     "data": {
      "text/plain": [
       "['apple', 'banana', 'cherry', 'kiwi']"
      ]
     },
     "execution_count": 120,
     "metadata": {},
     "output_type": "execute_result"
    }
   ],
   "source": [
    "fruits = [\"apple\", \"banana\", \"cherry\", \"kiwi\"]\n",
    "diet = fruits.copy()\n",
    "diet"
   ]
  },
  {
   "cell_type": "code",
   "execution_count": 121,
   "id": "8d986247-7007-4b70-b972-3b6d5b801a68",
   "metadata": {},
   "outputs": [
    {
     "name": "stdout",
     "output_type": "stream",
     "text": [
      "2\n"
     ]
    }
   ],
   "source": [
    "fruits = [\"apple\", \"banana\", \"cherry\", \"kiwi\", \"banana\"]\n",
    "print(fruits.count(\"banana\")) # to count the number of times a specific item appeared"
   ]
  },
  {
   "cell_type": "code",
   "execution_count": 122,
   "id": "e8c68d3a-878f-49c5-a6d6-f4b0a08a4aad",
   "metadata": {},
   "outputs": [
    {
     "name": "stdout",
     "output_type": "stream",
     "text": [
      "['BMW', 'Toyota', 'Ford', 'Volvo']\n"
     ]
    }
   ],
   "source": [
    "cars1 = [\"BMW\", \"Toyota\"]\n",
    "cars2 = [\"Ford\", \"Volvo\"]\n",
    "cars1.extend(cars2) # this extends the first list to include the second one as well\n",
    "print(cars1)"
   ]
  },
  {
   "cell_type": "code",
   "execution_count": 123,
   "id": "2364518a-4446-40e9-a9d6-c71fb3f57917",
   "metadata": {},
   "outputs": [
    {
     "data": {
      "text/plain": [
       "['apple', 'orange', 'banana', 'cherry']"
      ]
     },
     "execution_count": 123,
     "metadata": {},
     "output_type": "execute_result"
    }
   ],
   "source": [
    "fruits = ['apple', 'banana', 'cherry']\n",
    "fruits.insert(1, \"orange\") # to insert specified items at the specified location\n",
    "fruits"
   ]
  },
  {
   "cell_type": "code",
   "execution_count": 137,
   "id": "aeb30498-6848-4751-b885-8e828aa5657f",
   "metadata": {},
   "outputs": [
    {
     "data": {
      "text/plain": [
       "['cherry', 'banana', 'apple']"
      ]
     },
     "execution_count": 137,
     "metadata": {},
     "output_type": "execute_result"
    }
   ],
   "source": [
    "fruits = ['apple', 'banana', 'cherry']\n",
    "fruits.reverse() # reverses the order of items in the array\n",
    "fruits"
   ]
  },
  {
   "cell_type": "code",
   "execution_count": 139,
   "id": "d5c5bae3-b142-4091-b1c9-a4722f171fea",
   "metadata": {},
   "outputs": [
    {
     "data": {
      "text/plain": [
       "['apple', 'banana', 'cherry']"
      ]
     },
     "execution_count": 139,
     "metadata": {},
     "output_type": "execute_result"
    }
   ],
   "source": [
    "fruits = ['apple', 'banana', 'cherry']\n",
    "fruits.sort() # sorts alphanumerically in ascending order\n",
    "fruits"
   ]
  },
  {
   "cell_type": "code",
   "execution_count": 140,
   "id": "8e574fe2-e89b-4796-9b72-8290b1e59b01",
   "metadata": {},
   "outputs": [
    {
     "data": {
      "text/plain": [
       "['cherry', 'banana', 'apple']"
      ]
     },
     "execution_count": 140,
     "metadata": {},
     "output_type": "execute_result"
    }
   ],
   "source": [
    "fruits = ['apple', 'banana', 'cherry']\n",
    "fruits.sort(reverse = True) # sorts alphanumerically in descending order\n",
    "fruits"
   ]
  },
  {
   "cell_type": "markdown",
   "id": "fac5d9e3-b1a6-439b-b21b-8b351e4d01c6",
   "metadata": {},
   "source": [
    "# 7. Classes/Objects"
   ]
  },
  {
   "cell_type": "code",
   "execution_count": 142,
   "id": "76fa335b-f66f-4938-9aa0-48216b2b9a76",
   "metadata": {},
   "outputs": [
    {
     "name": "stdout",
     "output_type": "stream",
     "text": [
      "<class '__main__.myclass'>\n"
     ]
    }
   ],
   "source": [
    "# A Class is like an object constructor, or a \"blueprint\" for creating objects\n",
    "class myclass:\n",
    "    x = 5\n",
    "\n",
    "print(myclass)"
   ]
  },
  {
   "cell_type": "code",
   "execution_count": 143,
   "id": "96a5fe9e-aa99-4613-aa2c-87fbba77f95e",
   "metadata": {},
   "outputs": [
    {
     "name": "stdout",
     "output_type": "stream",
     "text": [
      "John\n",
      "25\n"
     ]
    }
   ],
   "source": [
    "# all classes have __init__() function.\n",
    "# Use the __init__() function to assign values to object properties, or other operations that are necessary to do when the object is being created\n",
    "class person:\n",
    "    def __init__(self, name, age):\n",
    "        self.name = name\n",
    "        self.age = age\n",
    "\n",
    "p1 = person(\"John\", 25)\n",
    "\n",
    "print(p1.name)\n",
    "print(p1.age)"
   ]
  },
  {
   "cell_type": "code",
   "execution_count": 144,
   "id": "d094f930-5f2b-4e58-b057-f3dbbdd46031",
   "metadata": {},
   "outputs": [
    {
     "name": "stdout",
     "output_type": "stream",
     "text": [
      "Hello my name is John\n"
     ]
    }
   ],
   "source": [
    "# The __init__() function is called automatically every time the class is being used to create a new object\n",
    "class Person:\n",
    "  def __init__(self, name, age):\n",
    "    self.name = name\n",
    "    self.age = age\n",
    "\n",
    "  def myfunc(self):\n",
    "    print(\"Hello my name is \" + self.name)\n",
    "\n",
    "p1 = Person(\"John\", 36)\n",
    "p1.myfunc()"
   ]
  },
  {
   "cell_type": "code",
   "execution_count": 145,
   "id": "e48a8a04-367f-4247-b54a-d1b9a403ec41",
   "metadata": {},
   "outputs": [
    {
     "name": "stdout",
     "output_type": "stream",
     "text": [
      "Hello my name is John and I am 36\n"
     ]
    }
   ],
   "source": [
    "# self parameter\n",
    "class Person:\n",
    "  def __init__(mysillyobject, name, age):\n",
    "    mysillyobject.name = name\n",
    "    mysillyobject.age = age\n",
    "\n",
    "  def myfunc(abc):\n",
    "    print(f\"Hello my name is {abc.name} and I am {abc.age}\")\n",
    "\n",
    "p1 = Person(\"John\", 36)\n",
    "p1.myfunc()"
   ]
  },
  {
   "cell_type": "code",
   "execution_count": 146,
   "id": "acc937ba-32e9-4a6e-80a3-ffc9ab01a3d5",
   "metadata": {},
   "outputs": [
    {
     "name": "stdout",
     "output_type": "stream",
     "text": [
      "Hello my name is John and I am 40\n"
     ]
    }
   ],
   "source": [
    "# modify object properties\n",
    "p1.age = 40\n",
    "p1.myfunc()"
   ]
  },
  {
   "cell_type": "code",
   "execution_count": 147,
   "id": "8f85c9f6-b7bb-4529-a9f7-4202e002af8d",
   "metadata": {},
   "outputs": [],
   "source": [
    "# delete object properties\n",
    "del p1.age"
   ]
  },
  {
   "cell_type": "code",
   "execution_count": 148,
   "id": "9242be81-5d71-410e-a7d7-fe290c961807",
   "metadata": {},
   "outputs": [],
   "source": [
    "# the usual pass statement\n",
    "class Person:\n",
    "    pass"
   ]
  },
  {
   "cell_type": "markdown",
   "id": "01935471-8890-4427-9fe1-358f8336df5b",
   "metadata": {},
   "source": [
    "# 8. Inheritance"
   ]
  },
  {
   "cell_type": "code",
   "execution_count": 152,
   "id": "444e91c3-2055-4506-a3ff-8a17a4fcae01",
   "metadata": {},
   "outputs": [
    {
     "name": "stdout",
     "output_type": "stream",
     "text": [
      "John Doe\n"
     ]
    }
   ],
   "source": [
    "# create a parent class\n",
    "class Person:\n",
    "  def __init__(self, fname, lname):\n",
    "    self.firstname = fname\n",
    "    self.lastname = lname\n",
    "\n",
    "  def printname(self):\n",
    "    print(self.firstname, self.lastname)\n",
    "\n",
    "#Use the Person class to create an object, and then execute the printname method:\n",
    "\n",
    "x = Person(\"John\", \"Doe\")\n",
    "x.printname()"
   ]
  },
  {
   "cell_type": "code",
   "execution_count": 153,
   "id": "92a7a06c-ec9f-4e51-87ec-e6aa44caa822",
   "metadata": {},
   "outputs": [],
   "source": [
    "# then create a child class\n",
    "class Student(Person):\n",
    "  pass"
   ]
  },
  {
   "cell_type": "code",
   "execution_count": 154,
   "id": "b22f96bc-edd6-430e-89d0-6a54f247c29c",
   "metadata": {},
   "outputs": [
    {
     "name": "stdout",
     "output_type": "stream",
     "text": [
      "Mike Olsen\n"
     ]
    }
   ],
   "source": [
    "x = Student(\"Mike\", \"Olsen\") # this class inherits the properties of the parent class\n",
    "x.printname()"
   ]
  },
  {
   "cell_type": "code",
   "execution_count": 155,
   "id": "43fab1cb-244a-4e1e-8410-61531ef42501",
   "metadata": {},
   "outputs": [
    {
     "name": "stdout",
     "output_type": "stream",
     "text": [
      "Mike Olsen\n"
     ]
    }
   ],
   "source": [
    "class Person:\n",
    "  def __init__(self, fname, lname):\n",
    "    self.firstname = fname\n",
    "    self.lastname = lname\n",
    "\n",
    "  def printname(self):\n",
    "    print(self.firstname, self.lastname)\n",
    "\n",
    "class Student(Person):\n",
    "  def __init__(self, fname, lname):\n",
    "    Person.__init__(self, fname, lname)\n",
    "\n",
    "x = Student(\"Mike\", \"Olsen\")\n",
    "x.printname()"
   ]
  },
  {
   "cell_type": "code",
   "execution_count": 156,
   "id": "a2ae30b2-ea03-48bd-b4fa-a1d0056441a2",
   "metadata": {},
   "outputs": [
    {
     "name": "stdout",
     "output_type": "stream",
     "text": [
      "2019\n"
     ]
    }
   ],
   "source": [
    "# super() is a function that will make the child class inherit all the methods and properties from its parent\n",
    "class Person:\n",
    "  def __init__(self, fname, lname):\n",
    "    self.firstname = fname\n",
    "    self.lastname = lname\n",
    "\n",
    "  def printname(self):\n",
    "    print(self.firstname, self.lastname)\n",
    "\n",
    "class Student(Person):\n",
    "  def __init__(self, fname, lname):\n",
    "    super().__init__(fname, lname)\n",
    "    self.graduationyear = 2019\n",
    "\n",
    "x = Student(\"Mike\", \"Olsen\")\n",
    "print(x.graduationyear)"
   ]
  },
  {
   "cell_type": "code",
   "execution_count": 157,
   "id": "3807f31d-3c27-42f2-a168-18cc73cc5131",
   "metadata": {},
   "outputs": [
    {
     "name": "stdout",
     "output_type": "stream",
     "text": [
      "Mike\n"
     ]
    }
   ],
   "source": [
    "class Student(Person):\n",
    "  def __init__(self, fname, lname, year):\n",
    "    super().__init__(fname, lname)\n",
    "    self.graduationyear = year\n",
    "\n",
    "x = Student(\"Mike\", \"Olsen\", 2019)\n",
    "print(x.firstname)"
   ]
  },
  {
   "cell_type": "code",
   "execution_count": 158,
   "id": "b7ddc042-707d-487c-b616-2fab9f37fa7e",
   "metadata": {},
   "outputs": [
    {
     "name": "stdout",
     "output_type": "stream",
     "text": [
      "Welcome Mike Olsen to the class of 2024\n"
     ]
    }
   ],
   "source": [
    "class Person:\n",
    "  def __init__(self, fname, lname):\n",
    "    self.firstname = fname\n",
    "    self.lastname = lname\n",
    "\n",
    "  def printname(self):\n",
    "    print(self.firstname, self.lastname)\n",
    "\n",
    "class Student(Person):\n",
    "  def __init__(self, fname, lname, year):\n",
    "    super().__init__(fname, lname)\n",
    "    self.graduationyear = year\n",
    "\n",
    "  def welcome(self):\n",
    "    print(\"Welcome\", self.firstname, self.lastname, \"to the class of\", self.graduationyear)\n",
    "\n",
    "x = Student(\"Mike\", \"Olsen\", 2024)\n",
    "x.welcome()"
   ]
  },
  {
   "cell_type": "markdown",
   "id": "d5c1abe4-52ef-4165-91fd-eea0c229fe1b",
   "metadata": {},
   "source": [
    "# 9. Iterators"
   ]
  },
  {
   "cell_type": "code",
   "execution_count": 160,
   "id": "3c7b0c5d-8b4e-415e-ac3e-328ae35fdb2a",
   "metadata": {},
   "outputs": [
    {
     "name": "stdout",
     "output_type": "stream",
     "text": [
      "apple\n",
      "banana\n",
      "cherry\n"
     ]
    }
   ],
   "source": [
    "# Lists, tuples, dictionaries, and sets are all iterable objects. They are iterable containers which you can get an iterator from.\n",
    "# All these objects have a iter() method which is used to get an iterator\n",
    "fruits = (\"apple\", \"banana\", \"cherry\")\n",
    "ite_fruit = iter(fruits)\n",
    "print(next(ite_fruit))\n",
    "print(next(ite_fruit))\n",
    "print(next(ite_fruit))"
   ]
  },
  {
   "cell_type": "code",
   "execution_count": 161,
   "id": "9afb922d-1f38-4d1f-9b3a-0ac40b64eeb6",
   "metadata": {},
   "outputs": [
    {
     "name": "stdout",
     "output_type": "stream",
     "text": [
      "b\n",
      "a\n",
      "n\n",
      "a\n",
      "n\n",
      "a\n"
     ]
    }
   ],
   "source": [
    "# strings are also iterable\n",
    "fruit = \"banana\"\n",
    "ite_ban = iter(fruit)\n",
    "\n",
    "print(next(ite_ban))\n",
    "print(next(ite_ban))\n",
    "print(next(ite_ban))\n",
    "print(next(ite_ban))\n",
    "print(next(ite_ban))\n",
    "print(next(ite_ban))"
   ]
  },
  {
   "cell_type": "code",
   "execution_count": 162,
   "id": "0cede93c-69a8-49cd-ab61-cf3aa7bdc374",
   "metadata": {},
   "outputs": [
    {
     "name": "stdout",
     "output_type": "stream",
     "text": [
      "apple\n",
      "banana\n",
      "cherry\n"
     ]
    }
   ],
   "source": [
    "# iterable objects can be looped through for easy and practical way of usage\n",
    "# for() loop - The for loop actually creates an iterator object and executes the next() method for each loop\n",
    "fruits = [\"apple\", \"banana\", \"cherry\"]\n",
    "\n",
    "for i in fruits:\n",
    "    print(i)"
   ]
  },
  {
   "cell_type": "code",
   "execution_count": 163,
   "id": "2557acea-72dc-43b3-9a96-12b89e50d5a5",
   "metadata": {},
   "outputs": [
    {
     "name": "stdout",
     "output_type": "stream",
     "text": [
      "b\n",
      "a\n",
      "n\n",
      "a\n",
      "n\n",
      "a\n"
     ]
    }
   ],
   "source": [
    "fruit = \"banana\"\n",
    "\n",
    "for i in range(len(fruit)):\n",
    "    print(fruit[i])"
   ]
  },
  {
   "cell_type": "code",
   "execution_count": 164,
   "id": "01e0be73-2909-4b93-9798-68601a533e93",
   "metadata": {},
   "outputs": [
    {
     "data": {
      "text/plain": [
       "'\\nCreate an Iterator\\nTo create an object/class as an iterator you have to implement the methods __iter__() and __next__() to your object.\\nAs you have learned in the Python Classes/Objects chapter, all classes have a function called __init__(), which allows you to do some initializing when the object is being created.\\nThe __iter__() method acts similar, you can do operations (initializing etc.), but must always return the iterator object itself.\\nThe __next__() method also allows you to do operations, and must return the next item in the sequence.\\n'"
      ]
     },
     "execution_count": 164,
     "metadata": {},
     "output_type": "execute_result"
    }
   ],
   "source": [
    "\"\"\"\n",
    "Create an Iterator\n",
    "To create an object/class as an iterator you have to implement the methods __iter__() and __next__() to your object.\n",
    "As you have learned in the Python Classes/Objects chapter, all classes have a function called __init__(), which allows you to do some initializing when the object is being created.\n",
    "The __iter__() method acts similar, you can do operations (initializing etc.), but must always return the iterator object itself.\n",
    "The __next__() method also allows you to do operations, and must return the next item in the sequence.\n",
    "\"\"\""
   ]
  },
  {
   "cell_type": "code",
   "execution_count": 165,
   "id": "481ec1ac-a12e-4be3-8c35-bdc6c092c434",
   "metadata": {},
   "outputs": [
    {
     "name": "stdout",
     "output_type": "stream",
     "text": [
      "1\n",
      "2\n",
      "3\n",
      "4\n",
      "5\n"
     ]
    }
   ],
   "source": [
    "class MyNumbers:\n",
    "  def __iter__(self):\n",
    "    self.a = 1\n",
    "    return self\n",
    "\n",
    "  def __next__(self):\n",
    "    x = self.a\n",
    "    self.a += 1\n",
    "    return x\n",
    "\n",
    "myclass = MyNumbers()\n",
    "myiter = iter(myclass)\n",
    "\n",
    "print(next(myiter))\n",
    "print(next(myiter))\n",
    "print(next(myiter))\n",
    "print(next(myiter))\n",
    "print(next(myiter))"
   ]
  },
  {
   "cell_type": "code",
   "execution_count": 166,
   "id": "9efbb288-4ec2-4fe8-a16b-40c5efbe9302",
   "metadata": {},
   "outputs": [
    {
     "name": "stdout",
     "output_type": "stream",
     "text": [
      "1\n",
      "2\n",
      "3\n",
      "4\n",
      "5\n",
      "6\n",
      "7\n",
      "8\n",
      "9\n",
      "10\n",
      "11\n",
      "12\n",
      "13\n",
      "14\n",
      "15\n",
      "16\n",
      "17\n",
      "18\n",
      "19\n",
      "20\n"
     ]
    }
   ],
   "source": [
    "# to stop after 20 iterations\n",
    "class MyNumbers:\n",
    "  def __iter__(self):\n",
    "    self.a = 1\n",
    "    return self\n",
    "\n",
    "  def __next__(self):\n",
    "    if self.a <= 20:\n",
    "      x = self.a\n",
    "      self.a += 1\n",
    "      return x\n",
    "    else:\n",
    "      raise StopIteration\n",
    "\n",
    "myclass = MyNumbers()\n",
    "myiter = iter(myclass)\n",
    "\n",
    "for x in myiter:\n",
    "  print(x)"
   ]
  },
  {
   "cell_type": "markdown",
   "id": "edb49609-dd3f-48ab-9954-cf19c77747b9",
   "metadata": {},
   "source": [
    "# 10. Polymorphism"
   ]
  },
  {
   "cell_type": "code",
   "execution_count": 169,
   "id": "dd66f3d2-8a99-4f8a-946c-5515e016ffe7",
   "metadata": {},
   "outputs": [
    {
     "name": "stdout",
     "output_type": "stream",
     "text": [
      "6\n",
      "3\n",
      "5\n",
      "7\n",
      "2\n"
     ]
    }
   ],
   "source": [
    "# The word \"polymorphism\" means \"many forms\".\n",
    "# In programming it refers to methods/functions/operators with the same name that can be executed on many objects or classes\n",
    "# Example, len() is one such function which can be used on different objects\n",
    "strn = \"banana\" # a string\n",
    "tupl = (\"apple\", \"banana\", \"cherry\")\n",
    "list1 = [1, 2, 3, 4, 5]\n",
    "set1 = {True, False, \"John\", 20, \"Grad\", \"Houston\", \"TX\"}\n",
    "dict1 = {\"name\" : \"John\", \"age\" : 20}\n",
    "\n",
    "print(len(strn))\n",
    "print(len(tupl))\n",
    "print(len(list1))\n",
    "print(len(set1))\n",
    "print(len(dict1))"
   ]
  },
  {
   "cell_type": "code",
   "execution_count": 170,
   "id": "48418c3f-d235-49b4-a61b-9e4adca38b55",
   "metadata": {},
   "outputs": [
    {
     "name": "stdout",
     "output_type": "stream",
     "text": [
      "Drive!\n",
      "Sail!\n",
      "Fly!\n"
     ]
    }
   ],
   "source": [
    "# ploymorphism is often used in classes where same method is used for different classes\n",
    "class Car:\n",
    "  def __init__(self, brand, model):\n",
    "    self.brand = brand\n",
    "    self.model = model\n",
    "\n",
    "  def move(self):\n",
    "    print(\"Drive!\")\n",
    "\n",
    "class Boat:\n",
    "  def __init__(self, brand, model):\n",
    "    self.brand = brand\n",
    "    self.model = model\n",
    "\n",
    "  def move(self):\n",
    "    print(\"Sail!\")\n",
    "\n",
    "class Plane:\n",
    "  def __init__(self, brand, model):\n",
    "    self.brand = brand\n",
    "    self.model = model\n",
    "\n",
    "  def move(self):\n",
    "    print(\"Fly!\")\n",
    "\n",
    "car1 = Car(\"Ford\", \"Mustang\")       #Create a Car object\n",
    "boat1 = Boat(\"Ibiza\", \"Touring 20\") #Create a Boat object\n",
    "plane1 = Plane(\"Boeing\", \"747\")     #Create a Plane object\n",
    "\n",
    "for x in (car1, boat1, plane1):\n",
    "  x.move()"
   ]
  },
  {
   "cell_type": "markdown",
   "id": "a47d37a7-4d0d-41bc-a560-92c174bf412b",
   "metadata": {},
   "source": [
    "# 11. Scope"
   ]
  },
  {
   "cell_type": "code",
   "execution_count": 172,
   "id": "861b0364-b3e7-4028-b806-4cfcab08d646",
   "metadata": {},
   "outputs": [
    {
     "name": "stdout",
     "output_type": "stream",
     "text": [
      "30\n"
     ]
    }
   ],
   "source": [
    "# A variable created inside the function is called a local variable\n",
    "# This belongs to the local scope of the function and can only be used inside the function\n",
    "def func():\n",
    "    x = 30\n",
    "    print(x)\n",
    "\n",
    "func()"
   ]
  },
  {
   "cell_type": "code",
   "execution_count": 174,
   "id": "222ed261-4578-4837-a11c-8c290a1dd951",
   "metadata": {},
   "outputs": [
    {
     "name": "stdout",
     "output_type": "stream",
     "text": [
      "30\n"
     ]
    }
   ],
   "source": [
    "# local variable is available to use in the function that is defined within the function\n",
    "def func():\n",
    "    x = 30\n",
    "    def newfunc():\n",
    "        print(x)\n",
    "    newfunc()\n",
    "\n",
    "func()"
   ]
  },
  {
   "cell_type": "code",
   "execution_count": 176,
   "id": "b077bc9b-99c9-473a-806d-63a8861edbb9",
   "metadata": {},
   "outputs": [
    {
     "name": "stdout",
     "output_type": "stream",
     "text": [
      "30\n"
     ]
    }
   ],
   "source": [
    "# any variable defined in the main body of the program is called the global variable\n",
    "# and this is available to use within global or local scope\n",
    "x = 30\n",
    "\n",
    "def func():\n",
    "    print(x)\n",
    "\n",
    "func()"
   ]
  },
  {
   "cell_type": "code",
   "execution_count": 178,
   "id": "2c15748b-50b9-4780-95af-85a35b84c0b4",
   "metadata": {},
   "outputs": [
    {
     "name": "stdout",
     "output_type": "stream",
     "text": [
      "300\n",
      "200\n"
     ]
    }
   ],
   "source": [
    "# if the same variable name is defined outside and within a function, these are treated as separate variables\n",
    "x = 200\n",
    "def func():\n",
    "    x = 300\n",
    "    print(x)\n",
    "\n",
    "func()\n",
    "print(x)"
   ]
  },
  {
   "cell_type": "code",
   "execution_count": 179,
   "id": "7b29e6e8-441a-4429-b148-4ab3c89951b6",
   "metadata": {},
   "outputs": [
    {
     "name": "stdout",
     "output_type": "stream",
     "text": [
      "300\n"
     ]
    }
   ],
   "source": [
    "# a variable defined within a function can be a global variable by using a global keyword\n",
    "def func():\n",
    "    global x\n",
    "    x = 300\n",
    "\n",
    "func()\n",
    "print(x)"
   ]
  },
  {
   "cell_type": "code",
   "execution_count": 180,
   "id": "b9bade01-c860-455b-99c4-42b71b3a6f41",
   "metadata": {},
   "outputs": [
    {
     "name": "stdout",
     "output_type": "stream",
     "text": [
      "300\n"
     ]
    }
   ],
   "source": [
    "x = 200\n",
    "def func():\n",
    "    global x\n",
    "    x = 300\n",
    "\n",
    "func()\n",
    "print(x)"
   ]
  },
  {
   "cell_type": "code",
   "execution_count": 181,
   "id": "d34b7bd7-e311-4bf8-b7c5-0c261e7e71f1",
   "metadata": {},
   "outputs": [
    {
     "data": {
      "text/plain": [
       "'Hello'"
      ]
     },
     "execution_count": 181,
     "metadata": {},
     "output_type": "execute_result"
    }
   ],
   "source": [
    "# nonlocal variable is used inside nested functions to make the variable belong to outer function\n",
    "def func():\n",
    "    x = \"Jane\"\n",
    "    def greet():\n",
    "        nonlocal x\n",
    "        x = \"Hello\"\n",
    "    greet()\n",
    "    return x\n",
    "func()"
   ]
  },
  {
   "cell_type": "markdown",
   "id": "0974c42b-b68a-41e0-8b90-9f09222f86eb",
   "metadata": {},
   "source": [
    "# 12. Modules"
   ]
  },
  {
   "cell_type": "code",
   "execution_count": 185,
   "id": "e5925bf6-d416-43ff-bc2a-c65b8f945564",
   "metadata": {},
   "outputs": [
    {
     "name": "stdout",
     "output_type": "stream",
     "text": [
      "Hello  John\n"
     ]
    }
   ],
   "source": [
    "# A modile is a file containing a set of functions that are needed to be included in the application\n",
    "import mymodule # this module is created and saved as a .py file\n",
    "\n",
    "mymodule.greeting(\"John\")"
   ]
  },
  {
   "cell_type": "code",
   "execution_count": 187,
   "id": "fd25b55e-3d92-48c6-8394-8a1747bbf4ab",
   "metadata": {},
   "outputs": [
    {
     "name": "stdout",
     "output_type": "stream",
     "text": [
      "36\n"
     ]
    }
   ],
   "source": [
    "import person # this module is saved with some details\n",
    "\n",
    "x = person.person1[\"age\"]\n",
    "print(x)"
   ]
  },
  {
   "cell_type": "code",
   "execution_count": 188,
   "id": "89d833be-272a-4e6b-988f-b4697182ecf9",
   "metadata": {},
   "outputs": [
    {
     "name": "stdout",
     "output_type": "stream",
     "text": [
      "John\n"
     ]
    }
   ],
   "source": [
    "import person as pr # alias for the module\n",
    "\n",
    "x = pr.person1[\"name\"]\n",
    "print(x)"
   ]
  },
  {
   "cell_type": "code",
   "execution_count": 189,
   "id": "bc59d958-23a1-4f39-963d-33514de1d040",
   "metadata": {},
   "outputs": [
    {
     "name": "stdout",
     "output_type": "stream",
     "text": [
      "Windows\n",
      "['_Processor', '_WIN32_CLIENT_RELEASES', '_WIN32_SERVER_RELEASES', '__builtins__', '__cached__', '__copyright__', '__doc__', '__file__', '__loader__', '__name__', '__package__', '__spec__', '__version__', '_comparable_version', '_default_architecture', '_follow_symlinks', '_get_machine_win32', '_java_getprop', '_mac_ver_xml', '_node', '_norm_version', '_os_release_cache', '_os_release_candidates', '_parse_os_release', '_platform', '_platform_cache', '_sys_version', '_sys_version_cache', '_syscmd_file', '_syscmd_ver', '_uname_cache', '_unknown_as_blank', '_ver_stages', '_win32_ver', '_wmi', '_wmi_query', 'architecture', 'collections', 'freedesktop_os_release', 'functools', 'itertools', 'java_ver', 'libc_ver', 'mac_ver', 'machine', 'node', 'os', 'platform', 'processor', 'python_branch', 'python_build', 'python_compiler', 'python_implementation', 'python_revision', 'python_version', 'python_version_tuple', 're', 'release', 'sys', 'system', 'system_alias', 'uname', 'uname_result', 'version', 'win32_edition', 'win32_is_iot', 'win32_ver']\n"
     ]
    }
   ],
   "source": [
    "# there are several in-built modules in python\n",
    "import platform\n",
    "\n",
    "x = platform.system()\n",
    "y = dir(platform)\n",
    "print(x)\n",
    "print(y)"
   ]
  },
  {
   "cell_type": "code",
   "execution_count": 190,
   "id": "45fc7b02-9364-47e4-a198-1c291a4aecce",
   "metadata": {},
   "outputs": [
    {
     "name": "stdout",
     "output_type": "stream",
     "text": [
      "36\n"
     ]
    }
   ],
   "source": [
    "from test import person1 # from a module only the necessary parts can be imported\n",
    "\n",
    "print(person1[\"age\"]) # when imported only the necessary part, it is not necessary to use test.person1"
   ]
  },
  {
   "cell_type": "code",
   "execution_count": 191,
   "id": "2827fdfe-f26c-4698-9339-2d4f552a1f5a",
   "metadata": {},
   "outputs": [
    {
     "name": "stdout",
     "output_type": "stream",
     "text": [
      "['__builtins__', '__cached__', '__doc__', '__file__', '__loader__', '__name__', '__package__', '__spec__', 'greeting', 'person1']\n"
     ]
    }
   ],
   "source": [
    "import test\n",
    "print(dir(test))"
   ]
  },
  {
   "cell_type": "markdown",
   "id": "1b8e15b3-65f5-4261-8fa0-d3a7be9accb6",
   "metadata": {},
   "source": [
    "# 13. Datetime"
   ]
  },
  {
   "cell_type": "code",
   "execution_count": 193,
   "id": "e199f12b-7f53-48b6-b9a8-df1ab3f9d729",
   "metadata": {},
   "outputs": [
    {
     "name": "stdout",
     "output_type": "stream",
     "text": [
      "2025-04-23 18:08:40.621831\n"
     ]
    }
   ],
   "source": [
    "# date is not a data type in python. A module named datetime() can be imported to work with dates\n",
    "import datetime\n",
    "x = datetime.datetime.now() # to get the exact date and time at the time of execution\n",
    "print(x)"
   ]
  },
  {
   "cell_type": "code",
   "execution_count": 194,
   "id": "ca3991fb-c95f-42ed-8a2e-05b7d367da56",
   "metadata": {},
   "outputs": [
    {
     "name": "stdout",
     "output_type": "stream",
     "text": [
      "2025\n",
      "Wednesday\n"
     ]
    }
   ],
   "source": [
    "import datetime\n",
    "\n",
    "x = datetime.datetime.now()\n",
    "\n",
    "print(x.year) # to get the year from a given date\n",
    "print(x.strftime(\"%A\")) # to get the dayfrom a given date"
   ]
  },
  {
   "cell_type": "code",
   "execution_count": 195,
   "id": "5051b0a4-2607-453e-a039-075d0a6771bb",
   "metadata": {},
   "outputs": [
    {
     "name": "stdout",
     "output_type": "stream",
     "text": [
      "2009-12-02 00:00:00\n"
     ]
    }
   ],
   "source": [
    "import datetime\n",
    "\n",
    "x = datetime.datetime(2009, 12, 2)\n",
    "print(x)"
   ]
  },
  {
   "cell_type": "code",
   "execution_count": 196,
   "id": "8eebe577-be8e-467d-9354-04c1fce16798",
   "metadata": {},
   "outputs": [],
   "source": [
    "# The datetime() class also takes parameters for time and timezone (hour, minute, second, microsecond, tzone), \n",
    "# but they are optional, and has a default value of 0, (None for timezone)"
   ]
  },
  {
   "cell_type": "code",
   "execution_count": 197,
   "id": "133f15c6-0a59-4272-9e01-d2ff598a7aa9",
   "metadata": {},
   "outputs": [
    {
     "name": "stdout",
     "output_type": "stream",
     "text": [
      "June\n"
     ]
    }
   ],
   "source": [
    "import datetime\n",
    "\n",
    "x = datetime.datetime(2018, 6, 1)\n",
    "print(x.strftime(\"%B\"))"
   ]
  },
  {
   "cell_type": "code",
   "execution_count": 198,
   "id": "61cb5947-af9d-42bf-aa7f-fe34174d88a3",
   "metadata": {},
   "outputs": [
    {
     "data": {
      "text/plain": [
       "'\\nDirective\\tDescription\\tExample\\n%a\\tWeekday, short version\\tWed\\t\\n%A\\tWeekday, full version\\tWednesday\\t\\n%w\\tWeekday as a number 0-6, 0 is Sunday\\t3\\t\\n%d\\tDay of month 01-31\\t31\\t\\n%b\\tMonth name, short version\\tDec\\t\\n%B\\tMonth name, full version\\tDecember\\t\\n%m\\tMonth as a number 01-12\\t12\\t\\n%y\\tYear, short version, without century\\t18\\t\\n%Y\\tYear, full version\\t2018\\t\\n%H\\tHour 00-23\\t17\\t\\n%I\\tHour 00-12\\t05\\t\\n%p\\tAM/PM\\tPM\\t\\n%M\\tMinute 00-59\\t41\\t\\n%S\\tSecond 00-59\\t08\\t\\n%f\\tMicrosecond 000000-999999\\t548513\\t\\n%z\\tUTC offset\\t+0100\\t\\n%Z\\tTimezone\\tCST\\t\\n%j\\tDay number of year 001-366\\t365\\t\\n%U\\tWeek number of year, Sunday as the first day of week, 00-53\\t52\\t\\n%W\\tWeek number of year, Monday as the first day of week, 00-53\\t52\\t\\n%c\\tLocal version of date and time\\tMon Dec 31 17:41:00 2018\\t\\n%C\\tCentury\\t20\\t\\n%x\\tLocal version of date\\t12/31/18\\t\\n%X\\tLocal version of time\\t17:41:00\\t\\n%%\\tA % character\\t%\\t\\n%G\\tISO 8601 year\\t2018\\t\\n%u\\tISO 8601 weekday (1-7)\\t1\\t\\n%V\\tISO 8601 weeknumber (01-53)\\t01'"
      ]
     },
     "execution_count": 198,
     "metadata": {},
     "output_type": "execute_result"
    }
   ],
   "source": [
    "\"\"\"\n",
    "Directive\tDescription\tExample\n",
    "%a\tWeekday, short version\tWed\t\n",
    "%A\tWeekday, full version\tWednesday\t\n",
    "%w\tWeekday as a number 0-6, 0 is Sunday\t3\t\n",
    "%d\tDay of month 01-31\t31\t\n",
    "%b\tMonth name, short version\tDec\t\n",
    "%B\tMonth name, full version\tDecember\t\n",
    "%m\tMonth as a number 01-12\t12\t\n",
    "%y\tYear, short version, without century\t18\t\n",
    "%Y\tYear, full version\t2018\t\n",
    "%H\tHour 00-23\t17\t\n",
    "%I\tHour 00-12\t05\t\n",
    "%p\tAM/PM\tPM\t\n",
    "%M\tMinute 00-59\t41\t\n",
    "%S\tSecond 00-59\t08\t\n",
    "%f\tMicrosecond 000000-999999\t548513\t\n",
    "%z\tUTC offset\t+0100\t\n",
    "%Z\tTimezone\tCST\t\n",
    "%j\tDay number of year 001-366\t365\t\n",
    "%U\tWeek number of year, Sunday as the first day of week, 00-53\t52\t\n",
    "%W\tWeek number of year, Monday as the first day of week, 00-53\t52\t\n",
    "%c\tLocal version of date and time\tMon Dec 31 17:41:00 2018\t\n",
    "%C\tCentury\t20\t\n",
    "%x\tLocal version of date\t12/31/18\t\n",
    "%X\tLocal version of time\t17:41:00\t\n",
    "%%\tA % character\t%\t\n",
    "%G\tISO 8601 year\t2018\t\n",
    "%u\tISO 8601 weekday (1-7)\t1\t\n",
    "%V\tISO 8601 weeknumber (01-53)\t01\"\"\""
   ]
  },
  {
   "cell_type": "markdown",
   "id": "c6cace28-0dea-4e93-b10d-5590891705ed",
   "metadata": {},
   "source": [
    "# 14. Math Functions"
   ]
  },
  {
   "cell_type": "code",
   "execution_count": 200,
   "id": "29d43040-26c5-4a0b-a465-15c10a7dba1b",
   "metadata": {},
   "outputs": [
    {
     "name": "stdout",
     "output_type": "stream",
     "text": [
      "5\n",
      "15\n"
     ]
    }
   ],
   "source": [
    "x = min(5, 10, 15)\n",
    "y = max(5, 10, 15)\n",
    "\n",
    "print(x)\n",
    "print(y)"
   ]
  },
  {
   "cell_type": "code",
   "execution_count": 201,
   "id": "dc659b48-0f47-46b9-b779-e11905c43065",
   "metadata": {},
   "outputs": [
    {
     "name": "stdout",
     "output_type": "stream",
     "text": [
      "7.25\n"
     ]
    }
   ],
   "source": [
    "x = abs(-7.25) # abs() function returns the absolute (positive) value of the specified number\n",
    "print(x)"
   ]
  },
  {
   "cell_type": "code",
   "execution_count": 203,
   "id": "1885174d-4b06-4aa9-909f-2cbd58a833ea",
   "metadata": {},
   "outputs": [
    {
     "name": "stdout",
     "output_type": "stream",
     "text": [
      "64\n"
     ]
    }
   ],
   "source": [
    "x = pow(4, 3) # pow() is the function that returns the value of x to the power of y\n",
    "print(x)"
   ]
  },
  {
   "cell_type": "code",
   "execution_count": 206,
   "id": "e6418c24-4199-4d2d-bf85-ae0b6fc0db0f",
   "metadata": {},
   "outputs": [
    {
     "name": "stdout",
     "output_type": "stream",
     "text": [
      "8.0\n"
     ]
    }
   ],
   "source": [
    "# Python has also a built-in module called math, which extends the list of mathematical functions\n",
    "import math\n",
    "x = math.sqrt(64) # sqrt() is the method to find the square root of a number\n",
    "print(x)"
   ]
  },
  {
   "cell_type": "code",
   "execution_count": 207,
   "id": "97f328fa-786d-4c0b-be53-9b241b0847d6",
   "metadata": {},
   "outputs": [
    {
     "name": "stdout",
     "output_type": "stream",
     "text": [
      "2\n",
      "1\n"
     ]
    }
   ],
   "source": [
    "import math\n",
    "\n",
    "x = math.ceil(1.4) # ceiling i.e., returns the rounded up number\n",
    "y = math.floor(1.6) # floor i.e., returns the rounded down number\n",
    "\n",
    "print(x)\n",
    "print(y)"
   ]
  },
  {
   "cell_type": "code",
   "execution_count": 208,
   "id": "0aeb73c6-8d5f-4146-bcc2-e26451e11d95",
   "metadata": {},
   "outputs": [
    {
     "name": "stdout",
     "output_type": "stream",
     "text": [
      "3.141592653589793\n"
     ]
    }
   ],
   "source": [
    "import math\n",
    "x = math.pi # this returns the value of PI\n",
    "print(x)"
   ]
  },
  {
   "cell_type": "markdown",
   "id": "43abfbe4-b16d-4634-a869-311a42f01695",
   "metadata": {},
   "source": [
    "# 15. JSON"
   ]
  },
  {
   "cell_type": "code",
   "execution_count": 211,
   "id": "59bcca2f-8f08-4962-9971-691c958ac7b5",
   "metadata": {},
   "outputs": [],
   "source": [
    "# JSON is a syntax for storing and exchanging data\n",
    "# JSON is text, written with JavaScript object notation\n",
    "# Python has a built-in package called json, which can be used to work with JSON data"
   ]
  },
  {
   "cell_type": "code",
   "execution_count": 213,
   "id": "8e76042b-ad2a-48b8-a1d0-15cfaa1fecb4",
   "metadata": {},
   "outputs": [],
   "source": [
    "import json"
   ]
  },
  {
   "cell_type": "code",
   "execution_count": 215,
   "id": "72cbb8b5-b3be-48de-a830-b75418cd9c53",
   "metadata": {},
   "outputs": [
    {
     "name": "stdout",
     "output_type": "stream",
     "text": [
      "{'name': 'John', 'age': 30, 'city': 'New York'}\n",
      "30\n",
      "<class 'str'>\n",
      "<class 'dict'>\n"
     ]
    }
   ],
   "source": [
    "# json.load() converts JSON string to python dictionary\n",
    "import json\n",
    "\n",
    "x =  '{ \"name\":\"John\", \"age\":30, \"city\":\"New York\"}'\n",
    "y = json.loads(x)\n",
    "\n",
    "print(y)\n",
    "print(y[\"age\"])\n",
    "print(type(x))\n",
    "print(type(y))"
   ]
  },
  {
   "cell_type": "code",
   "execution_count": 216,
   "id": "6fea2c39-8fac-4595-ba72-870ed10639f1",
   "metadata": {},
   "outputs": [
    {
     "name": "stdout",
     "output_type": "stream",
     "text": [
      "{\"name\": \"John\", \"age\": 30, \"city\": \"New York\"}\n"
     ]
    }
   ],
   "source": [
    "# the other way can be done through json.dumps()\n",
    "import json\n",
    "\n",
    "x = {\n",
    "  \"name\": \"John\",\n",
    "  \"age\": 30,\n",
    "  \"city\": \"New York\"\n",
    "}\n",
    "\n",
    "y = json.dumps(x)\n",
    "print(y)"
   ]
  },
  {
   "cell_type": "code",
   "execution_count": 218,
   "id": "43351aa1-1ae1-4eca-8c32-bcd3334bb572",
   "metadata": {},
   "outputs": [
    {
     "name": "stdout",
     "output_type": "stream",
     "text": [
      "{\"name\": \"John\", \"age\": 30}\n",
      "[\"apple\", \"bananas\"]\n",
      "[\"apple\", \"bananas\"]\n",
      "\"hello\"\n",
      "42\n",
      "31.76\n",
      "true\n",
      "false\n",
      "null\n"
     ]
    }
   ],
   "source": [
    "# convert python objects into json strings\n",
    "import json\n",
    "\n",
    "print(json.dumps({\"name\": \"John\", \"age\": 30}))\n",
    "print(json.dumps([\"apple\", \"bananas\"]))\n",
    "print(json.dumps((\"apple\", \"bananas\")))\n",
    "print(json.dumps(\"hello\"))\n",
    "print(json.dumps(42))\n",
    "print(json.dumps(31.76))\n",
    "print(json.dumps(True))\n",
    "print(json.dumps(False))\n",
    "print(json.dumps(None))"
   ]
  },
  {
   "cell_type": "code",
   "execution_count": 219,
   "id": "c17d3eeb-c01a-4d6e-abed-b0b2812932cf",
   "metadata": {},
   "outputs": [
    {
     "data": {
      "text/plain": [
       "'\\nWhen you convert from Python to JSON, Python objects are converted into the JSON (JavaScript) equivalent:\\n\\nPython\\tJSON\\ndict\\tObject\\nlist\\tArray\\ntuple\\tArray\\nstr\\t    String\\nint\\t    Number\\nfloat\\tNumber\\nTrue\\ttrue\\nFalse\\tfalse\\nNone\\tnull\\n'"
      ]
     },
     "execution_count": 219,
     "metadata": {},
     "output_type": "execute_result"
    }
   ],
   "source": [
    "\"\"\"\n",
    "When you convert from Python to JSON, Python objects are converted into the JSON (JavaScript) equivalent:\n",
    "\n",
    "Python\tJSON\n",
    "dict\tObject\n",
    "list\tArray\n",
    "tuple\tArray\n",
    "str\t    String\n",
    "int\t    Number\n",
    "float\tNumber\n",
    "True\ttrue\n",
    "False\tfalse\n",
    "None\tnull\n",
    "\"\"\""
   ]
  },
  {
   "cell_type": "code",
   "execution_count": 220,
   "id": "941f8426-0b48-4e98-8423-d5dba93e4e14",
   "metadata": {},
   "outputs": [
    {
     "name": "stdout",
     "output_type": "stream",
     "text": [
      "{\"name\": \"John\", \"age\": 30, \"married\": true, \"divorced\": false, \"children\": [\"Ann\", \"Billy\"], \"pets\": null, \"cars\": [{\"model\": \"BMW 230\", \"mpg\": 27.5}, {\"model\": \"Ford Edge\", \"mpg\": 24.1}]}\n"
     ]
    }
   ],
   "source": [
    "import json\n",
    "\n",
    "x = {\n",
    "  \"name\": \"John\",\n",
    "  \"age\": 30,\n",
    "  \"married\": True,\n",
    "  \"divorced\": False,\n",
    "  \"children\": (\"Ann\",\"Billy\"),\n",
    "  \"pets\": None,\n",
    "  \"cars\": [\n",
    "    {\"model\": \"BMW 230\", \"mpg\": 27.5},\n",
    "    {\"model\": \"Ford Edge\", \"mpg\": 24.1}\n",
    "  ]\n",
    "}\n",
    "\n",
    "print(json.dumps(x))"
   ]
  },
  {
   "cell_type": "code",
   "execution_count": 221,
   "id": "bb94675c-417e-462a-90a0-9c293722edf4",
   "metadata": {},
   "outputs": [
    {
     "data": {
      "text/plain": [
       "'{\\n    \"name\": \"John\",\\n    \"age\": 30,\\n    \"married\": true,\\n    \"divorced\": false,\\n    \"children\": [\\n        \"Ann\",\\n        \"Billy\"\\n    ],\\n    \"pets\": null,\\n    \"cars\": [\\n        {\\n            \"model\": \"BMW 230\",\\n            \"mpg\": 27.5\\n        },\\n        {\\n            \"model\": \"Ford Edge\",\\n            \"mpg\": 24.1\\n        }\\n    ]\\n}'"
      ]
     },
     "execution_count": 221,
     "metadata": {},
     "output_type": "execute_result"
    }
   ],
   "source": [
    "json.dumps(x, indent=4)"
   ]
  },
  {
   "cell_type": "code",
   "execution_count": 222,
   "id": "7c8f8497-7e84-4935-8db5-34123390919b",
   "metadata": {},
   "outputs": [
    {
     "data": {
      "text/plain": [
       "'{\\n    \"name\" = \"John\". \\n    \"age\" = 30. \\n    \"married\" = true. \\n    \"divorced\" = false. \\n    \"children\" = [\\n        \"Ann\". \\n        \"Billy\"\\n    ]. \\n    \"pets\" = null. \\n    \"cars\" = [\\n        {\\n            \"model\" = \"BMW 230\". \\n            \"mpg\" = 27.5\\n        }. \\n        {\\n            \"model\" = \"Ford Edge\". \\n            \"mpg\" = 24.1\\n        }\\n    ]\\n}'"
      ]
     },
     "execution_count": 222,
     "metadata": {},
     "output_type": "execute_result"
    }
   ],
   "source": [
    "json.dumps(x, indent=4, separators=(\". \", \" = \"))"
   ]
  },
  {
   "cell_type": "code",
   "execution_count": 223,
   "id": "9e8a20c1-8d30-4113-b5d5-e92a2c2ed63d",
   "metadata": {},
   "outputs": [
    {
     "data": {
      "text/plain": [
       "'{\\n    \"age\": 30,\\n    \"cars\": [\\n        {\\n            \"model\": \"BMW 230\",\\n            \"mpg\": 27.5\\n        },\\n        {\\n            \"model\": \"Ford Edge\",\\n            \"mpg\": 24.1\\n        }\\n    ],\\n    \"children\": [\\n        \"Ann\",\\n        \"Billy\"\\n    ],\\n    \"divorced\": false,\\n    \"married\": true,\\n    \"name\": \"John\",\\n    \"pets\": null\\n}'"
      ]
     },
     "execution_count": 223,
     "metadata": {},
     "output_type": "execute_result"
    }
   ],
   "source": [
    "json.dumps(x, indent=4, sort_keys=True)"
   ]
  },
  {
   "cell_type": "markdown",
   "id": "cb7d7696-3001-4667-8dd3-945ecfc2c24e",
   "metadata": {},
   "source": [
    "# 16. RegEx"
   ]
  },
  {
   "cell_type": "code",
   "execution_count": 225,
   "id": "2011d584-b96b-4696-b401-502da8016302",
   "metadata": {},
   "outputs": [
    {
     "name": "stdout",
     "output_type": "stream",
     "text": [
      "No\n"
     ]
    }
   ],
   "source": [
    "# module \"re\" is used for regular expressions\n",
    "import re\n",
    "\n",
    "txt = \"Kids are watching tv!\"\n",
    "x = re.search(\"I\", txt)\n",
    "if x:\n",
    "    print(\"Yes!\")\n",
    "else:\n",
    "    print(\"No\")"
   ]
  },
  {
   "cell_type": "code",
   "execution_count": 226,
   "id": "52bea8dd-f9bf-4f0e-a29b-afdb9c0198ef",
   "metadata": {},
   "outputs": [
    {
     "name": "stdout",
     "output_type": "stream",
     "text": [
      "Yes!\n"
     ]
    }
   ],
   "source": [
    "import re\n",
    "\n",
    "txt = \"Kids are watching tv\"\n",
    "x = re.search(\"^Kids.*tv$\", txt) # searches to see if the string starts with \"Kids\" and ends with \"tv\"\n",
    "if x:\n",
    "    print(\"Yes!\")\n",
    "else:\n",
    "    print(\"No\")"
   ]
  },
  {
   "cell_type": "code",
   "execution_count": 227,
   "id": "63b964d9-cb5e-4660-8abe-e471b4353196",
   "metadata": {},
   "outputs": [
    {
     "name": "stdout",
     "output_type": "stream",
     "text": [
      "['ai', 'ai']\n"
     ]
    }
   ],
   "source": [
    "# findall() returns the list with all matches\n",
    "import re\n",
    "\n",
    "txt = \"The rain in Spain\"\n",
    "x = re.findall(\"ai\", txt)\n",
    "print(x)"
   ]
  },
  {
   "cell_type": "code",
   "execution_count": 229,
   "id": "577724f4-01f0-4428-8ad3-03c52d30c9dc",
   "metadata": {},
   "outputs": [
    {
     "name": "stdout",
     "output_type": "stream",
     "text": [
      "['Kids', 'are', 'watching', 'tv']\n"
     ]
    },
    {
     "name": "stderr",
     "output_type": "stream",
     "text": [
      "<>:5: SyntaxWarning: invalid escape sequence '\\s'\n",
      "<>:5: SyntaxWarning: invalid escape sequence '\\s'\n",
      "C:\\Users\\chand\\AppData\\Local\\Temp\\ipykernel_33260\\172834219.py:5: SyntaxWarning: invalid escape sequence '\\s'\n",
      "  x = re.split(\"\\s\", txt)\n"
     ]
    }
   ],
   "source": [
    "# to split by whitepace\n",
    "import re\n",
    "\n",
    "txt = \"Kids are watching tv\"\n",
    "x = re.split(\"\\s\", txt)\n",
    "print(x)"
   ]
  },
  {
   "cell_type": "code",
   "execution_count": 230,
   "id": "bec4f0af-1fad-4eb7-9dba-48f1868cada5",
   "metadata": {},
   "outputs": [
    {
     "name": "stdout",
     "output_type": "stream",
     "text": [
      "['The', 'rain in Spain']\n"
     ]
    },
    {
     "name": "stderr",
     "output_type": "stream",
     "text": [
      "<>:5: SyntaxWarning: invalid escape sequence '\\s'\n",
      "<>:5: SyntaxWarning: invalid escape sequence '\\s'\n",
      "C:\\Users\\chand\\AppData\\Local\\Temp\\ipykernel_33260\\2009626886.py:5: SyntaxWarning: invalid escape sequence '\\s'\n",
      "  x = re.split(\"\\s\", txt, 1) # here the number of splits are 1\n"
     ]
    }
   ],
   "source": [
    "# maxsplit helps in defining the number of splits\n",
    "import re\n",
    "\n",
    "txt = \"The rain in Spain\"\n",
    "x = re.split(\"\\s\", txt, 1) # here the number of splits are 1\n",
    "print(x)"
   ]
  },
  {
   "cell_type": "code",
   "execution_count": 231,
   "id": "9e1e7ac1-c4a0-4949-806b-40305ac88c23",
   "metadata": {},
   "outputs": [
    {
     "name": "stdout",
     "output_type": "stream",
     "text": [
      "The r9n in Sp9n\n"
     ]
    }
   ],
   "source": [
    "# sub() is for substituting\n",
    "import re\n",
    "\n",
    "txt = \"The rain in Spain\"\n",
    "x = re.sub(\"ai\", \"9\", txt)\n",
    "print(x)"
   ]
  },
  {
   "cell_type": "code",
   "execution_count": 233,
   "id": "ae8d35ea-40e4-4e39-97b1-924452bb2600",
   "metadata": {},
   "outputs": [
    {
     "name": "stdout",
     "output_type": "stream",
     "text": [
      "The9rain9in Spain\n"
     ]
    },
    {
     "name": "stderr",
     "output_type": "stream",
     "text": [
      "<>:4: SyntaxWarning: invalid escape sequence '\\s'\n",
      "<>:4: SyntaxWarning: invalid escape sequence '\\s'\n",
      "C:\\Users\\chand\\AppData\\Local\\Temp\\ipykernel_33260\\1326721785.py:4: SyntaxWarning: invalid escape sequence '\\s'\n",
      "  x = re.sub(\"\\s\", \"9\", txt, 2) # whitespace character is replaced only for the first two instances\n"
     ]
    }
   ],
   "source": [
    "import re\n",
    "\n",
    "txt = \"The rain in Spain\"\n",
    "x = re.sub(\"\\s\", \"9\", txt, 2) # whitespace character is replaced only for the first two instances\n",
    "print(x)"
   ]
  },
  {
   "cell_type": "code",
   "execution_count": 234,
   "id": "0b95f355-9db5-4799-b660-e7efbf759e37",
   "metadata": {},
   "outputs": [
    {
     "name": "stdout",
     "output_type": "stream",
     "text": [
      "['a', 'a', 'c']\n"
     ]
    }
   ],
   "source": [
    "import re\n",
    "\n",
    "txt = \"Kids are watching tv\"\n",
    "x = re.findall(\"[a-c]\", txt)\n",
    "\n",
    "print(x)"
   ]
  },
  {
   "cell_type": "code",
   "execution_count": 235,
   "id": "e83b03ff-e390-48e6-affa-ba76a68ed6f2",
   "metadata": {},
   "outputs": [
    {
     "name": "stdout",
     "output_type": "stream",
     "text": [
      "['4', '7']\n"
     ]
    },
    {
     "name": "stderr",
     "output_type": "stream",
     "text": [
      "<>:3: SyntaxWarning: invalid escape sequence '\\d'\n",
      "<>:3: SyntaxWarning: invalid escape sequence '\\d'\n",
      "C:\\Users\\chand\\AppData\\Local\\Temp\\ipykernel_33260\\1936868513.py:3: SyntaxWarning: invalid escape sequence '\\d'\n",
      "  x = re.findall(\"\\d\", txt)\n"
     ]
    }
   ],
   "source": [
    "import re\n",
    "txt = \"Viva has completed 47 pct of course\"\n",
    "x = re.findall(\"\\d\", txt)\n",
    "\n",
    "print(x)"
   ]
  },
  {
   "cell_type": "code",
   "execution_count": 236,
   "id": "2a5dca9f-f1c0-425e-8f10-43e7a9b34b1b",
   "metadata": {},
   "outputs": [
    {
     "name": "stdout",
     "output_type": "stream",
     "text": [
      "['still']\n"
     ]
    }
   ],
   "source": [
    "import re\n",
    "txt = \"Kids are still watching tv\"\n",
    "x = re.findall(\"s...l\", txt)\n",
    "print(x)"
   ]
  },
  {
   "cell_type": "code",
   "execution_count": 237,
   "id": "fd78ef92-06e2-47d5-9bdf-73e94c01b36a",
   "metadata": {},
   "outputs": [
    {
     "data": {
      "text/plain": [
       "'\\nchar   descp                                                  example\\n^\\t   Starts with\\t                                          \"^hello\"\\t\\n$\\t   Ends with\\t                                          \"planet$\"\\t\\n*\\t   Zero or more occurrences\\t                              \"he.*o\"\\t\\n+\\t   One or more occurrences\\t                              \"he.+o\"\\t\\n?\\t   Zero or one occurrences\\t                              \"he.?o\"\\t\\n{}\\t   Exactly the specified number of occurrences\\t          \"he.{2}o\"\\t\\n|\\t   Either or\\t                                          \"falls|stays\"\\t\\n()\\t   Capture and group\\n'"
      ]
     },
     "execution_count": 237,
     "metadata": {},
     "output_type": "execute_result"
    }
   ],
   "source": [
    "# using finall() all the below tasks can be accomplished using specific characters metioned\n",
    "\"\"\"\n",
    "char   descp                                                  example\n",
    "^\t   Starts with\t                                          \"^hello\"\t\n",
    "$\t   Ends with\t                                          \"planet$\"\t\n",
    "*\t   Zero or more occurrences\t                              \"he.*o\"\t\n",
    "+\t   One or more occurrences\t                              \"he.+o\"\t\n",
    "?\t   Zero or one occurrences\t                              \"he.?o\"\t\n",
    "{}\t   Exactly the specified number of occurrences\t          \"he.{2}o\"\t\n",
    "|\t   Either or\t                                          \"falls|stays\"\t\n",
    "()\t   Capture and group\n",
    "\"\"\""
   ]
  },
  {
   "cell_type": "code",
   "execution_count": 238,
   "id": "d8c28c72-276e-498d-9052-9ad5c105510a",
   "metadata": {},
   "outputs": [
    {
     "name": "stdout",
     "output_type": "stream",
     "text": [
      "<re.Match object; span=(5, 7), match='ai'>\n"
     ]
    }
   ],
   "source": [
    "# match object\n",
    "import re\n",
    "\n",
    "txt = \"The rain in Spain\"\n",
    "x = re.search(\"ai\", txt) # returns the span if the match is found, else returns None\n",
    "print(x) "
   ]
  },
  {
   "cell_type": "code",
   "execution_count": 239,
   "id": "43104013-eff0-41ff-95d5-480dab42d8a3",
   "metadata": {},
   "outputs": [
    {
     "name": "stdout",
     "output_type": "stream",
     "text": [
      "(12, 17)\n"
     ]
    }
   ],
   "source": [
    "import re\n",
    "\n",
    "txt = \"The rain in Spain\"\n",
    "x = re.search(r\"\\bS\\w+\", txt) # looks for the expression that starts with capital s\n",
    "print(x.span()) # prints the span - beginning and ending placement of the string"
   ]
  },
  {
   "cell_type": "code",
   "execution_count": 240,
   "id": "b6ce5c79-ac74-4632-a929-4d8eda392c9f",
   "metadata": {},
   "outputs": [
    {
     "name": "stdout",
     "output_type": "stream",
     "text": [
      "The rain in Spain\n"
     ]
    }
   ],
   "source": [
    "import re\n",
    "\n",
    "txt = \"The rain in Spain\"\n",
    "x = re.search(r\"\\bS\\w+\", txt)\n",
    "print(x.string) # actutal string would be printed, if found"
   ]
  },
  {
   "cell_type": "code",
   "execution_count": 241,
   "id": "75f1ef78-c107-4d1c-b4ee-fb9849d5f5b5",
   "metadata": {},
   "outputs": [
    {
     "name": "stdout",
     "output_type": "stream",
     "text": [
      "Spain\n"
     ]
    }
   ],
   "source": [
    "import re\n",
    "\n",
    "txt = \"The rain in Spain\"\n",
    "x = re.search(r\"\\bS\\w+\", txt)\n",
    "print(x.group()) # prints the part of the string where there was a match, if found"
   ]
  },
  {
   "cell_type": "markdown",
   "id": "6e8639ed-e6a1-4dca-87d2-b358a9421ef3",
   "metadata": {},
   "source": [
    "# 17. PIP"
   ]
  },
  {
   "cell_type": "code",
   "execution_count": 246,
   "id": "f61b2681-106c-4170-8f4a-f52cd54327c3",
   "metadata": {},
   "outputs": [
    {
     "name": "stdout",
     "output_type": "stream",
     "text": [
      "Requirement already satisfied: camelcase in c:\\users\\chand\\anaconda3\\lib\\site-packages (0.2)\n"
     ]
    }
   ],
   "source": [
    "# if python version is 3.4 or later, pip is included by default\n",
    "!pip install camelcase"
   ]
  },
  {
   "cell_type": "code",
   "execution_count": 247,
   "id": "3869fbac-79a9-4cbd-b7d4-cb1255ba6415",
   "metadata": {},
   "outputs": [
    {
     "name": "stdout",
     "output_type": "stream",
     "text": [
      "Hello World\n"
     ]
    }
   ],
   "source": [
    "import camelcase\n",
    "\n",
    "c = camelcase.CamelCase()\n",
    "txt = \"hello world\"\n",
    "\n",
    "print(c.hump(txt))"
   ]
  },
  {
   "cell_type": "code",
   "execution_count": 248,
   "id": "ad014f10-a9b1-4c2e-8c0b-6f917ebe7580",
   "metadata": {},
   "outputs": [],
   "source": [
    "# uninstalling also can be done similarly\n",
    "# !pip uninstall camelcase"
   ]
  },
  {
   "cell_type": "code",
   "execution_count": 251,
   "id": "ab14ba1a-ea9a-4492-9e76-2a4385d56f82",
   "metadata": {},
   "outputs": [
    {
     "name": "stdout",
     "output_type": "stream",
     "text": [
      "Package                           Version\n",
      "--------------------------------- ------------------\n",
      "aext-assistant                    4.1.0\n",
      "aext-assistant-server             4.1.0\n",
      "aext-core                         4.1.0\n",
      "aext-core-server                  4.1.0\n",
      "aext-panels                       4.1.0\n",
      "aext-panels-server                4.1.0\n",
      "aext-project-filebrowser-server   4.1.0\n",
      "aext-share-notebook               4.1.0\n",
      "aext-share-notebook-server        4.1.0\n",
      "aext-shared                       4.1.0\n",
      "aext-toolbox                      4.1.0\n",
      "aiobotocore                       2.12.3\n",
      "aiohappyeyeballs                  2.4.0\n",
      "aiohttp                           3.10.5\n",
      "aioitertools                      0.7.1\n",
      "aiosignal                         1.2.0\n",
      "alabaster                         0.7.16\n",
      "alembic                           1.13.3\n",
      "altair                            5.0.1\n",
      "anaconda-anon-usage               0.4.4\n",
      "anaconda-catalogs                 0.2.0\n",
      "anaconda-cli-base                 0.4.1\n",
      "anaconda-client                   1.13.0\n",
      "anaconda-cloud-auth               0.7.2\n",
      "anaconda-navigator                2.6.3\n",
      "anaconda-project                  0.11.1\n",
      "annotated-types                   0.6.0\n",
      "anyio                             4.2.0\n",
      "appdirs                           1.4.4\n",
      "archspec                          0.2.3\n",
      "argon2-cffi                       21.3.0\n",
      "argon2-cffi-bindings              21.2.0\n",
      "arrow                             1.2.3\n",
      "astroid                           2.14.2\n",
      "astropy                           6.1.3\n",
      "astropy-iers-data                 0.2024.9.2.0.33.23\n",
      "asttokens                         2.0.5\n",
      "async-lru                         2.0.4\n",
      "atomicwrites                      1.4.0\n",
      "attrs                             23.1.0\n",
      "Automat                           20.2.0\n",
      "autopep8                          2.0.4\n",
      "Babel                             2.11.0\n",
      "bcrypt                            3.2.0\n",
      "beautifulsoup4                    4.12.3\n",
      "binaryornot                       0.4.4\n",
      "black                             24.8.0\n",
      "bleach                            4.1.0\n",
      "blinker                           1.6.2\n",
      "bokeh                             3.6.0\n",
      "boltons                           23.0.0\n",
      "botocore                          1.34.69\n",
      "Bottleneck                        1.3.7\n",
      "Brotli                            1.0.9\n",
      "cachetools                        5.3.3\n",
      "camelcase                         0.2\n",
      "certifi                           2025.1.31\n",
      "cffi                              1.17.1\n",
      "chardet                           4.0.0\n",
      "charset-normalizer                3.3.2\n",
      "click                             8.1.7\n",
      "cloudpickle                       3.0.0\n",
      "colorama                          0.4.6\n",
      "colorcet                          3.1.0\n",
      "comm                              0.2.1\n",
      "conda                             24.11.3\n",
      "conda-build                       24.9.0\n",
      "conda-content-trust               0.2.0\n",
      "conda_index                       0.5.0\n",
      "conda-libmamba-solver             24.9.0\n",
      "conda-pack                        0.7.1\n",
      "conda-package-handling            2.3.0\n",
      "conda_package_streaming           0.10.0\n",
      "conda-repo-cli                    1.0.114\n",
      "conda-token                       0.5.0+1.g2209e04\n",
      "constantly                        23.10.4\n",
      "contourpy                         1.2.0\n",
      "cookiecutter                      2.6.0\n",
      "cowsay                            6.1\n",
      "cryptography                      43.0.0\n",
      "cssselect                         1.2.0\n",
      "cycler                            0.11.0\n",
      "cytoolz                           0.12.2\n",
      "dask                              2024.8.2\n",
      "dask-expr                         1.1.13\n",
      "datashader                        0.16.3\n",
      "debugpy                           1.6.7\n",
      "decorator                         5.1.1\n",
      "defusedxml                        0.7.1\n",
      "diff-match-patch                  20200713\n",
      "dill                              0.3.8\n",
      "distributed                       2024.8.2\n",
      "distro                            1.9.0\n",
      "docstring-to-markdown             0.11\n",
      "docutils                          0.18.1\n",
      "et-xmlfile                        1.1.0\n",
      "executing                         0.8.3\n",
      "fastjsonschema                    2.16.2\n",
      "filelock                          3.13.1\n",
      "flake8                            7.0.0\n",
      "Flask                             3.0.3\n",
      "fonttools                         4.51.0\n",
      "frozendict                        2.4.2\n",
      "frozenlist                        1.4.0\n",
      "fsspec                            2024.6.1\n",
      "gensim                            4.3.3\n",
      "gitdb                             4.0.7\n",
      "GitPython                         3.1.43\n",
      "greenlet                          3.0.1\n",
      "h11                               0.14.0\n",
      "h5py                              3.11.0\n",
      "HeapDict                          1.0.1\n",
      "holoviews                         1.19.1\n",
      "httpcore                          1.0.2\n",
      "httpx                             0.27.0\n",
      "hvplot                            0.11.0\n",
      "hyperlink                         21.0.0\n",
      "idna                              3.7\n",
      "imagecodecs                       2023.1.23\n",
      "imageio                           2.33.1\n",
      "imagesize                         1.4.1\n",
      "imbalanced-learn                  0.12.3\n",
      "import-ipynb                      0.2\n",
      "importlib-metadata                7.0.1\n",
      "incremental                       22.10.0\n",
      "inflection                        0.5.1\n",
      "iniconfig                         1.1.1\n",
      "intake                            2.0.7\n",
      "intervaltree                      3.1.0\n",
      "ipykernel                         6.28.0\n",
      "ipython                           8.27.0\n",
      "ipython-genutils                  0.2.0\n",
      "ipywidgets                        7.8.1\n",
      "isort                             5.13.2\n",
      "itemadapter                       0.3.0\n",
      "itemloaders                       1.1.0\n",
      "itsdangerous                      2.2.0\n",
      "jaraco.classes                    3.2.1\n",
      "jedi                              0.19.1\n",
      "jellyfish                         1.0.1\n",
      "Jinja2                            3.1.4\n",
      "jmespath                          1.0.1\n",
      "joblib                            1.4.2\n",
      "json5                             0.9.6\n",
      "jsonpatch                         1.33\n",
      "jsonpointer                       2.1\n",
      "jsonschema                        4.23.0\n",
      "jsonschema-specifications         2023.7.1\n",
      "jupyter                           1.0.0\n",
      "jupyter_client                    8.6.0\n",
      "jupyter-console                   6.6.3\n",
      "jupyter_core                      5.7.2\n",
      "jupyter-events                    0.10.0\n",
      "jupyter-lsp                       2.2.0\n",
      "jupyter_server                    2.14.1\n",
      "jupyter_server_terminals          0.4.4\n",
      "jupyterlab                        4.2.5\n",
      "jupyterlab-pygments               0.1.2\n",
      "jupyterlab_server                 2.27.3\n",
      "jupyterlab-widgets                1.0.0\n",
      "keyring                           24.3.1\n",
      "kiwisolver                        1.4.4\n",
      "lazy_loader                       0.4\n",
      "lazy-object-proxy                 1.10.0\n",
      "lckr_jupyterlab_variableinspector 3.1.0\n",
      "libarchive-c                      5.1\n",
      "libmambapy                        1.5.8\n",
      "linkify-it-py                     2.0.0\n",
      "llvmlite                          0.43.0\n",
      "lmdb                              1.4.1\n",
      "locket                            1.0.0\n",
      "lxml                              5.2.1\n",
      "lz4                               4.3.2\n",
      "Mako                              1.2.3\n",
      "Markdown                          3.4.1\n",
      "markdown-it-py                    2.2.0\n",
      "MarkupSafe                        2.1.3\n",
      "matplotlib                        3.9.2\n",
      "matplotlib-inline                 0.1.6\n",
      "mccabe                            0.7.0\n",
      "mdit-py-plugins                   0.3.0\n",
      "mdurl                             0.1.0\n",
      "menuinst                          2.1.2\n",
      "mistune                           2.0.4\n",
      "mkl_fft                           1.3.10\n",
      "mkl_random                        1.2.7\n",
      "mkl-service                       2.4.0\n",
      "more-itertools                    10.3.0\n",
      "mpmath                            1.3.0\n",
      "msgpack                           1.0.3\n",
      "multidict                         6.0.4\n",
      "multipledispatch                  0.6.0\n",
      "mypy                              1.11.2\n",
      "mypy-extensions                   1.0.0\n",
      "mysql-connector-python            9.2.0\n",
      "navigator-updater                 0.5.1\n",
      "nb_conda_kernels                  2.5.2\n",
      "nbclient                          0.8.0\n",
      "nbconvert                         7.16.4\n",
      "nbformat                          5.10.4\n",
      "nest-asyncio                      1.6.0\n",
      "networkx                          3.3\n",
      "nltk                              3.9.1\n",
      "notebook                          7.2.2\n",
      "notebook_shim                     0.2.3\n",
      "numba                             0.60.0\n",
      "numexpr                           2.8.7\n",
      "numpy                             1.26.4\n",
      "numpydoc                          1.7.0\n",
      "openpyxl                          3.1.5\n",
      "overrides                         7.4.0\n",
      "packaging                         24.1\n",
      "pandas                            2.2.2\n",
      "pandocfilters                     1.5.0\n",
      "panel                             1.5.2\n",
      "param                             2.1.1\n",
      "paramiko                          2.8.1\n",
      "parsel                            1.8.1\n",
      "parso                             0.8.3\n",
      "partd                             1.4.1\n",
      "pathspec                          0.10.3\n",
      "patsy                             0.5.6\n",
      "pexpect                           4.8.0\n",
      "pickleshare                       0.7.5\n",
      "pillow                            10.4.0\n",
      "pip                               24.2\n",
      "pkce                              1.0.3\n",
      "pkginfo                           1.10.0\n",
      "platformdirs                      3.10.0\n",
      "plotly                            5.24.1\n",
      "pluggy                            1.0.0\n",
      "ply                               3.11\n",
      "prometheus-client                 0.14.1\n",
      "prompt-toolkit                    3.0.43\n",
      "Protego                           0.1.16\n",
      "protobuf                          4.25.3\n",
      "psutil                            5.9.0\n",
      "ptyprocess                        0.7.0\n",
      "pure-eval                         0.2.2\n",
      "py-cpuinfo                        9.0.0\n",
      "pyarrow                           16.1.0\n",
      "pyasn1                            0.4.8\n",
      "pyasn1-modules                    0.2.8\n",
      "pycodestyle                       2.11.1\n",
      "pycosat                           0.6.6\n",
      "pycparser                         2.21\n",
      "pyct                              0.5.0\n",
      "pycurl                            7.45.3\n",
      "pydantic                          2.8.2\n",
      "pydantic_core                     2.20.1\n",
      "pydantic-settings                 2.6.1\n",
      "pydeck                            0.8.0\n",
      "PyDispatcher                      2.0.5\n",
      "pydocstyle                        6.3.0\n",
      "pyerfa                            2.0.1.4\n",
      "pyflakes                          3.2.0\n",
      "Pygments                          2.15.1\n",
      "PyJWT                             2.8.0\n",
      "pylint                            2.16.2\n",
      "pylint-venv                       3.0.3\n",
      "pyls-spyder                       0.4.0\n",
      "PyNaCl                            1.5.0\n",
      "pyodbc                            5.1.0\n",
      "pyOpenSSL                         24.2.1\n",
      "pyparsing                         3.1.2\n",
      "PyQt5                             5.15.10\n",
      "PyQt5-sip                         12.13.0\n",
      "PyQtWebEngine                     5.15.6\n",
      "PySocks                           1.7.1\n",
      "pytest                            7.4.4\n",
      "python-dateutil                   2.9.0.post0\n",
      "python-dotenv                     0.21.0\n",
      "python-json-logger                2.0.7\n",
      "python-lsp-black                  2.0.0\n",
      "python-lsp-jsonrpc                1.1.2\n",
      "python-lsp-server                 1.10.0\n",
      "python-slugify                    5.0.2\n",
      "pytoolconfig                      1.2.6\n",
      "pytz                              2024.1\n",
      "pyviz_comms                       3.0.2\n",
      "PyWavelets                        1.7.0\n",
      "pywin32                           305.1\n",
      "pywin32-ctypes                    0.2.2\n",
      "pywinpty                          2.0.10\n",
      "PyYAML                            6.0.1\n",
      "pyzmq                             25.1.2\n",
      "QDarkStyle                        3.2.3\n",
      "qstylizer                         0.2.2\n",
      "QtAwesome                         1.3.1\n",
      "qtconsole                         5.5.1\n",
      "QtPy                              2.4.1\n",
      "queuelib                          1.6.2\n",
      "readchar                          4.0.5\n",
      "referencing                       0.30.2\n",
      "regex                             2024.9.11\n",
      "requests                          2.32.3\n",
      "requests-file                     1.5.1\n",
      "requests-toolbelt                 1.0.0\n",
      "rfc3339-validator                 0.1.4\n",
      "rfc3986-validator                 0.1.1\n",
      "rich                              13.7.1\n",
      "rope                              1.12.0\n",
      "rpds-py                           0.10.6\n",
      "Rtree                             1.0.1\n",
      "ruamel.yaml                       0.18.6\n",
      "ruamel.yaml.clib                  0.2.8\n",
      "ruamel-yaml-conda                 0.17.21\n",
      "s3fs                              2024.6.1\n",
      "scikit-image                      0.24.0\n",
      "scikit-learn                      1.5.1\n",
      "scipy                             1.13.1\n",
      "Scrapy                            2.11.1\n",
      "seaborn                           0.13.2\n",
      "semver                            3.0.2\n",
      "Send2Trash                        1.8.2\n",
      "sentry-sdk                        2.18.0\n",
      "service-identity                  18.1.0\n",
      "setuptools                        75.1.0\n",
      "shellingham                       1.5.0\n",
      "sip                               6.7.12\n",
      "six                               1.16.0\n",
      "smart-open                        5.2.1\n",
      "smmap                             4.0.0\n",
      "sniffio                           1.3.0\n",
      "snowballstemmer                   2.2.0\n",
      "sortedcontainers                  2.4.0\n",
      "soupsieve                         2.5\n",
      "Sphinx                            7.3.7\n",
      "sphinxcontrib-applehelp           1.0.2\n",
      "sphinxcontrib-devhelp             1.0.2\n",
      "sphinxcontrib-htmlhelp            2.0.0\n",
      "sphinxcontrib-jsmath              1.0.1\n",
      "sphinxcontrib-qthelp              1.0.3\n",
      "sphinxcontrib-serializinghtml     1.1.10\n",
      "spyder                            5.5.1\n",
      "spyder-kernels                    2.5.0\n",
      "SQLAlchemy                        2.0.34\n",
      "stack-data                        0.2.0\n",
      "statsmodels                       0.14.2\n",
      "streamlit                         1.37.1\n",
      "sympy                             1.13.2\n",
      "tables                            3.10.1\n",
      "tabulate                          0.9.0\n",
      "tblib                             1.7.0\n",
      "tenacity                          8.2.3\n",
      "terminado                         0.17.1\n",
      "text-unidecode                    1.3\n",
      "textdistance                      4.2.1\n",
      "threadpoolctl                     3.5.0\n",
      "three-merge                       0.1.1\n",
      "tifffile                          2023.4.12\n",
      "tinycss2                          1.2.1\n",
      "tldextract                        5.1.2\n",
      "toml                              0.10.2\n",
      "tomli                             2.0.1\n",
      "tomlkit                           0.11.1\n",
      "toolz                             0.12.0\n",
      "tornado                           6.4.1\n",
      "tqdm                              4.66.5\n",
      "traitlets                         5.14.3\n",
      "truststore                        0.8.0\n",
      "Twisted                           23.10.0\n",
      "twisted-iocpsupport               1.0.2\n",
      "typer                             0.9.0\n",
      "typing_extensions                 4.11.0\n",
      "tzdata                            2023.3\n",
      "uc-micro-py                       1.0.1\n",
      "ujson                             5.10.0\n",
      "unicodedata2                      15.1.0\n",
      "Unidecode                         1.3.8\n",
      "urllib3                           2.2.3\n",
      "w3lib                             2.1.2\n",
      "watchdog                          4.0.1\n",
      "wcwidth                           0.2.5\n",
      "webencodings                      0.5.1\n",
      "websocket-client                  1.8.0\n",
      "Werkzeug                          3.0.3\n",
      "whatthepatch                      1.0.2\n",
      "wheel                             0.44.0\n",
      "widgetsnbextension                3.6.6\n",
      "win-inet-pton                     1.1.0\n",
      "wrapt                             1.14.1\n",
      "xarray                            2023.6.0\n",
      "xlwings                           0.32.1\n",
      "xyzservices                       2022.9.0\n",
      "yapf                              0.40.2\n",
      "yarl                              1.11.0\n",
      "zict                              3.0.0\n",
      "zipp                              3.17.0\n",
      "zope.interface                    5.4.0\n",
      "zstandard                         0.23.0\n"
     ]
    }
   ],
   "source": [
    "# list of packages installed can be listed\n",
    "!pip list"
   ]
  },
  {
   "cell_type": "markdown",
   "id": "b5000587-0763-408e-b53d-ad047d61d6df",
   "metadata": {},
   "source": [
    "# 18. Try...Except"
   ]
  },
  {
   "cell_type": "code",
   "execution_count": 253,
   "id": "f6bc4adc-bb76-4bdd-a35f-dc768c25b039",
   "metadata": {},
   "outputs": [
    {
     "name": "stdout",
     "output_type": "stream",
     "text": [
      "An exception occured!\n"
     ]
    }
   ],
   "source": [
    "# there could be four parts of try...except\n",
    "# \"try\" block tests a code of block for error\n",
    "# \"except\" block handles the error\n",
    "# \"else\" block executes when there is an error\n",
    "# \"finally\" block executes irrespective of the result from try and except\n",
    "try:\n",
    "    print(xy)\n",
    "except:\n",
    "    print(\"An exception occured!\")\n",
    "\n",
    "# since there is no \"xy\" variable defined, an error occurs and this will cause \"except\" block execution"
   ]
  },
  {
   "cell_type": "code",
   "execution_count": 254,
   "id": "a0852541-d1dc-4eb1-8335-5dc9109fc6b1",
   "metadata": {},
   "outputs": [
    {
     "name": "stdout",
     "output_type": "stream",
     "text": [
      "Variable xy is not defined\n"
     ]
    }
   ],
   "source": [
    "# multiple except block can be added in one code\n",
    "try:\n",
    "    print(xy)\n",
    "except NameError:\n",
    "    print(\"Variable xy is not defined\")\n",
    "except:\n",
    "    print(\"Something else is wrong\")"
   ]
  },
  {
   "cell_type": "code",
   "execution_count": 255,
   "id": "f8069fa0-ef5f-4966-948f-87bde5c0e927",
   "metadata": {},
   "outputs": [
    {
     "name": "stdout",
     "output_type": "stream",
     "text": [
      "Hello\n",
      "Nothing went wrong!\n"
     ]
    }
   ],
   "source": [
    "try:\n",
    "    print(\"Hello\")\n",
    "except:\n",
    "    print(\"Somthing went wrong!\")\n",
    "else:\n",
    "    print(\"Nothing went wrong!\")"
   ]
  },
  {
   "cell_type": "code",
   "execution_count": 256,
   "id": "89211ab1-66c4-4c74-881d-044ad9413624",
   "metadata": {},
   "outputs": [
    {
     "name": "stdout",
     "output_type": "stream",
     "text": [
      "Something went wrong!\n",
      "The 'try...except' is finished\n"
     ]
    }
   ],
   "source": [
    "try:\n",
    "    print(xy)\n",
    "except:\n",
    "    print(\"Something went wrong!\")\n",
    "finally:\n",
    "    print(\"The 'try...except' is finished\")"
   ]
  },
  {
   "cell_type": "code",
   "execution_count": 257,
   "id": "7b5084d6-9c1c-4271-9837-90efefaf279d",
   "metadata": {},
   "outputs": [
    {
     "name": "stdout",
     "output_type": "stream",
     "text": [
      "Something went wrong while writing to the file\n"
     ]
    }
   ],
   "source": [
    "try:\n",
    "    f = open(\"C:/Users/chand/OneDrive/Desktop/Visali_Certifications/Things_to_learn.txt\")\n",
    "    try:\n",
    "        f.write(\"GitHub\")\n",
    "    except:\n",
    "        print(\"Something went wrong while writing to the file\")\n",
    "    finally:\n",
    "        f.close()\n",
    "except:\n",
    "    print(\"Something went wrong while opening the file\")"
   ]
  },
  {
   "cell_type": "code",
   "execution_count": 258,
   "id": "c4158c78-c560-42b8-b018-4f4f91e115e7",
   "metadata": {},
   "outputs": [
    {
     "name": "stdout",
     "output_type": "stream",
     "text": [
      "Something went wrong while opening the file\n"
     ]
    }
   ],
   "source": [
    "try:\n",
    "    f = open(\"C:/Users/chand/OneDrive/Desktop/Visali/test.txt\")\n",
    "    try:\n",
    "        f.write(\"learning try...except\")\n",
    "    except:\n",
    "        print(\"There is no such file!\")\n",
    "    finally:\n",
    "        f.close()\n",
    "except:\n",
    "    print(\"Something went wrong while opening the file\")"
   ]
  },
  {
   "cell_type": "code",
   "execution_count": 259,
   "id": "5b7b5c25-a843-424c-898c-8ad68361da82",
   "metadata": {},
   "outputs": [
    {
     "ename": "Exception",
     "evalue": "Sorry, the number is below zero",
     "output_type": "error",
     "traceback": [
      "\u001b[1;31m---------------------------------------------------------------------------\u001b[0m",
      "\u001b[1;31mException\u001b[0m                                 Traceback (most recent call last)",
      "Cell \u001b[1;32mIn[259], line 5\u001b[0m\n\u001b[0;32m      2\u001b[0m x \u001b[38;5;241m=\u001b[39m \u001b[38;5;241m-\u001b[39m\u001b[38;5;241m2\u001b[39m\n\u001b[0;32m      4\u001b[0m \u001b[38;5;28;01mif\u001b[39;00m x \u001b[38;5;241m<\u001b[39m \u001b[38;5;241m0\u001b[39m:\n\u001b[1;32m----> 5\u001b[0m     \u001b[38;5;28;01mraise\u001b[39;00m \u001b[38;5;167;01mException\u001b[39;00m(\u001b[38;5;124m\"\u001b[39m\u001b[38;5;124mSorry, the number is below zero\u001b[39m\u001b[38;5;124m\"\u001b[39m)\n",
      "\u001b[1;31mException\u001b[0m: Sorry, the number is below zero"
     ]
    }
   ],
   "source": [
    "# raise an exception\n",
    "x = -2\n",
    "\n",
    "if x < 0:\n",
    "    raise Exception(\"Sorry, the number is below zero\")"
   ]
  },
  {
   "cell_type": "code",
   "execution_count": 260,
   "id": "be9f9c31-f68f-487b-acf2-3512c6f3a631",
   "metadata": {},
   "outputs": [
    {
     "ename": "TypeError",
     "evalue": "Only Integers are allowed",
     "output_type": "error",
     "traceback": [
      "\u001b[1;31m---------------------------------------------------------------------------\u001b[0m",
      "\u001b[1;31mTypeError\u001b[0m                                 Traceback (most recent call last)",
      "Cell \u001b[1;32mIn[260], line 4\u001b[0m\n\u001b[0;32m      1\u001b[0m x \u001b[38;5;241m=\u001b[39m \u001b[38;5;124m\"\u001b[39m\u001b[38;5;124mHello\u001b[39m\u001b[38;5;124m\"\u001b[39m\n\u001b[0;32m      3\u001b[0m \u001b[38;5;28;01mif\u001b[39;00m \u001b[38;5;129;01mnot\u001b[39;00m \u001b[38;5;28mtype\u001b[39m(x) \u001b[38;5;129;01mis\u001b[39;00m \u001b[38;5;28mint\u001b[39m:\n\u001b[1;32m----> 4\u001b[0m     \u001b[38;5;28;01mraise\u001b[39;00m \u001b[38;5;167;01mTypeError\u001b[39;00m(\u001b[38;5;124m\"\u001b[39m\u001b[38;5;124mOnly Integers are allowed\u001b[39m\u001b[38;5;124m\"\u001b[39m)\n",
      "\u001b[1;31mTypeError\u001b[0m: Only Integers are allowed"
     ]
    }
   ],
   "source": [
    "x = \"Hello\"\n",
    "\n",
    "if not type(x) is int:\n",
    "    raise TypeError(\"Only Integers are allowed\")"
   ]
  },
  {
   "cell_type": "markdown",
   "id": "eb0cb51e-08c5-4042-a21a-7dd29097147c",
   "metadata": {},
   "source": [
    "# 19. User Input"
   ]
  },
  {
   "cell_type": "code",
   "execution_count": 265,
   "id": "77e21971-2804-4f9b-ab45-9a9fca65a396",
   "metadata": {},
   "outputs": [
    {
     "name": "stdin",
     "output_type": "stream",
     "text": [
      "Enter user name:  Viva\n"
     ]
    },
    {
     "name": "stdout",
     "output_type": "stream",
     "text": [
      "Hello, Viva\n"
     ]
    }
   ],
   "source": [
    "# input() method is used to seek input from the user\n",
    "username = input(\"Enter user name: \")\n",
    "print(\"Hello, \" + username)"
   ]
  },
  {
   "cell_type": "markdown",
   "id": "365783bd-2463-4c74-9fdc-2c2d43f63cc0",
   "metadata": {},
   "source": [
    "# 20. String Formatting"
   ]
  },
  {
   "cell_type": "code",
   "execution_count": 268,
   "id": "2a50df30-4a71-455d-ab0a-a6a7db5b5123",
   "metadata": {},
   "outputs": [
    {
     "name": "stdout",
     "output_type": "stream",
     "text": [
      "The price is 49 dollars\n"
     ]
    }
   ],
   "source": [
    "# f-string is used to format the strings\n",
    "txt = f\"The price is 49 dollars\"\n",
    "print(txt)"
   ]
  },
  {
   "cell_type": "code",
   "execution_count": 270,
   "id": "c4d27f96-9aaf-4227-9237-c99061a0b6c2",
   "metadata": {},
   "outputs": [
    {
     "name": "stdout",
     "output_type": "stream",
     "text": [
      "The price is 59 dollars\n"
     ]
    }
   ],
   "source": [
    "price = 59\n",
    "txt = f\"The price is {price} dollars\" # variable within square brackets {} will be read from the definition\n",
    "print(txt)"
   ]
  },
  {
   "cell_type": "code",
   "execution_count": 272,
   "id": "62592c46-dcda-4729-9b6c-0875039e3244",
   "metadata": {},
   "outputs": [
    {
     "name": "stdout",
     "output_type": "stream",
     "text": [
      "The price is 59.00 dollars\n"
     ]
    }
   ],
   "source": [
    "price = 59\n",
    "txt = f\"The price is {price:.2f} dollars\" # to format the output in float format with two decimal points\n",
    "print(txt)"
   ]
  },
  {
   "cell_type": "code",
   "execution_count": 274,
   "id": "d61d7fcd-ed56-4f34-9b11-aa293f5f6f09",
   "metadata": {},
   "outputs": [
    {
     "name": "stdout",
     "output_type": "stream",
     "text": [
      "The price is 95.00 dollars\n"
     ]
    }
   ],
   "source": [
    "txt = f\"The price is {95:.2f} dollars\"\n",
    "print(txt)"
   ]
  },
  {
   "cell_type": "code",
   "execution_count": 276,
   "id": "057babf0-0d93-4a92-9a1c-e68068933764",
   "metadata": {},
   "outputs": [
    {
     "name": "stdout",
     "output_type": "stream",
     "text": [
      "Total price is 120 dollars\n"
     ]
    }
   ],
   "source": [
    "# f-strings allow math operations\n",
    "txt = f\"Total price is {20 * 6} dollars\"\n",
    "print(txt)"
   ]
  },
  {
   "cell_type": "code",
   "execution_count": 278,
   "id": "eb9859d2-7a9b-4c15-bca0-5aab522e73af",
   "metadata": {},
   "outputs": [
    {
     "name": "stdout",
     "output_type": "stream",
     "text": [
      "Total price is 73.75 dollars \n"
     ]
    }
   ],
   "source": [
    "price = 59\n",
    "tax = 0.25\n",
    "print(f\"Total price is {price + (price * tax)} dollars \")"
   ]
  },
  {
   "cell_type": "code",
   "execution_count": 280,
   "id": "f3631460-94e9-4e60-be19-0bd22e2b9827",
   "metadata": {},
   "outputs": [
    {
     "name": "stdout",
     "output_type": "stream",
     "text": [
      "Tax is 12.5\n"
     ]
    }
   ],
   "source": [
    "# if else can be within the f-string\n",
    "price = 50\n",
    "\n",
    "txt = f\"Tax is {(0.25 * price) if price >= 50 else (0.15 * price)}\"\n",
    "print(txt)"
   ]
  },
  {
   "cell_type": "code",
   "execution_count": 282,
   "id": "74c8d4af-deef-4603-80c7-af2e7090ca4e",
   "metadata": {},
   "outputs": [
    {
     "name": "stdout",
     "output_type": "stream",
     "text": [
      "I love APPLE\n"
     ]
    }
   ],
   "source": [
    "# functions can be executed within f-strings\n",
    "fruit = \"apple\"\n",
    "\n",
    "print(f\"I love {fruit.upper()}\")"
   ]
  },
  {
   "cell_type": "code",
   "execution_count": 284,
   "id": "9e4eb3dd-93da-4de8-bb64-497f8b65ddf5",
   "metadata": {},
   "outputs": [
    {
     "name": "stdout",
     "output_type": "stream",
     "text": [
      "1 kg is 2.2 pounds\n"
     ]
    }
   ],
   "source": [
    "# a function can be called within f string\n",
    "def converter(x):\n",
    "    return x *  2.2\n",
    "\n",
    "print(f\"1 kg is {converter(1)} pounds\")"
   ]
  },
  {
   "cell_type": "code",
   "execution_count": 286,
   "id": "54613d6d-fd25-4dce-b3d3-e5e3aa6dbedd",
   "metadata": {},
   "outputs": [
    {
     "name": "stdout",
     "output_type": "stream",
     "text": [
      "The price is 59,000 dollars\n"
     ]
    }
   ],
   "source": [
    "price = 59000\n",
    "txt = f\"The price is {price:,} dollars\" # formatting to include commas\n",
    "print(txt)"
   ]
  },
  {
   "cell_type": "code",
   "execution_count": 288,
   "id": "4b88b9b3-ba55-4322-91c5-c69c6fb0969e",
   "metadata": {},
   "outputs": [
    {
     "name": "stdout",
     "output_type": "stream",
     "text": [
      "The price is 49 dollars\n"
     ]
    }
   ],
   "source": [
    "# a placeholder can be added\n",
    "price = 49\n",
    "txt = \"The price is {} dollars\"\n",
    "print(txt.format(price))"
   ]
  },
  {
   "cell_type": "code",
   "execution_count": 290,
   "id": "71a951ff-c736-4d47-adad-48ab663684dd",
   "metadata": {},
   "outputs": [
    {
     "name": "stdout",
     "output_type": "stream",
     "text": [
      "I want 3 pieces of item number 567 for 49.00 dollars.\n"
     ]
    }
   ],
   "source": [
    "# multiple placeholders can be added\n",
    "quantity = 3\n",
    "itemno = 567\n",
    "price = 49\n",
    "myorder = \"I want {} pieces of item number {} for {:.2f} dollars.\"\n",
    "print(myorder.format(quantity, itemno, price))"
   ]
  },
  {
   "cell_type": "code",
   "execution_count": 292,
   "id": "5dcb091f-a7c0-4a48-8e92-40acf5a02c4d",
   "metadata": {},
   "outputs": [
    {
     "name": "stdout",
     "output_type": "stream",
     "text": [
      "I want 3 pieces of item number 567 for 49.00 dollars.\n"
     ]
    }
   ],
   "source": [
    "# index numbers can be used within the placeholders\n",
    "quantity = 3\n",
    "itemno = 567\n",
    "price = 49\n",
    "myorder = \"I want {0} pieces of item number {1} for {2:.2f} dollars.\"\n",
    "print(myorder.format(quantity, itemno, price))"
   ]
  },
  {
   "cell_type": "code",
   "execution_count": 294,
   "id": "3f2cfabd-b91e-46cd-9ec8-217bb6c15024",
   "metadata": {},
   "outputs": [
    {
     "name": "stdout",
     "output_type": "stream",
     "text": [
      "His name is John. John is 36 years old.\n"
     ]
    }
   ],
   "source": [
    "age = 36\n",
    "name = \"John\"\n",
    "txt = \"His name is {1}. {1} is {0} years old.\"\n",
    "print(txt.format(age, name))"
   ]
  },
  {
   "cell_type": "code",
   "execution_count": 296,
   "id": "85982eb0-7201-40ba-bde6-442dc0b6eda4",
   "metadata": {},
   "outputs": [
    {
     "name": "stdout",
     "output_type": "stream",
     "text": [
      "I have a Ford, it is a Mustang.\n"
     ]
    }
   ],
   "source": [
    "# names indexes could also be used\n",
    "myorder = \"I have a {carname}, it is a {model}.\"\n",
    "print(myorder.format(carname = \"Ford\", model = \"Mustang\"))"
   ]
  }
 ],
 "metadata": {
  "kernelspec": {
   "display_name": "Python [conda env:base] *",
   "language": "python",
   "name": "conda-base-py"
  },
  "language_info": {
   "codemirror_mode": {
    "name": "ipython",
    "version": 3
   },
   "file_extension": ".py",
   "mimetype": "text/x-python",
   "name": "python",
   "nbconvert_exporter": "python",
   "pygments_lexer": "ipython3",
   "version": "3.12.7"
  }
 },
 "nbformat": 4,
 "nbformat_minor": 5
}
